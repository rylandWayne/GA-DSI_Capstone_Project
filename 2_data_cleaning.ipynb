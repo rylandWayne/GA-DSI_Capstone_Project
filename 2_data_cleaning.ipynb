{
 "cells": [
  {
   "cell_type": "markdown",
   "metadata": {},
   "source": [
    "# California Water Conservation Data Cleaning \n",
    "---"
   ]
  },
  {
   "cell_type": "markdown",
   "metadata": {},
   "source": [
    "[Public Water System Operations Monthly Water Production and Conservation Information](https://data.ca.gov/dataset/drinking-water-public-water-system-operations-monthly-water-production-and-conservation-information)\n",
    "\n",
    "[Data Dictionary](https://data.ca.gov/dataset/drinking-water-public-water-system-operations-monthly-water-production-and-conservation-information/resource/a3aa420d-3553-4891-8bc4-ed01aeaf3e20)\n",
    "\n",
    "[Stream Gage Sites](https://data.cnra.ca.gov/dataset/gspgsmd)\n",
    "\n",
    "[California Electrical Energy Generation](https://www.energy.ca.gov/data-reports/energy-almanac/california-electricity-data/california-electrical-energy-generation)\n",
    "\n",
    "[Well Perforations](https://data.cnra.ca.gov/dataset/periodic-groundwater-level-measurements/resource/f1deaa6d-2cb5-4052-a73f-08a69f26b750)\n",
    "\n",
    "[Periodic Groundwater Level Measurements](https://data.cnra.ca.gov/dataset/periodic-groundwater-level-measurements)\n",
    "\n",
    "[Ground Surface Displacement](https://data.cnra.ca.gov/dataset/wdl-ground-surface-displacement)\n",
    "\n",
    "[Water Conservation Supplier Compliance](https://www.kaggle.com/calepa/water-conservation-supplier-compliance?select=supplier_compliance.csv)"
   ]
  },
  {
   "cell_type": "markdown",
   "metadata": {},
   "source": [
    "#### Imports"
   ]
  },
  {
   "cell_type": "code",
   "execution_count": 277,
   "metadata": {},
   "outputs": [],
   "source": [
    "import pandas as pd \n",
    "import numpy as np \n",
    "import seaborn as sns\n",
    "import datetime\n",
    "import time\n",
    "import matplotlib.pyplot as plt\n",
    "import seaborn as sns\n",
    "from tqdm import tqdm\n",
    "\n",
    "sns.set(style=\"ticks\", context=\"talk\")\n",
    "plt.style.use(\"fivethirtyeight\")"
   ]
  },
  {
   "cell_type": "code",
   "execution_count": 278,
   "metadata": {},
   "outputs": [],
   "source": [
    "# df = pd.read_csv('./datasets/9_GFW_potential_carbon_sequestration/young_forest_sequestration_rate_Griscom_extent.tif')\n",
    "conserv = pd.read_csv('./datasets/conservation_compliance/supplier_compliance.csv')\n",
    "july = pd.read_csv('./datasets/conservation_compliance/july_2016_nonfilers.csv')\n",
    "august = pd.read_csv('./datasets/conservation_compliance/august_2016_nonfilers.csv')\n",
    "groundwater = pd.read_csv('./datasets/groundwater_measurements.csv')\n",
    "water = pd.read_csv('./datasets/water_capacity.csv')\n",
    "subsidence = pd.read_csv('./datasets/continuousgroundsurfacedisplacementdaily.csv')\n",
    "point_displacement =  pd.read_csv('./datasets/continuousgroundsurfacedisplacementpoint.csv')\n",
    "emergency = pd.read_csv('./datasets/uw_emergency_response061521.csv')"
   ]
  },
  {
   "cell_type": "markdown",
   "metadata": {},
   "source": [
    "---\n",
    "## CA Water Conservation Compliance Data\n",
    "---"
   ]
  },
  {
   "cell_type": "code",
   "execution_count": 279,
   "metadata": {
    "scrolled": true
   },
   "outputs": [
    {
     "data": {
      "text/html": [
       "<div>\n",
       "<style scoped>\n",
       "    .dataframe tbody tr th:only-of-type {\n",
       "        vertical-align: middle;\n",
       "    }\n",
       "\n",
       "    .dataframe tbody tr th {\n",
       "        vertical-align: top;\n",
       "    }\n",
       "\n",
       "    .dataframe thead th {\n",
       "        text-align: right;\n",
       "    }\n",
       "</style>\n",
       "<table border=\"1\" class=\"dataframe\">\n",
       "  <thead>\n",
       "    <tr style=\"text-align: right;\">\n",
       "      <th></th>\n",
       "      <th>Supplier Name</th>\n",
       "      <th>Hydrologic Region</th>\n",
       "      <th>State-mandated Conservation Standard - Previous (3/1/2016)</th>\n",
       "      <th>State-mandated Conservation Standard - Current (Effective 6/1/2016)</th>\n",
       "      <th>Did Supplier Self-certify?</th>\n",
       "      <th>Enforceable Cumulative Percent Savings (as compared to 2013) - June 2015-Aug 2016</th>\n",
       "      <th>June 2016 to Aug 2016 Self-certified?</th>\n",
       "      <th>Applicable Cumulative Savings by Supplier (as compared to 2013)</th>\n",
       "      <th>Missed Conservation Standard By</th>\n",
       "      <th>Order Status</th>\n",
       "      <th>Monthly Savings (as compared to 2013) - Aug 2015</th>\n",
       "      <th>Monthly Savings (as compared to 2013) - Aug 2016</th>\n",
       "      <th>Estimated Aug 2016 Monthly R-GPCD</th>\n",
       "      <th>Total Population Served</th>\n",
       "    </tr>\n",
       "  </thead>\n",
       "  <tbody>\n",
       "    <tr>\n",
       "      <th>0</th>\n",
       "      <td>California City  City of</td>\n",
       "      <td>South Lahontan</td>\n",
       "      <td>28%</td>\n",
       "      <td>28%</td>\n",
       "      <td>No</td>\n",
       "      <td>13.1%</td>\n",
       "      <td>18.0%</td>\n",
       "      <td>13.1%</td>\n",
       "      <td>14.9%</td>\n",
       "      <td>C</td>\n",
       "      <td>16.8%</td>\n",
       "      <td>20.5%</td>\n",
       "      <td>148.5</td>\n",
       "      <td>14,120</td>\n",
       "    </tr>\n",
       "    <tr>\n",
       "      <th>1</th>\n",
       "      <td>Yucaipa Valley Water District</td>\n",
       "      <td>South Coast</td>\n",
       "      <td>34%</td>\n",
       "      <td>20%</td>\n",
       "      <td>Yes</td>\n",
       "      <td>18.3%</td>\n",
       "      <td>7.1%</td>\n",
       "      <td>7.1%</td>\n",
       "      <td>12.9%</td>\n",
       "      <td>NaN</td>\n",
       "      <td>26.4%</td>\n",
       "      <td>11.9%</td>\n",
       "      <td>260.0</td>\n",
       "      <td>45,018</td>\n",
       "    </tr>\n",
       "    <tr>\n",
       "      <th>2</th>\n",
       "      <td>Sanger  City of</td>\n",
       "      <td>Tulare Lake</td>\n",
       "      <td>26%</td>\n",
       "      <td>26%</td>\n",
       "      <td>No</td>\n",
       "      <td>17.3%</td>\n",
       "      <td>12.4%</td>\n",
       "      <td>17.3%</td>\n",
       "      <td>8.7%</td>\n",
       "      <td>NaN</td>\n",
       "      <td>38.0%</td>\n",
       "      <td>17.2%</td>\n",
       "      <td>181.1</td>\n",
       "      <td>25,664</td>\n",
       "    </tr>\n",
       "    <tr>\n",
       "      <th>3</th>\n",
       "      <td>Adelanto City of</td>\n",
       "      <td>South Lahontan</td>\n",
       "      <td>16%</td>\n",
       "      <td>16%</td>\n",
       "      <td>No</td>\n",
       "      <td>9.3%</td>\n",
       "      <td>-10.3%</td>\n",
       "      <td>9.3%</td>\n",
       "      <td>6.7%</td>\n",
       "      <td>C</td>\n",
       "      <td>20.5%</td>\n",
       "      <td>-30.6%</td>\n",
       "      <td>125.5</td>\n",
       "      <td>29,023</td>\n",
       "    </tr>\n",
       "    <tr>\n",
       "      <th>4</th>\n",
       "      <td>Red Bluff  City of</td>\n",
       "      <td>Sacramento River</td>\n",
       "      <td>33%</td>\n",
       "      <td>33%</td>\n",
       "      <td>No</td>\n",
       "      <td>27.8%</td>\n",
       "      <td>19.5%</td>\n",
       "      <td>27.8%</td>\n",
       "      <td>5.2%</td>\n",
       "      <td>NaN</td>\n",
       "      <td>42.4%</td>\n",
       "      <td>30.8%</td>\n",
       "      <td>202.9</td>\n",
       "      <td>14,076</td>\n",
       "    </tr>\n",
       "  </tbody>\n",
       "</table>\n",
       "</div>"
      ],
      "text/plain": [
       "                   Supplier Name  Hydrologic Region  \\\n",
       "0       California City  City of     South Lahontan   \n",
       "1  Yucaipa Valley Water District        South Coast   \n",
       "2                Sanger  City of        Tulare Lake   \n",
       "3               Adelanto City of     South Lahontan   \n",
       "4             Red Bluff  City of   Sacramento River   \n",
       "\n",
       "   State-mandated Conservation Standard - Previous (3/1/2016)  \\\n",
       "0                                                28%            \n",
       "1                                                34%            \n",
       "2                                                26%            \n",
       "3                                                16%            \n",
       "4                                                33%            \n",
       "\n",
       "   State-mandated Conservation Standard - Current (Effective 6/1/2016)  \\\n",
       "0                                                28%                     \n",
       "1                                                20%                     \n",
       "2                                                26%                     \n",
       "3                                                16%                     \n",
       "4                                                33%                     \n",
       "\n",
       "   Did Supplier Self-certify?  \\\n",
       "0                          No   \n",
       "1                         Yes   \n",
       "2                          No   \n",
       "3                          No   \n",
       "4                          No   \n",
       "\n",
       "   Enforceable Cumulative Percent Savings (as compared to 2013) - June 2015-Aug 2016  \\\n",
       "0                                              13.1%                                   \n",
       "1                                              18.3%                                   \n",
       "2                                              17.3%                                   \n",
       "3                                               9.3%                                   \n",
       "4                                              27.8%                                   \n",
       "\n",
       "   June 2016 to Aug 2016 Self-certified?  \\\n",
       "0                                  18.0%   \n",
       "1                                   7.1%   \n",
       "2                                  12.4%   \n",
       "3                                 -10.3%   \n",
       "4                                  19.5%   \n",
       "\n",
       "   Applicable Cumulative Savings by Supplier (as compared to 2013)  \\\n",
       "0                                              13.1%                 \n",
       "1                                               7.1%                 \n",
       "2                                              17.3%                 \n",
       "3                                               9.3%                 \n",
       "4                                              27.8%                 \n",
       "\n",
       "   Missed Conservation Standard By  Order Status  \\\n",
       "0                            14.9%             C   \n",
       "1                            12.9%           NaN   \n",
       "2                             8.7%           NaN   \n",
       "3                             6.7%             C   \n",
       "4                             5.2%           NaN   \n",
       "\n",
       "   Monthly Savings (as compared to 2013) - Aug 2015  \\\n",
       "0                                             16.8%   \n",
       "1                                             26.4%   \n",
       "2                                             38.0%   \n",
       "3                                             20.5%   \n",
       "4                                             42.4%   \n",
       "\n",
       "   Monthly Savings (as compared to 2013) - Aug 2016  \\\n",
       "0                                             20.5%   \n",
       "1                                             11.9%   \n",
       "2                                             17.2%   \n",
       "3                                            -30.6%   \n",
       "4                                             30.8%   \n",
       "\n",
       "    Estimated Aug 2016 Monthly R-GPCD  Total Population Served  \n",
       "0                               148.5                   14,120  \n",
       "1                               260.0                   45,018  \n",
       "2                               181.1                   25,664  \n",
       "3                               125.5                   29,023  \n",
       "4                               202.9                   14,076  "
      ]
     },
     "execution_count": 279,
     "metadata": {},
     "output_type": "execute_result"
    }
   ],
   "source": [
    "conserv.head()"
   ]
  },
  {
   "cell_type": "code",
   "execution_count": 280,
   "metadata": {},
   "outputs": [
    {
     "data": {
      "text/plain": [
       "Index(['Supplier Name', ' Hydrologic Region',\n",
       "       ' State-mandated Conservation Standard - Previous (3/1/2016)',\n",
       "       ' State-mandated Conservation Standard - Current (Effective 6/1/2016)',\n",
       "       ' Did Supplier Self-certify?',\n",
       "       ' Enforceable Cumulative Percent Savings (as compared to 2013) - June 2015-Aug 2016',\n",
       "       ' June 2016 to Aug 2016 Self-certified?',\n",
       "       ' Applicable Cumulative Savings by Supplier (as compared to 2013)',\n",
       "       ' Missed Conservation Standard By', ' Order Status',\n",
       "       ' Monthly Savings (as compared to 2013) - Aug 2015',\n",
       "       ' Monthly Savings (as compared to 2013) - Aug 2016',\n",
       "       ' Estimated Aug 2016 Monthly R-GPCD', ' Total Population Served'],\n",
       "      dtype='object')"
      ]
     },
     "execution_count": 280,
     "metadata": {},
     "output_type": "execute_result"
    }
   ],
   "source": [
    "conserv.columns"
   ]
  },
  {
   "cell_type": "code",
   "execution_count": 281,
   "metadata": {
    "scrolled": true
   },
   "outputs": [
    {
     "name": "stdout",
     "output_type": "stream",
     "text": [
      "conserv shape (389, 14)\n",
      "jul shape (4, 2)\n",
      "aug shape (20, 2)\n"
     ]
    }
   ],
   "source": [
    "print(\"conserv shape\", conserv.shape)\n",
    "print(\"jul shape\", july.shape)\n",
    "print(\"aug shape\", august.shape)"
   ]
  },
  {
   "cell_type": "markdown",
   "metadata": {},
   "source": [
    "So the July and August csvs seem mostly useless for now"
   ]
  },
  {
   "cell_type": "markdown",
   "metadata": {},
   "source": [
    "---\n",
    "## CA Water Suppliers Data\n",
    "---"
   ]
  },
  {
   "cell_type": "code",
   "execution_count": 282,
   "metadata": {
    "scrolled": true
   },
   "outputs": [
    {
     "name": "stdout",
     "output_type": "stream",
     "text": [
      "water shape (32425, 25)\n"
     ]
    },
    {
     "data": {
      "text/html": [
       "<div>\n",
       "<style scoped>\n",
       "    .dataframe tbody tr th:only-of-type {\n",
       "        vertical-align: middle;\n",
       "    }\n",
       "\n",
       "    .dataframe tbody tr th {\n",
       "        vertical-align: top;\n",
       "    }\n",
       "\n",
       "    .dataframe thead th {\n",
       "        text-align: right;\n",
       "    }\n",
       "</style>\n",
       "<table border=\"1\" class=\"dataframe\">\n",
       "  <thead>\n",
       "    <tr style=\"text-align: right;\">\n",
       "      <th></th>\n",
       "      <th>supplier_name</th>\n",
       "      <th>public_water_system_id</th>\n",
       "      <th>reporting_month</th>\n",
       "      <th>county</th>\n",
       "      <th>hydrologic_region</th>\n",
       "      <th>climate_zone</th>\n",
       "      <th>total_population_served</th>\n",
       "      <th>reference_2014_population</th>\n",
       "      <th>water_shortage_contingency_stage_invoked</th>\n",
       "      <th>water_shortage_level_indicator</th>\n",
       "      <th>...</th>\n",
       "      <th>reported_preliminary_commercial_agricultural_water</th>\n",
       "      <th>reported_final_commercial_agricultural_water</th>\n",
       "      <th>reported_preliminary_commercial_industrial_and_institutional_water</th>\n",
       "      <th>reported_final_commercial_industrial_and_institutional_water</th>\n",
       "      <th>calculated_total_potable_water_production_gallons_ag_excluded</th>\n",
       "      <th>calculated_total_potable_water_production_gallons_2013_ag_excluded</th>\n",
       "      <th>calculated_commercial_agricultural_water_gallons</th>\n",
       "      <th>calculated_commercial_agricultural_water_gallons_2013</th>\n",
       "      <th>calculated_r_gpcd</th>\n",
       "      <th>qualification</th>\n",
       "    </tr>\n",
       "  </thead>\n",
       "  <tbody>\n",
       "    <tr>\n",
       "      <th>0</th>\n",
       "      <td>East Bay Municipal Utilities District</td>\n",
       "      <td>CA0110005</td>\n",
       "      <td>2021-04-15</td>\n",
       "      <td>Alameda,Contra Costa</td>\n",
       "      <td>San Francisco Bay</td>\n",
       "      <td>3</td>\n",
       "      <td>1400000.0</td>\n",
       "      <td>1379000.0</td>\n",
       "      <td>Stage 0</td>\n",
       "      <td>No</td>\n",
       "      <td>...</td>\n",
       "      <td>NaN</td>\n",
       "      <td>NaN</td>\n",
       "      <td>1026.0</td>\n",
       "      <td>NaN</td>\n",
       "      <td>4.964000e+09</td>\n",
       "      <td>5.418000e+09</td>\n",
       "      <td>0.0</td>\n",
       "      <td>0.0</td>\n",
       "      <td>73.2781</td>\n",
       "      <td>1. To provide contextâ€¦the average R-GPCD for...</td>\n",
       "    </tr>\n",
       "    <tr>\n",
       "      <th>1</th>\n",
       "      <td>East Bay Municipal Utilities District</td>\n",
       "      <td>CA0110005</td>\n",
       "      <td>2021-03-15</td>\n",
       "      <td>Alameda,Contra Costa</td>\n",
       "      <td>San Francisco Bay</td>\n",
       "      <td>3</td>\n",
       "      <td>1400000.0</td>\n",
       "      <td>1379000.0</td>\n",
       "      <td>Stage 0</td>\n",
       "      <td>No</td>\n",
       "      <td>...</td>\n",
       "      <td>NaN</td>\n",
       "      <td>NaN</td>\n",
       "      <td>908.0</td>\n",
       "      <td>NaN</td>\n",
       "      <td>4.221000e+09</td>\n",
       "      <td>4.928000e+09</td>\n",
       "      <td>0.0</td>\n",
       "      <td>0.0</td>\n",
       "      <td>59.3274</td>\n",
       "      <td>1. To provide contextâ€¦the average R-GPCD for...</td>\n",
       "    </tr>\n",
       "    <tr>\n",
       "      <th>2</th>\n",
       "      <td>East Bay Municipal Utilities District</td>\n",
       "      <td>CA0110005</td>\n",
       "      <td>2021-02-15</td>\n",
       "      <td>Alameda,Contra Costa</td>\n",
       "      <td>San Francisco Bay</td>\n",
       "      <td>3</td>\n",
       "      <td>1400000.0</td>\n",
       "      <td>1379000.0</td>\n",
       "      <td>Stage 0</td>\n",
       "      <td>No</td>\n",
       "      <td>...</td>\n",
       "      <td>NaN</td>\n",
       "      <td>NaN</td>\n",
       "      <td>801.0</td>\n",
       "      <td>NaN</td>\n",
       "      <td>3.549000e+09</td>\n",
       "      <td>4.016000e+09</td>\n",
       "      <td>0.0</td>\n",
       "      <td>0.0</td>\n",
       "      <td>55.2268</td>\n",
       "      <td>1. To provide contextâ€¦the average R-GPCD for...</td>\n",
       "    </tr>\n",
       "    <tr>\n",
       "      <th>3</th>\n",
       "      <td>East Bay Municipal Utilities District</td>\n",
       "      <td>CA0110005</td>\n",
       "      <td>2021-01-15</td>\n",
       "      <td>Alameda,Contra Costa</td>\n",
       "      <td>San Francisco Bay</td>\n",
       "      <td>3</td>\n",
       "      <td>1400000.0</td>\n",
       "      <td>1379000.0</td>\n",
       "      <td>Stage 0</td>\n",
       "      <td>No</td>\n",
       "      <td>...</td>\n",
       "      <td>NaN</td>\n",
       "      <td>NaN</td>\n",
       "      <td>902.0</td>\n",
       "      <td>NaN</td>\n",
       "      <td>3.919000e+09</td>\n",
       "      <td>4.099000e+09</td>\n",
       "      <td>0.0</td>\n",
       "      <td>0.0</td>\n",
       "      <td>55.9857</td>\n",
       "      <td>1. To provide contextâ€¦the average R-GPCD for...</td>\n",
       "    </tr>\n",
       "    <tr>\n",
       "      <th>4</th>\n",
       "      <td>East Bay Municipal Utilities District</td>\n",
       "      <td>CA0110005</td>\n",
       "      <td>2020-12-15</td>\n",
       "      <td>Alameda,Contra Costa</td>\n",
       "      <td>San Francisco Bay</td>\n",
       "      <td>3</td>\n",
       "      <td>1450000.0</td>\n",
       "      <td>1379000.0</td>\n",
       "      <td>Stage 0</td>\n",
       "      <td>No</td>\n",
       "      <td>...</td>\n",
       "      <td>NaN</td>\n",
       "      <td>NaN</td>\n",
       "      <td>952.0</td>\n",
       "      <td>579.0</td>\n",
       "      <td>4.169000e+09</td>\n",
       "      <td>4.772000e+09</td>\n",
       "      <td>0.0</td>\n",
       "      <td>0.0</td>\n",
       "      <td>55.6485</td>\n",
       "      <td>1. To provide contextâ€¦the average R-GPCD for...</td>\n",
       "    </tr>\n",
       "  </tbody>\n",
       "</table>\n",
       "<p>5 rows × 25 columns</p>\n",
       "</div>"
      ],
      "text/plain": [
       "                           supplier_name public_water_system_id  \\\n",
       "0  East Bay Municipal Utilities District              CA0110005   \n",
       "1  East Bay Municipal Utilities District              CA0110005   \n",
       "2  East Bay Municipal Utilities District              CA0110005   \n",
       "3  East Bay Municipal Utilities District              CA0110005   \n",
       "4  East Bay Municipal Utilities District              CA0110005   \n",
       "\n",
       "  reporting_month                county  hydrologic_region  climate_zone  \\\n",
       "0      2021-04-15  Alameda,Contra Costa  San Francisco Bay             3   \n",
       "1      2021-03-15  Alameda,Contra Costa  San Francisco Bay             3   \n",
       "2      2021-02-15  Alameda,Contra Costa  San Francisco Bay             3   \n",
       "3      2021-01-15  Alameda,Contra Costa  San Francisco Bay             3   \n",
       "4      2020-12-15  Alameda,Contra Costa  San Francisco Bay             3   \n",
       "\n",
       "   total_population_served  reference_2014_population  \\\n",
       "0                1400000.0                  1379000.0   \n",
       "1                1400000.0                  1379000.0   \n",
       "2                1400000.0                  1379000.0   \n",
       "3                1400000.0                  1379000.0   \n",
       "4                1450000.0                  1379000.0   \n",
       "\n",
       "  water_shortage_contingency_stage_invoked water_shortage_level_indicator  \\\n",
       "0                                  Stage 0                             No   \n",
       "1                                  Stage 0                             No   \n",
       "2                                  Stage 0                             No   \n",
       "3                                  Stage 0                             No   \n",
       "4                                  Stage 0                             No   \n",
       "\n",
       "   ... reported_preliminary_commercial_agricultural_water  \\\n",
       "0  ...                                                NaN   \n",
       "1  ...                                                NaN   \n",
       "2  ...                                                NaN   \n",
       "3  ...                                                NaN   \n",
       "4  ...                                                NaN   \n",
       "\n",
       "   reported_final_commercial_agricultural_water  \\\n",
       "0                                           NaN   \n",
       "1                                           NaN   \n",
       "2                                           NaN   \n",
       "3                                           NaN   \n",
       "4                                           NaN   \n",
       "\n",
       "   reported_preliminary_commercial_industrial_and_institutional_water  \\\n",
       "0                                             1026.0                    \n",
       "1                                              908.0                    \n",
       "2                                              801.0                    \n",
       "3                                              902.0                    \n",
       "4                                              952.0                    \n",
       "\n",
       "   reported_final_commercial_industrial_and_institutional_water  \\\n",
       "0                                                NaN              \n",
       "1                                                NaN              \n",
       "2                                                NaN              \n",
       "3                                                NaN              \n",
       "4                                              579.0              \n",
       "\n",
       "   calculated_total_potable_water_production_gallons_ag_excluded  \\\n",
       "0                                       4.964000e+09               \n",
       "1                                       4.221000e+09               \n",
       "2                                       3.549000e+09               \n",
       "3                                       3.919000e+09               \n",
       "4                                       4.169000e+09               \n",
       "\n",
       "   calculated_total_potable_water_production_gallons_2013_ag_excluded  \\\n",
       "0                                       5.418000e+09                    \n",
       "1                                       4.928000e+09                    \n",
       "2                                       4.016000e+09                    \n",
       "3                                       4.099000e+09                    \n",
       "4                                       4.772000e+09                    \n",
       "\n",
       "   calculated_commercial_agricultural_water_gallons  \\\n",
       "0                                               0.0   \n",
       "1                                               0.0   \n",
       "2                                               0.0   \n",
       "3                                               0.0   \n",
       "4                                               0.0   \n",
       "\n",
       "   calculated_commercial_agricultural_water_gallons_2013  calculated_r_gpcd  \\\n",
       "0                                                0.0                73.2781   \n",
       "1                                                0.0                59.3274   \n",
       "2                                                0.0                55.2268   \n",
       "3                                                0.0                55.9857   \n",
       "4                                                0.0                55.6485   \n",
       "\n",
       "                                       qualification  \n",
       "0  1. To provide contextâ€¦the average R-GPCD for...  \n",
       "1  1. To provide contextâ€¦the average R-GPCD for...  \n",
       "2  1. To provide contextâ€¦the average R-GPCD for...  \n",
       "3  1. To provide contextâ€¦the average R-GPCD for...  \n",
       "4  1. To provide contextâ€¦the average R-GPCD for...  \n",
       "\n",
       "[5 rows x 25 columns]"
      ]
     },
     "execution_count": 282,
     "metadata": {},
     "output_type": "execute_result"
    }
   ],
   "source": [
    "print(\"water shape\", water.shape)\n",
    "water.head()"
   ]
  },
  {
   "cell_type": "code",
   "execution_count": 283,
   "metadata": {},
   "outputs": [],
   "source": [
    "# water.final_percent_residential_use.mean()"
   ]
  },
  {
   "cell_type": "code",
   "execution_count": 284,
   "metadata": {
    "scrolled": true
   },
   "outputs": [
    {
     "data": {
      "text/plain": [
       "Index(['supplier_name', 'public_water_system_id', 'reporting_month', 'county',\n",
       "       'hydrologic_region', 'climate_zone', 'total_population_served',\n",
       "       'reference_2014_population', 'water_shortage_contingency_stage_invoked',\n",
       "       'water_shortage_level_indicator', 'water_production_units',\n",
       "       'reported_preliminary_total_potable_water_production',\n",
       "       'reported_final_total_potable_water_production',\n",
       "       'preliminary_percent_residential_use', 'final_percent_residential_use',\n",
       "       'reported_preliminary_commercial_agricultural_water',\n",
       "       'reported_final_commercial_agricultural_water',\n",
       "       'reported_preliminary_commercial_industrial_and_institutional_water',\n",
       "       'reported_final_commercial_industrial_and_institutional_water',\n",
       "       'calculated_total_potable_water_production_gallons_ag_excluded',\n",
       "       'calculated_total_potable_water_production_gallons_2013_ag_excluded',\n",
       "       'calculated_commercial_agricultural_water_gallons',\n",
       "       'calculated_commercial_agricultural_water_gallons_2013',\n",
       "       'calculated_r_gpcd', 'qualification'],\n",
       "      dtype='object')"
      ]
     },
     "execution_count": 284,
     "metadata": {},
     "output_type": "execute_result"
    }
   ],
   "source": [
    "water.columns"
   ]
  },
  {
   "cell_type": "code",
   "execution_count": 285,
   "metadata": {},
   "outputs": [
    {
     "name": "stdout",
     "output_type": "stream",
     "text": [
      "2021-04-15 00:00:00\n",
      "2014-06-15 00:00:00\n"
     ]
    }
   ],
   "source": [
    "water['reporting_month'] = pd.to_datetime(water['reporting_month'])\n",
    "print(water['reporting_month'].max())\n",
    "print(water['reporting_month'].min())"
   ]
  },
  {
   "cell_type": "code",
   "execution_count": 286,
   "metadata": {},
   "outputs": [
    {
     "data": {
      "text/plain": [
       "supplier_name                                                             0\n",
       "public_water_system_id                                                    0\n",
       "reporting_month                                                           0\n",
       "county                                                                    0\n",
       "hydrologic_region                                                         0\n",
       "climate_zone                                                              0\n",
       "total_population_served                                                   0\n",
       "reference_2014_population                                                 1\n",
       "water_shortage_contingency_stage_invoked                               1529\n",
       "water_shortage_level_indicator                                        28686\n",
       "water_production_units                                                    0\n",
       "reported_preliminary_total_potable_water_production                   30868\n",
       "reported_final_total_potable_water_production                           423\n",
       "preliminary_percent_residential_use                                   30785\n",
       "final_percent_residential_use                                           444\n",
       "reported_preliminary_commercial_agricultural_water                    31332\n",
       "reported_final_commercial_agricultural_water                          19319\n",
       "reported_preliminary_commercial_industrial_and_institutional_water    31010\n",
       "reported_final_commercial_industrial_and_institutional_water           7013\n",
       "calculated_total_potable_water_production_gallons_ag_excluded             0\n",
       "calculated_total_potable_water_production_gallons_2013_ag_excluded        1\n",
       "calculated_commercial_agricultural_water_gallons                          0\n",
       "calculated_commercial_agricultural_water_gallons_2013                     5\n",
       "calculated_r_gpcd                                                         0\n",
       "qualification                                                         20694\n",
       "dtype: int64"
      ]
     },
     "execution_count": 286,
     "metadata": {},
     "output_type": "execute_result"
    }
   ],
   "source": [
    "water.isnull().sum()"
   ]
  },
  {
   "cell_type": "code",
   "execution_count": 287,
   "metadata": {},
   "outputs": [
    {
     "data": {
      "text/plain": [
       "413"
      ]
     },
     "execution_count": 287,
     "metadata": {},
     "output_type": "execute_result"
    }
   ],
   "source": [
    "water.supplier_name.nunique()"
   ]
  },
  {
   "cell_type": "code",
   "execution_count": 288,
   "metadata": {
    "scrolled": true
   },
   "outputs": [
    {
     "data": {
      "text/plain": [
       "0.00      469\n",
       "18.00      60\n",
       "27.00      28\n",
       "39.00      28\n",
       "28.00      28\n",
       "         ... \n",
       "580.70      1\n",
       "240.83      1\n",
       "119.73      1\n",
       "29.57       1\n",
       "111.30      1\n",
       "Name: reported_final_commercial_industrial_and_institutional_water, Length: 16843, dtype: int64"
      ]
     },
     "execution_count": 288,
     "metadata": {},
     "output_type": "execute_result"
    }
   ],
   "source": [
    "water.reported_final_commercial_industrial_and_institutional_water.value_counts()"
   ]
  },
  {
   "cell_type": "code",
   "execution_count": 289,
   "metadata": {
    "scrolled": true
   },
   "outputs": [
    {
     "data": {
      "text/plain": [
       "count    31981.000000\n",
       "mean        69.734913\n",
       "std         15.091413\n",
       "min          0.050000\n",
       "25%         61.370000\n",
       "50%         70.500000\n",
       "75%         80.000000\n",
       "max        121.000000\n",
       "Name: final_percent_residential_use, dtype: float64"
      ]
     },
     "execution_count": 289,
     "metadata": {},
     "output_type": "execute_result"
    }
   ],
   "source": [
    "water.final_percent_residential_use.describe()"
   ]
  },
  {
   "cell_type": "code",
   "execution_count": 290,
   "metadata": {
    "scrolled": false
   },
   "outputs": [
    {
     "data": {
      "text/html": [
       "<div>\n",
       "<style scoped>\n",
       "    .dataframe tbody tr th:only-of-type {\n",
       "        vertical-align: middle;\n",
       "    }\n",
       "\n",
       "    .dataframe tbody tr th {\n",
       "        vertical-align: top;\n",
       "    }\n",
       "\n",
       "    .dataframe thead th {\n",
       "        text-align: right;\n",
       "    }\n",
       "</style>\n",
       "<table border=\"1\" class=\"dataframe\">\n",
       "  <thead>\n",
       "    <tr style=\"text-align: right;\">\n",
       "      <th></th>\n",
       "      <th>supplier_name</th>\n",
       "      <th>public_water_system_id</th>\n",
       "      <th>reporting_month</th>\n",
       "      <th>county</th>\n",
       "      <th>hydrologic_region</th>\n",
       "      <th>climate_zone</th>\n",
       "      <th>total_population_served</th>\n",
       "      <th>reference_2014_population</th>\n",
       "      <th>water_shortage_contingency_stage_invoked</th>\n",
       "      <th>water_shortage_level_indicator</th>\n",
       "      <th>...</th>\n",
       "      <th>reported_preliminary_commercial_agricultural_water</th>\n",
       "      <th>reported_final_commercial_agricultural_water</th>\n",
       "      <th>reported_preliminary_commercial_industrial_and_institutional_water</th>\n",
       "      <th>reported_final_commercial_industrial_and_institutional_water</th>\n",
       "      <th>calculated_total_potable_water_production_gallons_ag_excluded</th>\n",
       "      <th>calculated_total_potable_water_production_gallons_2013_ag_excluded</th>\n",
       "      <th>calculated_commercial_agricultural_water_gallons</th>\n",
       "      <th>calculated_commercial_agricultural_water_gallons_2013</th>\n",
       "      <th>calculated_r_gpcd</th>\n",
       "      <th>qualification</th>\n",
       "    </tr>\n",
       "  </thead>\n",
       "  <tbody>\n",
       "    <tr>\n",
       "      <th>2136</th>\n",
       "      <td>Lake Hemet Municipal Water District</td>\n",
       "      <td>CA3310022</td>\n",
       "      <td>2019-12-15</td>\n",
       "      <td>Riverside</td>\n",
       "      <td>South Coast</td>\n",
       "      <td>10</td>\n",
       "      <td>52914.0</td>\n",
       "      <td>52914.0</td>\n",
       "      <td>3</td>\n",
       "      <td>NaN</td>\n",
       "      <td>...</td>\n",
       "      <td>NaN</td>\n",
       "      <td>NaN</td>\n",
       "      <td>NaN</td>\n",
       "      <td>42.590</td>\n",
       "      <td>129363017.0</td>\n",
       "      <td>258400183.0</td>\n",
       "      <td>0.0</td>\n",
       "      <td>0.0</td>\n",
       "      <td>79.4947</td>\n",
       "      <td>NaN</td>\n",
       "    </tr>\n",
       "    <tr>\n",
       "      <th>7438</th>\n",
       "      <td>Joshua Basin Water District</td>\n",
       "      <td>CA3610025</td>\n",
       "      <td>2019-09-15</td>\n",
       "      <td>San Bernardino</td>\n",
       "      <td>Colorado River</td>\n",
       "      <td>14</td>\n",
       "      <td>9665.0</td>\n",
       "      <td>9514.0</td>\n",
       "      <td>Stage No. 1 (Ordinance 15-9)</td>\n",
       "      <td>NaN</td>\n",
       "      <td>...</td>\n",
       "      <td>NaN</td>\n",
       "      <td>0.0</td>\n",
       "      <td>NaN</td>\n",
       "      <td>18.905</td>\n",
       "      <td>39753874.0</td>\n",
       "      <td>51810377.0</td>\n",
       "      <td>0.0</td>\n",
       "      <td>0.0</td>\n",
       "      <td>140.2690</td>\n",
       "      <td>Total Population Served: On April 11, 2019, JB...</td>\n",
       "    </tr>\n",
       "    <tr>\n",
       "      <th>29001</th>\n",
       "      <td>South Feather Water and Power Agency</td>\n",
       "      <td>CA0410006,CA0410012</td>\n",
       "      <td>2020-11-15</td>\n",
       "      <td>Butte</td>\n",
       "      <td>Sacramento River</td>\n",
       "      <td>11</td>\n",
       "      <td>16770.0</td>\n",
       "      <td>16346.0</td>\n",
       "      <td>0</td>\n",
       "      <td>No</td>\n",
       "      <td>...</td>\n",
       "      <td>0.0</td>\n",
       "      <td>0.0</td>\n",
       "      <td>NaN</td>\n",
       "      <td>15.370</td>\n",
       "      <td>116000000.0</td>\n",
       "      <td>110000000.0</td>\n",
       "      <td>0.0</td>\n",
       "      <td>0.0</td>\n",
       "      <td>253.6280</td>\n",
       "      <td>Because of the fires during September, the met...</td>\n",
       "    </tr>\n",
       "    <tr>\n",
       "      <th>29002</th>\n",
       "      <td>South Feather Water and Power Agency</td>\n",
       "      <td>CA0410006,CA0410012</td>\n",
       "      <td>2020-10-15</td>\n",
       "      <td>Butte</td>\n",
       "      <td>Sacramento River</td>\n",
       "      <td>11</td>\n",
       "      <td>16770.0</td>\n",
       "      <td>16346.0</td>\n",
       "      <td>0</td>\n",
       "      <td>No</td>\n",
       "      <td>...</td>\n",
       "      <td>0.0</td>\n",
       "      <td>0.0</td>\n",
       "      <td>0.0</td>\n",
       "      <td>33.500</td>\n",
       "      <td>205000000.0</td>\n",
       "      <td>164000000.0</td>\n",
       "      <td>0.0</td>\n",
       "      <td>0.0</td>\n",
       "      <td>477.1390</td>\n",
       "      <td>Our customer base was affected by the North Co...</td>\n",
       "    </tr>\n",
       "    <tr>\n",
       "      <th>31607</th>\n",
       "      <td>San Bernardino County Service Area 70J</td>\n",
       "      <td>CA3610125</td>\n",
       "      <td>2020-11-15</td>\n",
       "      <td>San Bernardino</td>\n",
       "      <td>South Coast</td>\n",
       "      <td>14</td>\n",
       "      <td>12451.0</td>\n",
       "      <td>11407.0</td>\n",
       "      <td>0</td>\n",
       "      <td>No</td>\n",
       "      <td>...</td>\n",
       "      <td>NaN</td>\n",
       "      <td>0.0</td>\n",
       "      <td>NaN</td>\n",
       "      <td>0.000</td>\n",
       "      <td>37147063.0</td>\n",
       "      <td>35843657.0</td>\n",
       "      <td>0.0</td>\n",
       "      <td>0.0</td>\n",
       "      <td>110.9050</td>\n",
       "      <td>Report is based on available data due to billi...</td>\n",
       "    </tr>\n",
       "  </tbody>\n",
       "</table>\n",
       "<p>5 rows × 25 columns</p>\n",
       "</div>"
      ],
      "text/plain": [
       "                                supplier_name public_water_system_id  \\\n",
       "2136      Lake Hemet Municipal Water District              CA3310022   \n",
       "7438              Joshua Basin Water District              CA3610025   \n",
       "29001    South Feather Water and Power Agency    CA0410006,CA0410012   \n",
       "29002    South Feather Water and Power Agency    CA0410006,CA0410012   \n",
       "31607  San Bernardino County Service Area 70J              CA3610125   \n",
       "\n",
       "      reporting_month          county hydrologic_region  climate_zone  \\\n",
       "2136       2019-12-15       Riverside       South Coast            10   \n",
       "7438       2019-09-15  San Bernardino    Colorado River            14   \n",
       "29001      2020-11-15           Butte  Sacramento River            11   \n",
       "29002      2020-10-15           Butte  Sacramento River            11   \n",
       "31607      2020-11-15  San Bernardino       South Coast            14   \n",
       "\n",
       "       total_population_served  reference_2014_population  \\\n",
       "2136                   52914.0                    52914.0   \n",
       "7438                    9665.0                     9514.0   \n",
       "29001                  16770.0                    16346.0   \n",
       "29002                  16770.0                    16346.0   \n",
       "31607                  12451.0                    11407.0   \n",
       "\n",
       "      water_shortage_contingency_stage_invoked water_shortage_level_indicator  \\\n",
       "2136                                         3                            NaN   \n",
       "7438              Stage No. 1 (Ordinance 15-9)                            NaN   \n",
       "29001                                        0                             No   \n",
       "29002                                        0                             No   \n",
       "31607                                        0                             No   \n",
       "\n",
       "       ... reported_preliminary_commercial_agricultural_water  \\\n",
       "2136   ...                                                NaN   \n",
       "7438   ...                                                NaN   \n",
       "29001  ...                                                0.0   \n",
       "29002  ...                                                0.0   \n",
       "31607  ...                                                NaN   \n",
       "\n",
       "       reported_final_commercial_agricultural_water  \\\n",
       "2136                                            NaN   \n",
       "7438                                            0.0   \n",
       "29001                                           0.0   \n",
       "29002                                           0.0   \n",
       "31607                                           0.0   \n",
       "\n",
       "       reported_preliminary_commercial_industrial_and_institutional_water  \\\n",
       "2136                                                 NaN                    \n",
       "7438                                                 NaN                    \n",
       "29001                                                NaN                    \n",
       "29002                                                0.0                    \n",
       "31607                                                NaN                    \n",
       "\n",
       "       reported_final_commercial_industrial_and_institutional_water  \\\n",
       "2136                                              42.590              \n",
       "7438                                              18.905              \n",
       "29001                                             15.370              \n",
       "29002                                             33.500              \n",
       "31607                                              0.000              \n",
       "\n",
       "       calculated_total_potable_water_production_gallons_ag_excluded  \\\n",
       "2136                                         129363017.0               \n",
       "7438                                          39753874.0               \n",
       "29001                                        116000000.0               \n",
       "29002                                        205000000.0               \n",
       "31607                                         37147063.0               \n",
       "\n",
       "       calculated_total_potable_water_production_gallons_2013_ag_excluded  \\\n",
       "2136                                         258400183.0                    \n",
       "7438                                          51810377.0                    \n",
       "29001                                        110000000.0                    \n",
       "29002                                        164000000.0                    \n",
       "31607                                         35843657.0                    \n",
       "\n",
       "       calculated_commercial_agricultural_water_gallons  \\\n",
       "2136                                                0.0   \n",
       "7438                                                0.0   \n",
       "29001                                               0.0   \n",
       "29002                                               0.0   \n",
       "31607                                               0.0   \n",
       "\n",
       "       calculated_commercial_agricultural_water_gallons_2013  \\\n",
       "2136                                                 0.0       \n",
       "7438                                                 0.0       \n",
       "29001                                                0.0       \n",
       "29002                                                0.0       \n",
       "31607                                                0.0       \n",
       "\n",
       "       calculated_r_gpcd                                      qualification  \n",
       "2136             79.4947                                                NaN  \n",
       "7438            140.2690  Total Population Served: On April 11, 2019, JB...  \n",
       "29001           253.6280  Because of the fires during September, the met...  \n",
       "29002           477.1390  Our customer base was affected by the North Co...  \n",
       "31607           110.9050  Report is based on available data due to billi...  \n",
       "\n",
       "[5 rows x 25 columns]"
      ]
     },
     "execution_count": 290,
     "metadata": {},
     "output_type": "execute_result"
    }
   ],
   "source": [
    "water[water.final_percent_residential_use > 100]"
   ]
  },
  {
   "cell_type": "markdown",
   "metadata": {},
   "source": [
    "Only 5 entries where residential use exceeds 100%"
   ]
  },
  {
   "cell_type": "code",
   "execution_count": 291,
   "metadata": {
    "scrolled": true
   },
   "outputs": [
    {
     "data": {
      "text/plain": [
       "10"
      ]
     },
     "execution_count": 291,
     "metadata": {},
     "output_type": "execute_result"
    }
   ],
   "source": [
    "len(conserv[' Hydrologic Region'].unique())"
   ]
  },
  {
   "cell_type": "code",
   "execution_count": 292,
   "metadata": {},
   "outputs": [
    {
     "data": {
      "text/plain": [
       "10"
      ]
     },
     "execution_count": 292,
     "metadata": {},
     "output_type": "execute_result"
    }
   ],
   "source": [
    "len(water['hydrologic_region'].unique())"
   ]
  },
  {
   "cell_type": "code",
   "execution_count": 293,
   "metadata": {},
   "outputs": [
    {
     "data": {
      "text/plain": [
       "10"
      ]
     },
     "execution_count": 293,
     "metadata": {},
     "output_type": "execute_result"
    }
   ],
   "source": [
    "true_count = 0\n",
    "for i in conserv[' Hydrologic Region'].unique():\n",
    "    if i in water['hydrologic_region'].unique():\n",
    "        true_count += 1\n",
    "true_count"
   ]
  },
  {
   "cell_type": "markdown",
   "metadata": {},
   "source": [
    "This is good, they match up in totality "
   ]
  },
  {
   "cell_type": "markdown",
   "metadata": {},
   "source": [
    "---\n",
    "## Water Suppliers Cleaning\n",
    "---"
   ]
  },
  {
   "cell_type": "code",
   "execution_count": 294,
   "metadata": {},
   "outputs": [
    {
     "data": {
      "text/plain": [
       "supplier_name                                                            0\n",
       "public_water_system_id                                                   0\n",
       "reporting_month                                                          0\n",
       "county                                                                   0\n",
       "hydrologic_region                                                        0\n",
       "climate_zone                                                             0\n",
       "total_population_served                                                  0\n",
       "reference_2014_population                                                1\n",
       "water_shortage_contingency_stage_invoked                              1529\n",
       "water_production_units                                                   0\n",
       "reported_final_total_potable_water_production                          423\n",
       "final_percent_residential_use                                          444\n",
       "reported_final_commercial_industrial_and_institutional_water          7013\n",
       "calculated_total_potable_water_production_gallons_ag_excluded            0\n",
       "calculated_total_potable_water_production_gallons_2013_ag_excluded       1\n",
       "calculated_commercial_agricultural_water_gallons                         0\n",
       "calculated_commercial_agricultural_water_gallons_2013                    5\n",
       "calculated_r_gpcd                                                        0\n",
       "dtype: int64"
      ]
     },
     "execution_count": 294,
     "metadata": {},
     "output_type": "execute_result"
    }
   ],
   "source": [
    "# dropping columns where over half the \n",
    "water = water.T[water.isnull().sum() < water.shape[0]//2]\n",
    "water = water.T\n",
    "water.isnull().sum()"
   ]
  },
  {
   "cell_type": "code",
   "execution_count": 295,
   "metadata": {},
   "outputs": [
    {
     "data": {
      "text/plain": [
       "413"
      ]
     },
     "execution_count": 295,
     "metadata": {},
     "output_type": "execute_result"
    }
   ],
   "source": [
    "water.supplier_name.nunique()"
   ]
  },
  {
   "cell_type": "code",
   "execution_count": 296,
   "metadata": {
    "scrolled": true
   },
   "outputs": [
    {
     "data": {
      "text/plain": [
       "413"
      ]
     },
     "execution_count": 296,
     "metadata": {},
     "output_type": "execute_result"
    }
   ],
   "source": [
    "water.public_water_system_id.nunique()"
   ]
  },
  {
   "cell_type": "markdown",
   "metadata": {},
   "source": [
    "So these are the same"
   ]
  },
  {
   "cell_type": "code",
   "execution_count": 297,
   "metadata": {},
   "outputs": [
    {
     "data": {
      "text/plain": [
       "712"
      ]
     },
     "execution_count": 297,
     "metadata": {},
     "output_type": "execute_result"
    }
   ],
   "source": [
    "water.water_shortage_contingency_stage_invoked.nunique()"
   ]
  },
  {
   "cell_type": "code",
   "execution_count": 298,
   "metadata": {},
   "outputs": [],
   "source": [
    "wscsi = 'water_shortage_contingency_stage_invoked'\n",
    "water[wscsi] = water[wscsi].str.lower()"
   ]
  },
  {
   "cell_type": "code",
   "execution_count": 299,
   "metadata": {},
   "outputs": [],
   "source": [
    "stages = {\n",
    "    '0': 0,\n",
    "    '1': 1,\n",
    "    '2': 2,\n",
    "    '3': 3,\n",
    "    '4': 4,\n",
    "    '5': 5, \n",
    "    '6': 6\n",
    "}"
   ]
  },
  {
   "cell_type": "code",
   "execution_count": 300,
   "metadata": {},
   "outputs": [],
   "source": [
    "\n",
    "water[wscsi] = water[wscsi].fillna('0')"
   ]
  },
  {
   "cell_type": "code",
   "execution_count": 301,
   "metadata": {},
   "outputs": [],
   "source": [
    "# for i in ['0', '1', '2', '3', '4', '5', '6']:\n",
    "#     water.loc[water[wscsi].str.contains(f'stage {i}'), [wscsi]] = {i}\n",
    "#     water.loc[water[wscsi].str.contains(f'level {i}'), [wscsi]] = {i}\n",
    "#     water.loc[water[wscsi].str.contains(f'phase {i}'), [wscsi]] = {i}\n",
    "    \n",
    "for j in ['none', 'normal', 'standard', 'normal water supply', 'voluntary',]:\n",
    "#           'no stage', 'no wscp invoked']:\n",
    "    water.loc[water[wscsi].str.contains(j), [wscsi]] = \"0\"\n",
    "\n",
    "numbers = {'0': '0', '1': '1', '2': '2', '3': '3', '4': '4', '5':'5', '6':'6', '7': '6',\n",
    "    'i': '1', 'ii': '2', 'iii': '3', 'iv': '4', 'v': '5',\n",
    "    'no': '0',\n",
    "          'one': '1', 'two': '2', 'three': '3', 'four': '4', \n",
    "          'first': '1', 'second': '2', 'third': '3', 'fourth': '4',\n",
    "          '1st': '1', '2nd': '2', '3rd': '3', '4th': '4',\n",
    "          'a': '1', 'b': '2', 'c': '3', 'd': '4',\n",
    "          '1a': '1','1.a': '1','1-a': '1', '1b': '1', '1st of 4': '1', '1 of 4': '1', \n",
    "           '1 - mandatory': '1', \n",
    "           '2a': '2', 'ii-a': '2', '2+': '2',\n",
    "          '3a': '3', '3b': '3', '3c': '3', \n",
    "          '4a': '4', '4th of 4': '4', \n",
    "          'll': '2', }\n",
    "for k in numbers:\n",
    "    water.loc[water[wscsi] == k, [wscsi]] = numbers[k]\n",
    "    water.loc[water[wscsi].str.contains(f'stage {k}'), [wscsi]] = numbers[k]\n",
    "    water.loc[water[wscsi].str.contains(f'level {k}'), [wscsi]] = numbers[k]\n",
    "    water.loc[water[wscsi].str.contains(f'phase {k}'), [wscsi]] = numbers[k]\n",
    "    \n",
    "    water.loc[water[wscsi].str.contains(f'{k} stage'), [wscsi]] = numbers[k]\n",
    "    water.loc[water[wscsi].str.contains(f'{k} level'), [wscsi]] = numbers[k]\n",
    "    water.loc[water[wscsi].str.contains(f'{k} phase'), [wscsi]] = numbers[k]\n"
   ]
  },
  {
   "cell_type": "markdown",
   "metadata": {},
   "source": [
    "This process is mostly comprehensive, if there is good reason to use this column as a feature for modeling I will continue work to clean this column in it's entirety, but as it is there is enough here to look for trends and correlations "
   ]
  },
  {
   "cell_type": "code",
   "execution_count": 302,
   "metadata": {},
   "outputs": [
    {
     "data": {
      "text/plain": [
       "0.9360986892829607"
      ]
     },
     "execution_count": 302,
     "metadata": {},
     "output_type": "execute_result"
    }
   ],
   "source": [
    "water[wscsi].value_counts()[:5].sum() / len(water)"
   ]
  },
  {
   "cell_type": "code",
   "execution_count": 303,
   "metadata": {
    "scrolled": false
   },
   "outputs": [
    {
     "data": {
      "text/plain": [
       "1                                                    10783\n",
       "2                                                     9801\n",
       "0                                                     6070\n",
       "3                                                     3194\n",
       "4                                                      505\n",
       "cpuc rule 14.1                                         197\n",
       "permanent                                              153\n",
       "equivalent mandated compliance                          97\n",
       "statewide emergency conservation                        73\n",
       "restrict use                                            72\n",
       "mandatory                                               63\n",
       "water use efficiency best practices                     58\n",
       "as of june 9, 2016, no longer under a wscp              53\n",
       "basic                                                   51\n",
       "see note                                                50\n",
       "blue                                                    48\n",
       "water watch                                             47\n",
       "6                                                       47\n",
       "permanent restrictions                                  46\n",
       "resolution 2016-18 revised water                        45\n",
       "rescinded june 2017                                     44\n",
       "water supply watch                                      43\n",
       "high                                                    42\n",
       "moderately restricted                                   41\n",
       "n/a - emergency restrictions removed                    39\n",
       "jan 1, 2010                                             27\n",
       "permanent and urgency measures                          27\n",
       "n/a permanent restrictions in place                     25\n",
       "n/a- permanent restrictions in place                    24\n",
       "yellow                                                  20\n",
       "extraordinary                                           19\n",
       "permanent provisions                                    17\n",
       "severly restricted                                      16\n",
       "severely restricted                                     16\n",
       "city of whittier emergency water restrictions           15\n",
       "see qualifying statement below                          15\n",
       "moderate                                                15\n",
       "n/a - permanent water use regs in place                 14\n",
       "allocation                                              14\n",
       "significant water supply shortage                       14\n",
       "resolution 2015-16 emerg. water conservation reg.       13\n",
       "state plan                                              12\n",
       "state                                                   12\n",
       "stage1                                                  11\n",
       "orange                                                  11\n",
       "permanent prohibitions                                  11\n",
       "5                                                       11\n",
       "permanent conservation measures                         11\n",
       "resolution 2016-18 revised water conservation reg       10\n",
       "no wscp invoked                                         10\n",
       "Name: water_shortage_contingency_stage_invoked, dtype: int64"
      ]
     },
     "execution_count": 303,
     "metadata": {},
     "output_type": "execute_result"
    }
   ],
   "source": [
    "water[wscsi].value_counts()[:50]"
   ]
  },
  {
   "cell_type": "code",
   "execution_count": 304,
   "metadata": {
    "scrolled": false
   },
   "outputs": [
    {
     "data": {
      "text/plain": [
       "emergency water conservation resolution no 2014-23    10\n",
       "mandatory stage                                       10\n",
       "restricted use                                         9\n",
       "year round                                             9\n",
       "permanent mandatory                                    8\n",
       "minimal                                                8\n",
       "permanent measures                                     8\n",
       "we haven't                                             8\n",
       "city water conservation                                8\n",
       "n/a - emergency restriction removed                    8\n",
       "permanent water conservation measures                  7\n",
       "swrcb emergency conservation regulations               6\n",
       "the city ordinance has been updated.                   6\n",
       "3c: mandatory waste reduction                          5\n",
       "permanent water conservation                           5\n",
       "state 2                                                5\n",
       "level zero                                             5\n",
       "n/a-permanent restrictions in place                    5\n",
       "permanent water conservation requirements              5\n",
       "as of june 9th, 2016, no longer under a wscp           4\n",
       "no statge                                              4\n",
       "volunteer                                              4\n",
       "n/a - permanent restrictions in place                  4\n",
       "cpuc schedule 14.1                                     4\n",
       "permanent mandatory restrictions                       4\n",
       "4c: mandatory outdoor reduction                        4\n",
       "1-mandatory                                            4\n",
       "stag ii                                                4\n",
       "4b: mandatory outdoor reduction                        4\n",
       "water supply shortage alert                            4\n",
       "see qualification statement below                      4\n",
       "stage                                                  3\n",
       "the city ordinance has been updated                    3\n",
       "refer to qualifying statement below                    3\n",
       "water supply storage alert                             3\n",
       "monitor                                                3\n",
       "water restricions                                      3\n",
       "january 2010                                           3\n",
       "see qualification statement                            3\n",
       "conservation rate                                      3\n",
       "non                                                    3\n",
       "advisory                                               2\n",
       "1_a                                                    2\n",
       "plan 2 of wscp goes to council 8/19/14                 2\n",
       "see qualifying statement                               2\n",
       "city water conservstion                                2\n",
       "cruc rule 14.1                                         2\n",
       "3c:  mandatory waste reduction                         2\n",
       "jan 1, 2010 water conservation ordinance               2\n",
       "cpuc rule14.1                                          2\n",
       "Name: water_shortage_contingency_stage_invoked, dtype: int64"
      ]
     },
     "execution_count": 304,
     "metadata": {},
     "output_type": "execute_result"
    }
   ],
   "source": [
    "water[wscsi].value_counts()[50:100]"
   ]
  },
  {
   "cell_type": "code",
   "execution_count": 305,
   "metadata": {},
   "outputs": [
    {
     "data": {
      "text/plain": [
       "222"
      ]
     },
     "execution_count": 305,
     "metadata": {},
     "output_type": "execute_result"
    }
   ],
   "source": [
    "water.water_shortage_contingency_stage_invoked.nunique()"
   ]
  },
  {
   "cell_type": "code",
   "execution_count": 306,
   "metadata": {},
   "outputs": [
    {
     "data": {
      "text/plain": [
       "1.0    10783\n",
       "2.0     9801\n",
       "0.0     6070\n",
       "3.0     3194\n",
       "4.0      505\n",
       "6.0       47\n",
       "5.0       11\n",
       "Name: water_shortage_contingency_stage_invoked, dtype: int64"
      ]
     },
     "execution_count": 306,
     "metadata": {},
     "output_type": "execute_result"
    }
   ],
   "source": [
    "water[wscsi] = water[wscsi].map(stages)\n",
    "water[wscsi].value_counts()"
   ]
  },
  {
   "cell_type": "markdown",
   "metadata": {},
   "source": [
    "This looks like there are only 3 or 4 stages just recorded in different ways and could be encoded with some effort"
   ]
  },
  {
   "cell_type": "code",
   "execution_count": 307,
   "metadata": {
    "scrolled": false
   },
   "outputs": [
    {
     "data": {
      "text/plain": [
       "9      28486\n",
       "19      1874\n",
       "29       807\n",
       "39       387\n",
       "49       241\n",
       "59       216\n",
       "69       166\n",
       "109       83\n",
       "99        83\n",
       "79        82\n",
       "Name: public_water_system_id, dtype: int64"
      ]
     },
     "execution_count": 307,
     "metadata": {},
     "output_type": "execute_result"
    }
   ],
   "source": [
    "water['public_water_system_id'].map(len).value_counts()"
   ]
  },
  {
   "cell_type": "code",
   "execution_count": 308,
   "metadata": {},
   "outputs": [
    {
     "data": {
      "text/plain": [
       "Placer County Water Agency                               83\n",
       "California-American Water Company Sacramento District    83\n",
       "California Water Service Company Kern River Valley       83\n",
       "Tuolumne Utilities District                              83\n",
       "Sacramento County Water Agency                           82\n",
       "Name: supplier_name, dtype: int64"
      ]
     },
     "execution_count": 308,
     "metadata": {},
     "output_type": "execute_result"
    }
   ],
   "source": [
    "water[water['public_water_system_id'].map(len) > 59]['supplier_name'].value_counts()"
   ]
  },
  {
   "cell_type": "code",
   "execution_count": 309,
   "metadata": {},
   "outputs": [
    {
     "data": {
      "text/html": [
       "<div>\n",
       "<style scoped>\n",
       "    .dataframe tbody tr th:only-of-type {\n",
       "        vertical-align: middle;\n",
       "    }\n",
       "\n",
       "    .dataframe tbody tr th {\n",
       "        vertical-align: top;\n",
       "    }\n",
       "\n",
       "    .dataframe thead th {\n",
       "        text-align: right;\n",
       "    }\n",
       "</style>\n",
       "<table border=\"1\" class=\"dataframe\">\n",
       "  <thead>\n",
       "    <tr style=\"text-align: right;\">\n",
       "      <th></th>\n",
       "      <th>supplier_name</th>\n",
       "      <th>public_water_system_id</th>\n",
       "      <th>reporting_month</th>\n",
       "      <th>county</th>\n",
       "      <th>hydrologic_region</th>\n",
       "      <th>climate_zone</th>\n",
       "      <th>total_population_served</th>\n",
       "      <th>reference_2014_population</th>\n",
       "      <th>water_shortage_contingency_stage_invoked</th>\n",
       "      <th>water_production_units</th>\n",
       "      <th>reported_final_total_potable_water_production</th>\n",
       "      <th>final_percent_residential_use</th>\n",
       "      <th>reported_final_commercial_industrial_and_institutional_water</th>\n",
       "      <th>calculated_total_potable_water_production_gallons_ag_excluded</th>\n",
       "      <th>calculated_total_potable_water_production_gallons_2013_ag_excluded</th>\n",
       "      <th>calculated_commercial_agricultural_water_gallons</th>\n",
       "      <th>calculated_commercial_agricultural_water_gallons_2013</th>\n",
       "      <th>calculated_r_gpcd</th>\n",
       "    </tr>\n",
       "  </thead>\n",
       "  <tbody>\n",
       "    <tr>\n",
       "      <th>7585</th>\n",
       "      <td>Tuolumne Utilities District</td>\n",
       "      <td>CA5510001,CA5510012,CA5500363,CA5510002,CA5510...</td>\n",
       "      <td>2021-04-15</td>\n",
       "      <td>Tuolumne</td>\n",
       "      <td>San Joaquin River</td>\n",
       "      <td>12</td>\n",
       "      <td>31110</td>\n",
       "      <td>28997</td>\n",
       "      <td>1.0</td>\n",
       "      <td>AF</td>\n",
       "      <td>NaN</td>\n",
       "      <td>NaN</td>\n",
       "      <td>NaN</td>\n",
       "      <td>1.12745e+08</td>\n",
       "      <td>1.1307e+08</td>\n",
       "      <td>0</td>\n",
       "      <td>0</td>\n",
       "      <td>83.3534</td>\n",
       "    </tr>\n",
       "    <tr>\n",
       "      <th>7586</th>\n",
       "      <td>Tuolumne Utilities District</td>\n",
       "      <td>CA5510001,CA5510012,CA5500363,CA5510002,CA5510...</td>\n",
       "      <td>2021-03-15</td>\n",
       "      <td>Tuolumne</td>\n",
       "      <td>San Joaquin River</td>\n",
       "      <td>12</td>\n",
       "      <td>31110</td>\n",
       "      <td>28997</td>\n",
       "      <td>1.0</td>\n",
       "      <td>AF</td>\n",
       "      <td>NaN</td>\n",
       "      <td>NaN</td>\n",
       "      <td>NaN</td>\n",
       "      <td>8.66765e+07</td>\n",
       "      <td>9.28677e+07</td>\n",
       "      <td>0</td>\n",
       "      <td>0</td>\n",
       "      <td>53.9251</td>\n",
       "    </tr>\n",
       "    <tr>\n",
       "      <th>7587</th>\n",
       "      <td>Tuolumne Utilities District</td>\n",
       "      <td>CA5510001,CA5510012,CA5500363,CA5510002,CA5510...</td>\n",
       "      <td>2021-02-15</td>\n",
       "      <td>Tuolumne</td>\n",
       "      <td>San Joaquin River</td>\n",
       "      <td>12</td>\n",
       "      <td>31110</td>\n",
       "      <td>28997</td>\n",
       "      <td>1.0</td>\n",
       "      <td>AF</td>\n",
       "      <td>NaN</td>\n",
       "      <td>NaN</td>\n",
       "      <td>NaN</td>\n",
       "      <td>8.60248e+07</td>\n",
       "      <td>7.98336e+07</td>\n",
       "      <td>0</td>\n",
       "      <td>0</td>\n",
       "      <td>59.2539</td>\n",
       "    </tr>\n",
       "    <tr>\n",
       "      <th>7588</th>\n",
       "      <td>Tuolumne Utilities District</td>\n",
       "      <td>CA5510001,CA5510012,CA5500363,CA5510002,CA5510...</td>\n",
       "      <td>2021-01-15</td>\n",
       "      <td>Tuolumne</td>\n",
       "      <td>San Joaquin River</td>\n",
       "      <td>12</td>\n",
       "      <td>31110</td>\n",
       "      <td>28997</td>\n",
       "      <td>1.0</td>\n",
       "      <td>AF</td>\n",
       "      <td>NaN</td>\n",
       "      <td>64</td>\n",
       "      <td>NaN</td>\n",
       "      <td>8.53731e+07</td>\n",
       "      <td>9.41711e+07</td>\n",
       "      <td>0</td>\n",
       "      <td>0</td>\n",
       "      <td>56.6551</td>\n",
       "    </tr>\n",
       "    <tr>\n",
       "      <th>7589</th>\n",
       "      <td>Tuolumne Utilities District</td>\n",
       "      <td>CA5510001,CA5510012,CA5500363,CA5510002,CA5510...</td>\n",
       "      <td>2020-12-15</td>\n",
       "      <td>Tuolumne</td>\n",
       "      <td>San Joaquin River</td>\n",
       "      <td>12</td>\n",
       "      <td>31110</td>\n",
       "      <td>28997</td>\n",
       "      <td>1.0</td>\n",
       "      <td>AF</td>\n",
       "      <td>NaN</td>\n",
       "      <td>NaN</td>\n",
       "      <td>NaN</td>\n",
       "      <td>8.40697e+07</td>\n",
       "      <td>1.06879e+08</td>\n",
       "      <td>0</td>\n",
       "      <td>0</td>\n",
       "      <td>58.4053</td>\n",
       "    </tr>\n",
       "    <tr>\n",
       "      <th>...</th>\n",
       "      <td>...</td>\n",
       "      <td>...</td>\n",
       "      <td>...</td>\n",
       "      <td>...</td>\n",
       "      <td>...</td>\n",
       "      <td>...</td>\n",
       "      <td>...</td>\n",
       "      <td>...</td>\n",
       "      <td>...</td>\n",
       "      <td>...</td>\n",
       "      <td>...</td>\n",
       "      <td>...</td>\n",
       "      <td>...</td>\n",
       "      <td>...</td>\n",
       "      <td>...</td>\n",
       "      <td>...</td>\n",
       "      <td>...</td>\n",
       "      <td>...</td>\n",
       "    </tr>\n",
       "    <tr>\n",
       "      <th>7663</th>\n",
       "      <td>Tuolumne Utilities District</td>\n",
       "      <td>CA5510001,CA5510012,CA5500363,CA5510002,CA5510...</td>\n",
       "      <td>2014-10-15</td>\n",
       "      <td>Tuolumne</td>\n",
       "      <td>San Joaquin River</td>\n",
       "      <td>12</td>\n",
       "      <td>28997</td>\n",
       "      <td>28997</td>\n",
       "      <td>1.0</td>\n",
       "      <td>AF</td>\n",
       "      <td>365.5</td>\n",
       "      <td>81.6</td>\n",
       "      <td>NaN</td>\n",
       "      <td>1.19262e+08</td>\n",
       "      <td>1.4924e+08</td>\n",
       "      <td>0</td>\n",
       "      <td>0</td>\n",
       "      <td>108.262</td>\n",
       "    </tr>\n",
       "    <tr>\n",
       "      <th>7664</th>\n",
       "      <td>Tuolumne Utilities District</td>\n",
       "      <td>CA5510001,CA5510012,CA5500363,CA5510002,CA5510...</td>\n",
       "      <td>2014-09-15</td>\n",
       "      <td>Tuolumne</td>\n",
       "      <td>San Joaquin River</td>\n",
       "      <td>12</td>\n",
       "      <td>28997</td>\n",
       "      <td>28997</td>\n",
       "      <td>NaN</td>\n",
       "      <td>AF</td>\n",
       "      <td>413</td>\n",
       "      <td>81.6</td>\n",
       "      <td>NaN</td>\n",
       "      <td>1.34577e+08</td>\n",
       "      <td>1.87527e+08</td>\n",
       "      <td>0</td>\n",
       "      <td>0</td>\n",
       "      <td>126.237</td>\n",
       "    </tr>\n",
       "    <tr>\n",
       "      <th>7665</th>\n",
       "      <td>Tuolumne Utilities District</td>\n",
       "      <td>CA5510001,CA5510012,CA5500363,CA5510002,CA5510...</td>\n",
       "      <td>2014-08-15</td>\n",
       "      <td>Tuolumne</td>\n",
       "      <td>San Joaquin River</td>\n",
       "      <td>12</td>\n",
       "      <td>28997</td>\n",
       "      <td>28997</td>\n",
       "      <td>0.0</td>\n",
       "      <td>AF</td>\n",
       "      <td>444</td>\n",
       "      <td>81.6</td>\n",
       "      <td>NaN</td>\n",
       "      <td>1.44678e+08</td>\n",
       "      <td>2.1995e+08</td>\n",
       "      <td>0</td>\n",
       "      <td>0</td>\n",
       "      <td>131.334</td>\n",
       "    </tr>\n",
       "    <tr>\n",
       "      <th>7666</th>\n",
       "      <td>Tuolumne Utilities District</td>\n",
       "      <td>CA5510001,CA5510012,CA5500363,CA5510002,CA5510...</td>\n",
       "      <td>2014-07-15</td>\n",
       "      <td>Tuolumne</td>\n",
       "      <td>San Joaquin River</td>\n",
       "      <td>12</td>\n",
       "      <td>28997</td>\n",
       "      <td>28997</td>\n",
       "      <td>1.0</td>\n",
       "      <td>AF</td>\n",
       "      <td>440</td>\n",
       "      <td>81.6</td>\n",
       "      <td>NaN</td>\n",
       "      <td>1.43375e+08</td>\n",
       "      <td>2.35428e+08</td>\n",
       "      <td>0</td>\n",
       "      <td>0</td>\n",
       "      <td>130.151</td>\n",
       "    </tr>\n",
       "    <tr>\n",
       "      <th>7667</th>\n",
       "      <td>Tuolumne Utilities District</td>\n",
       "      <td>CA5510001,CA5510012,CA5500363,CA5510002,CA5510...</td>\n",
       "      <td>2014-06-15</td>\n",
       "      <td>Tuolumne</td>\n",
       "      <td>San Joaquin River</td>\n",
       "      <td>12</td>\n",
       "      <td>28997</td>\n",
       "      <td>28997</td>\n",
       "      <td>1.0</td>\n",
       "      <td>AF</td>\n",
       "      <td>384</td>\n",
       "      <td>81.6</td>\n",
       "      <td>NaN</td>\n",
       "      <td>1.25127e+08</td>\n",
       "      <td>2.00399e+08</td>\n",
       "      <td>0</td>\n",
       "      <td>0</td>\n",
       "      <td>117.373</td>\n",
       "    </tr>\n",
       "  </tbody>\n",
       "</table>\n",
       "<p>83 rows × 18 columns</p>\n",
       "</div>"
      ],
      "text/plain": [
       "                    supplier_name  \\\n",
       "7585  Tuolumne Utilities District   \n",
       "7586  Tuolumne Utilities District   \n",
       "7587  Tuolumne Utilities District   \n",
       "7588  Tuolumne Utilities District   \n",
       "7589  Tuolumne Utilities District   \n",
       "...                           ...   \n",
       "7663  Tuolumne Utilities District   \n",
       "7664  Tuolumne Utilities District   \n",
       "7665  Tuolumne Utilities District   \n",
       "7666  Tuolumne Utilities District   \n",
       "7667  Tuolumne Utilities District   \n",
       "\n",
       "                                 public_water_system_id reporting_month  \\\n",
       "7585  CA5510001,CA5510012,CA5500363,CA5510002,CA5510...      2021-04-15   \n",
       "7586  CA5510001,CA5510012,CA5500363,CA5510002,CA5510...      2021-03-15   \n",
       "7587  CA5510001,CA5510012,CA5500363,CA5510002,CA5510...      2021-02-15   \n",
       "7588  CA5510001,CA5510012,CA5500363,CA5510002,CA5510...      2021-01-15   \n",
       "7589  CA5510001,CA5510012,CA5500363,CA5510002,CA5510...      2020-12-15   \n",
       "...                                                 ...             ...   \n",
       "7663  CA5510001,CA5510012,CA5500363,CA5510002,CA5510...      2014-10-15   \n",
       "7664  CA5510001,CA5510012,CA5500363,CA5510002,CA5510...      2014-09-15   \n",
       "7665  CA5510001,CA5510012,CA5500363,CA5510002,CA5510...      2014-08-15   \n",
       "7666  CA5510001,CA5510012,CA5500363,CA5510002,CA5510...      2014-07-15   \n",
       "7667  CA5510001,CA5510012,CA5500363,CA5510002,CA5510...      2014-06-15   \n",
       "\n",
       "        county  hydrologic_region climate_zone total_population_served  \\\n",
       "7585  Tuolumne  San Joaquin River           12                   31110   \n",
       "7586  Tuolumne  San Joaquin River           12                   31110   \n",
       "7587  Tuolumne  San Joaquin River           12                   31110   \n",
       "7588  Tuolumne  San Joaquin River           12                   31110   \n",
       "7589  Tuolumne  San Joaquin River           12                   31110   \n",
       "...        ...                ...          ...                     ...   \n",
       "7663  Tuolumne  San Joaquin River           12                   28997   \n",
       "7664  Tuolumne  San Joaquin River           12                   28997   \n",
       "7665  Tuolumne  San Joaquin River           12                   28997   \n",
       "7666  Tuolumne  San Joaquin River           12                   28997   \n",
       "7667  Tuolumne  San Joaquin River           12                   28997   \n",
       "\n",
       "     reference_2014_population  water_shortage_contingency_stage_invoked  \\\n",
       "7585                     28997                                       1.0   \n",
       "7586                     28997                                       1.0   \n",
       "7587                     28997                                       1.0   \n",
       "7588                     28997                                       1.0   \n",
       "7589                     28997                                       1.0   \n",
       "...                        ...                                       ...   \n",
       "7663                     28997                                       1.0   \n",
       "7664                     28997                                       NaN   \n",
       "7665                     28997                                       0.0   \n",
       "7666                     28997                                       1.0   \n",
       "7667                     28997                                       1.0   \n",
       "\n",
       "     water_production_units reported_final_total_potable_water_production  \\\n",
       "7585                     AF                                           NaN   \n",
       "7586                     AF                                           NaN   \n",
       "7587                     AF                                           NaN   \n",
       "7588                     AF                                           NaN   \n",
       "7589                     AF                                           NaN   \n",
       "...                     ...                                           ...   \n",
       "7663                     AF                                         365.5   \n",
       "7664                     AF                                           413   \n",
       "7665                     AF                                           444   \n",
       "7666                     AF                                           440   \n",
       "7667                     AF                                           384   \n",
       "\n",
       "     final_percent_residential_use  \\\n",
       "7585                           NaN   \n",
       "7586                           NaN   \n",
       "7587                           NaN   \n",
       "7588                            64   \n",
       "7589                           NaN   \n",
       "...                            ...   \n",
       "7663                          81.6   \n",
       "7664                          81.6   \n",
       "7665                          81.6   \n",
       "7666                          81.6   \n",
       "7667                          81.6   \n",
       "\n",
       "     reported_final_commercial_industrial_and_institutional_water  \\\n",
       "7585                                                NaN             \n",
       "7586                                                NaN             \n",
       "7587                                                NaN             \n",
       "7588                                                NaN             \n",
       "7589                                                NaN             \n",
       "...                                                 ...             \n",
       "7663                                                NaN             \n",
       "7664                                                NaN             \n",
       "7665                                                NaN             \n",
       "7666                                                NaN             \n",
       "7667                                                NaN             \n",
       "\n",
       "     calculated_total_potable_water_production_gallons_ag_excluded  \\\n",
       "7585                                        1.12745e+08              \n",
       "7586                                        8.66765e+07              \n",
       "7587                                        8.60248e+07              \n",
       "7588                                        8.53731e+07              \n",
       "7589                                        8.40697e+07              \n",
       "...                                                 ...              \n",
       "7663                                        1.19262e+08              \n",
       "7664                                        1.34577e+08              \n",
       "7665                                        1.44678e+08              \n",
       "7666                                        1.43375e+08              \n",
       "7667                                        1.25127e+08              \n",
       "\n",
       "     calculated_total_potable_water_production_gallons_2013_ag_excluded  \\\n",
       "7585                                         1.1307e+08                   \n",
       "7586                                        9.28677e+07                   \n",
       "7587                                        7.98336e+07                   \n",
       "7588                                        9.41711e+07                   \n",
       "7589                                        1.06879e+08                   \n",
       "...                                                 ...                   \n",
       "7663                                         1.4924e+08                   \n",
       "7664                                        1.87527e+08                   \n",
       "7665                                         2.1995e+08                   \n",
       "7666                                        2.35428e+08                   \n",
       "7667                                        2.00399e+08                   \n",
       "\n",
       "     calculated_commercial_agricultural_water_gallons  \\\n",
       "7585                                                0   \n",
       "7586                                                0   \n",
       "7587                                                0   \n",
       "7588                                                0   \n",
       "7589                                                0   \n",
       "...                                               ...   \n",
       "7663                                                0   \n",
       "7664                                                0   \n",
       "7665                                                0   \n",
       "7666                                                0   \n",
       "7667                                                0   \n",
       "\n",
       "     calculated_commercial_agricultural_water_gallons_2013 calculated_r_gpcd  \n",
       "7585                                                  0              83.3534  \n",
       "7586                                                  0              53.9251  \n",
       "7587                                                  0              59.2539  \n",
       "7588                                                  0              56.6551  \n",
       "7589                                                  0              58.4053  \n",
       "...                                                 ...                  ...  \n",
       "7663                                                  0              108.262  \n",
       "7664                                                  0              126.237  \n",
       "7665                                                  0              131.334  \n",
       "7666                                                  0              130.151  \n",
       "7667                                                  0              117.373  \n",
       "\n",
       "[83 rows x 18 columns]"
      ]
     },
     "execution_count": 309,
     "metadata": {},
     "output_type": "execute_result"
    }
   ],
   "source": [
    "water[water['public_water_system_id'].map(len) > 100]"
   ]
  },
  {
   "cell_type": "code",
   "execution_count": 310,
   "metadata": {
    "scrolled": false
   },
   "outputs": [
    {
     "data": {
      "text/plain": [
       "7585    [CA5510001, CA5510012, CA5500363, CA5510002, C...\n",
       "Name: public_water_system_id, dtype: object"
      ]
     },
     "execution_count": 310,
     "metadata": {},
     "output_type": "execute_result"
    }
   ],
   "source": [
    "water[water['public_water_system_id'].map(len) > 100][:1]['public_water_system_id'].str.split(',')"
   ]
  },
  {
   "cell_type": "code",
   "execution_count": 311,
   "metadata": {
    "scrolled": true
   },
   "outputs": [
    {
     "data": {
      "text/plain": [
       "['CA5510001',\n",
       " 'CA5510012',\n",
       " 'CA5500363',\n",
       " 'CA5510002',\n",
       " 'CA5510003',\n",
       " 'CA5510013',\n",
       " 'CA5510015',\n",
       " 'CA5510021',\n",
       " 'CA5510025',\n",
       " 'CA5510028',\n",
       " 'CA5510033']"
      ]
     },
     "execution_count": 311,
     "metadata": {},
     "output_type": "execute_result"
    }
   ],
   "source": [
    "a = water[water['public_water_system_id'].map(len) > 100][:1]['public_water_system_id'].values[0]\n",
    "a = a.split(',')\n",
    "a"
   ]
  },
  {
   "cell_type": "markdown",
   "metadata": {},
   "source": [
    "Checking to see if there is overlap with any other suppliers"
   ]
  },
  {
   "cell_type": "code",
   "execution_count": 312,
   "metadata": {},
   "outputs": [
    {
     "data": {
      "text/plain": [
       "Tuolumne Utilities District    83\n",
       "Name: supplier_name, dtype: int64"
      ]
     },
     "execution_count": 312,
     "metadata": {},
     "output_type": "execute_result"
    }
   ],
   "source": [
    "# checking for system id CA5510013\n",
    "water[water['public_water_system_id'].str.contains('CA5510013')]['supplier_name'].value_counts()"
   ]
  },
  {
   "cell_type": "code",
   "execution_count": 313,
   "metadata": {},
   "outputs": [
    {
     "data": {
      "text/plain": [
       "Tuolumne Utilities District    83\n",
       "Name: supplier_name, dtype: int64"
      ]
     },
     "execution_count": 313,
     "metadata": {},
     "output_type": "execute_result"
    }
   ],
   "source": [
    "# checking for system id CA5510001\n",
    "water[water['public_water_system_id'].str.contains('CA5510001')]['supplier_name'].value_counts()"
   ]
  },
  {
   "cell_type": "code",
   "execution_count": 314,
   "metadata": {},
   "outputs": [
    {
     "data": {
      "text/plain": [
       "['CA0510004', 'CA0510005', 'CA0510006', 'CA0510016', 'CA0510017', 'CA0510019']"
      ]
     },
     "execution_count": 314,
     "metadata": {},
     "output_type": "execute_result"
    }
   ],
   "source": [
    "b = water[water['public_water_system_id'].map(len) == 59][:1]['public_water_system_id'].values[0]\n",
    "b = b.split(',')\n",
    "b"
   ]
  },
  {
   "cell_type": "code",
   "execution_count": 315,
   "metadata": {},
   "outputs": [
    {
     "data": {
      "text/plain": [
       "Calaveras County Water District    50\n",
       "Name: supplier_name, dtype: int64"
      ]
     },
     "execution_count": 315,
     "metadata": {},
     "output_type": "execute_result"
    }
   ],
   "source": [
    "# checking for system id CA0510004\n",
    "water[water['public_water_system_id'].str.contains('CA0510004')]['supplier_name'].value_counts()"
   ]
  },
  {
   "cell_type": "code",
   "execution_count": 316,
   "metadata": {},
   "outputs": [
    {
     "data": {
      "text/plain": [
       "'0510004'"
      ]
     },
     "execution_count": 316,
     "metadata": {},
     "output_type": "execute_result"
    }
   ],
   "source": [
    "len(b[0])\n",
    "b[0][2:9]"
   ]
  },
  {
   "cell_type": "markdown",
   "metadata": {},
   "source": [
    "Looks like each one covering multiple system id's is unique and the first value could be used for encoding "
   ]
  },
  {
   "cell_type": "code",
   "execution_count": 317,
   "metadata": {
    "scrolled": true
   },
   "outputs": [
    {
     "data": {
      "text/plain": [
       "0         110005\n",
       "1         110005\n",
       "2         110005\n",
       "3         110005\n",
       "4         110005\n",
       "          ...   \n",
       "32420    1910149\n",
       "32421     410008\n",
       "32422     410008\n",
       "32423     410008\n",
       "32424     410008\n",
       "Name: system_id, Length: 32425, dtype: int64"
      ]
     },
     "execution_count": 317,
     "metadata": {},
     "output_type": "execute_result"
    }
   ],
   "source": [
    "water['system_id'] = water['public_water_system_id'].map(lambda x: int(str(x)[2:9]))\n",
    "water.system_id"
   ]
  },
  {
   "cell_type": "code",
   "execution_count": null,
   "metadata": {},
   "outputs": [],
   "source": []
  },
  {
   "cell_type": "code",
   "execution_count": 318,
   "metadata": {
    "scrolled": false
   },
   "outputs": [
    {
     "data": {
      "text/html": [
       "<div>\n",
       "<style scoped>\n",
       "    .dataframe tbody tr th:only-of-type {\n",
       "        vertical-align: middle;\n",
       "    }\n",
       "\n",
       "    .dataframe tbody tr th {\n",
       "        vertical-align: top;\n",
       "    }\n",
       "\n",
       "    .dataframe thead th {\n",
       "        text-align: right;\n",
       "    }\n",
       "</style>\n",
       "<table border=\"1\" class=\"dataframe\">\n",
       "  <thead>\n",
       "    <tr style=\"text-align: right;\">\n",
       "      <th></th>\n",
       "      <th>supplier_name</th>\n",
       "      <th>public_water_system_id</th>\n",
       "      <th>reporting_month</th>\n",
       "      <th>county</th>\n",
       "      <th>hydrologic_region</th>\n",
       "      <th>climate_zone</th>\n",
       "      <th>total_population_served</th>\n",
       "      <th>reference_2014_population</th>\n",
       "      <th>water_shortage_contingency_stage_invoked</th>\n",
       "      <th>water_production_units</th>\n",
       "      <th>reported_final_total_potable_water_production</th>\n",
       "      <th>final_percent_residential_use</th>\n",
       "      <th>reported_final_commercial_industrial_and_institutional_water</th>\n",
       "      <th>calculated_total_potable_water_production_gallons_ag_excluded</th>\n",
       "      <th>calculated_total_potable_water_production_gallons_2013_ag_excluded</th>\n",
       "      <th>calculated_commercial_agricultural_water_gallons</th>\n",
       "      <th>calculated_commercial_agricultural_water_gallons_2013</th>\n",
       "      <th>calculated_r_gpcd</th>\n",
       "      <th>system_id</th>\n",
       "    </tr>\n",
       "  </thead>\n",
       "  <tbody>\n",
       "    <tr>\n",
       "      <th>0</th>\n",
       "      <td>East Bay Municipal Utilities District</td>\n",
       "      <td>CA0110005</td>\n",
       "      <td>2021-04-15</td>\n",
       "      <td>Alameda,Contra Costa</td>\n",
       "      <td>San Francisco Bay</td>\n",
       "      <td>3</td>\n",
       "      <td>1.4e+06</td>\n",
       "      <td>1.379e+06</td>\n",
       "      <td>0.0</td>\n",
       "      <td>MG</td>\n",
       "      <td>NaN</td>\n",
       "      <td>NaN</td>\n",
       "      <td>NaN</td>\n",
       "      <td>4.964e+09</td>\n",
       "      <td>5.418e+09</td>\n",
       "      <td>0</td>\n",
       "      <td>0</td>\n",
       "      <td>73.2781</td>\n",
       "      <td>110005</td>\n",
       "    </tr>\n",
       "    <tr>\n",
       "      <th>1</th>\n",
       "      <td>East Bay Municipal Utilities District</td>\n",
       "      <td>CA0110005</td>\n",
       "      <td>2021-03-15</td>\n",
       "      <td>Alameda,Contra Costa</td>\n",
       "      <td>San Francisco Bay</td>\n",
       "      <td>3</td>\n",
       "      <td>1.4e+06</td>\n",
       "      <td>1.379e+06</td>\n",
       "      <td>0.0</td>\n",
       "      <td>MG</td>\n",
       "      <td>NaN</td>\n",
       "      <td>NaN</td>\n",
       "      <td>NaN</td>\n",
       "      <td>4.221e+09</td>\n",
       "      <td>4.928e+09</td>\n",
       "      <td>0</td>\n",
       "      <td>0</td>\n",
       "      <td>59.3274</td>\n",
       "      <td>110005</td>\n",
       "    </tr>\n",
       "    <tr>\n",
       "      <th>2</th>\n",
       "      <td>East Bay Municipal Utilities District</td>\n",
       "      <td>CA0110005</td>\n",
       "      <td>2021-02-15</td>\n",
       "      <td>Alameda,Contra Costa</td>\n",
       "      <td>San Francisco Bay</td>\n",
       "      <td>3</td>\n",
       "      <td>1.4e+06</td>\n",
       "      <td>1.379e+06</td>\n",
       "      <td>0.0</td>\n",
       "      <td>MG</td>\n",
       "      <td>NaN</td>\n",
       "      <td>NaN</td>\n",
       "      <td>NaN</td>\n",
       "      <td>3.549e+09</td>\n",
       "      <td>4.016e+09</td>\n",
       "      <td>0</td>\n",
       "      <td>0</td>\n",
       "      <td>55.2268</td>\n",
       "      <td>110005</td>\n",
       "    </tr>\n",
       "    <tr>\n",
       "      <th>3</th>\n",
       "      <td>East Bay Municipal Utilities District</td>\n",
       "      <td>CA0110005</td>\n",
       "      <td>2021-01-15</td>\n",
       "      <td>Alameda,Contra Costa</td>\n",
       "      <td>San Francisco Bay</td>\n",
       "      <td>3</td>\n",
       "      <td>1.4e+06</td>\n",
       "      <td>1.379e+06</td>\n",
       "      <td>0.0</td>\n",
       "      <td>MG</td>\n",
       "      <td>NaN</td>\n",
       "      <td>NaN</td>\n",
       "      <td>NaN</td>\n",
       "      <td>3.919e+09</td>\n",
       "      <td>4.099e+09</td>\n",
       "      <td>0</td>\n",
       "      <td>0</td>\n",
       "      <td>55.9857</td>\n",
       "      <td>110005</td>\n",
       "    </tr>\n",
       "    <tr>\n",
       "      <th>4</th>\n",
       "      <td>East Bay Municipal Utilities District</td>\n",
       "      <td>CA0110005</td>\n",
       "      <td>2020-12-15</td>\n",
       "      <td>Alameda,Contra Costa</td>\n",
       "      <td>San Francisco Bay</td>\n",
       "      <td>3</td>\n",
       "      <td>1.45e+06</td>\n",
       "      <td>1.379e+06</td>\n",
       "      <td>0.0</td>\n",
       "      <td>MG</td>\n",
       "      <td>4169.2</td>\n",
       "      <td>60</td>\n",
       "      <td>579</td>\n",
       "      <td>4.169e+09</td>\n",
       "      <td>4.772e+09</td>\n",
       "      <td>0</td>\n",
       "      <td>0</td>\n",
       "      <td>55.6485</td>\n",
       "      <td>110005</td>\n",
       "    </tr>\n",
       "  </tbody>\n",
       "</table>\n",
       "</div>"
      ],
      "text/plain": [
       "                           supplier_name public_water_system_id  \\\n",
       "0  East Bay Municipal Utilities District              CA0110005   \n",
       "1  East Bay Municipal Utilities District              CA0110005   \n",
       "2  East Bay Municipal Utilities District              CA0110005   \n",
       "3  East Bay Municipal Utilities District              CA0110005   \n",
       "4  East Bay Municipal Utilities District              CA0110005   \n",
       "\n",
       "  reporting_month                county  hydrologic_region climate_zone  \\\n",
       "0      2021-04-15  Alameda,Contra Costa  San Francisco Bay            3   \n",
       "1      2021-03-15  Alameda,Contra Costa  San Francisco Bay            3   \n",
       "2      2021-02-15  Alameda,Contra Costa  San Francisco Bay            3   \n",
       "3      2021-01-15  Alameda,Contra Costa  San Francisco Bay            3   \n",
       "4      2020-12-15  Alameda,Contra Costa  San Francisco Bay            3   \n",
       "\n",
       "  total_population_served reference_2014_population  \\\n",
       "0                 1.4e+06                 1.379e+06   \n",
       "1                 1.4e+06                 1.379e+06   \n",
       "2                 1.4e+06                 1.379e+06   \n",
       "3                 1.4e+06                 1.379e+06   \n",
       "4                1.45e+06                 1.379e+06   \n",
       "\n",
       "   water_shortage_contingency_stage_invoked water_production_units  \\\n",
       "0                                       0.0                     MG   \n",
       "1                                       0.0                     MG   \n",
       "2                                       0.0                     MG   \n",
       "3                                       0.0                     MG   \n",
       "4                                       0.0                     MG   \n",
       "\n",
       "  reported_final_total_potable_water_production final_percent_residential_use  \\\n",
       "0                                           NaN                           NaN   \n",
       "1                                           NaN                           NaN   \n",
       "2                                           NaN                           NaN   \n",
       "3                                           NaN                           NaN   \n",
       "4                                        4169.2                            60   \n",
       "\n",
       "  reported_final_commercial_industrial_and_institutional_water  \\\n",
       "0                                                NaN             \n",
       "1                                                NaN             \n",
       "2                                                NaN             \n",
       "3                                                NaN             \n",
       "4                                                579             \n",
       "\n",
       "  calculated_total_potable_water_production_gallons_ag_excluded  \\\n",
       "0                                          4.964e+09              \n",
       "1                                          4.221e+09              \n",
       "2                                          3.549e+09              \n",
       "3                                          3.919e+09              \n",
       "4                                          4.169e+09              \n",
       "\n",
       "  calculated_total_potable_water_production_gallons_2013_ag_excluded  \\\n",
       "0                                          5.418e+09                   \n",
       "1                                          4.928e+09                   \n",
       "2                                          4.016e+09                   \n",
       "3                                          4.099e+09                   \n",
       "4                                          4.772e+09                   \n",
       "\n",
       "  calculated_commercial_agricultural_water_gallons  \\\n",
       "0                                                0   \n",
       "1                                                0   \n",
       "2                                                0   \n",
       "3                                                0   \n",
       "4                                                0   \n",
       "\n",
       "  calculated_commercial_agricultural_water_gallons_2013 calculated_r_gpcd  \\\n",
       "0                                                  0              73.2781   \n",
       "1                                                  0              59.3274   \n",
       "2                                                  0              55.2268   \n",
       "3                                                  0              55.9857   \n",
       "4                                                  0              55.6485   \n",
       "\n",
       "   system_id  \n",
       "0     110005  \n",
       "1     110005  \n",
       "2     110005  \n",
       "3     110005  \n",
       "4     110005  "
      ]
     },
     "execution_count": 318,
     "metadata": {},
     "output_type": "execute_result"
    }
   ],
   "source": [
    "water.head()"
   ]
  },
  {
   "cell_type": "code",
   "execution_count": 319,
   "metadata": {},
   "outputs": [
    {
     "data": {
      "text/plain": [
       "supplier_name                                                                 object\n",
       "public_water_system_id                                                        object\n",
       "reporting_month                                                       datetime64[ns]\n",
       "county                                                                        object\n",
       "hydrologic_region                                                             object\n",
       "climate_zone                                                                  object\n",
       "total_population_served                                                       object\n",
       "reference_2014_population                                                     object\n",
       "water_shortage_contingency_stage_invoked                                     float64\n",
       "water_production_units                                                        object\n",
       "reported_final_total_potable_water_production                                 object\n",
       "final_percent_residential_use                                                 object\n",
       "reported_final_commercial_industrial_and_institutional_water                  object\n",
       "calculated_total_potable_water_production_gallons_ag_excluded                 object\n",
       "calculated_total_potable_water_production_gallons_2013_ag_excluded            object\n",
       "calculated_commercial_agricultural_water_gallons                              object\n",
       "calculated_commercial_agricultural_water_gallons_2013                         object\n",
       "calculated_r_gpcd                                                             object\n",
       "system_id                                                                      int64\n",
       "dtype: object"
      ]
     },
     "execution_count": 319,
     "metadata": {},
     "output_type": "execute_result"
    }
   ],
   "source": [
    "water.dtypes"
   ]
  },
  {
   "cell_type": "code",
   "execution_count": null,
   "metadata": {},
   "outputs": [],
   "source": []
  },
  {
   "cell_type": "code",
   "execution_count": 320,
   "metadata": {},
   "outputs": [],
   "source": [
    "counties = {county: idx for idx, county in enumerate(water['county'].unique())}\n",
    "hydro_regions = {hydro: idx for idx, hydro in enumerate(water['hydrologic_region'].unique())}\n",
    "water['county_enc'] = water['county'].map(counties)\n",
    "water['hydro_region_enc'] = water['hydrologic_region'].map(hydro_regions)"
   ]
  },
  {
   "cell_type": "code",
   "execution_count": 321,
   "metadata": {},
   "outputs": [],
   "source": [
    "counties = {county: idx for idx, county in enumerate(water['county'].unique())}\n",
    "hydro_regions = {hydro: idx for idx, hydro in enumerate(water['hydrologic_region'].unique())}\n",
    "water['county_enc'] = water['county'].map(counties)\n",
    "water['hydro_region_enc'] = water['hydrologic_region'].map(hydro_regions)"
   ]
  },
  {
   "cell_type": "code",
   "execution_count": 322,
   "metadata": {
    "scrolled": true
   },
   "outputs": [
    {
     "data": {
      "text/plain": [
       "0        1400000\n",
       "1        1400000\n",
       "2        1400000\n",
       "3        1400000\n",
       "4        1450000\n",
       "          ...   \n",
       "32420      11712\n",
       "32421      10312\n",
       "32422      10312\n",
       "32423      10312\n",
       "32424      10312\n",
       "Name: total_population_served, Length: 32425, dtype: int64"
      ]
     },
     "execution_count": 322,
     "metadata": {},
     "output_type": "execute_result"
    }
   ],
   "source": [
    "water['total_population_served'].astype(int)"
   ]
  },
  {
   "cell_type": "code",
   "execution_count": 323,
   "metadata": {},
   "outputs": [
    {
     "data": {
      "text/html": [
       "<div>\n",
       "<style scoped>\n",
       "    .dataframe tbody tr th:only-of-type {\n",
       "        vertical-align: middle;\n",
       "    }\n",
       "\n",
       "    .dataframe tbody tr th {\n",
       "        vertical-align: top;\n",
       "    }\n",
       "\n",
       "    .dataframe thead th {\n",
       "        text-align: right;\n",
       "    }\n",
       "</style>\n",
       "<table border=\"1\" class=\"dataframe\">\n",
       "  <thead>\n",
       "    <tr style=\"text-align: right;\">\n",
       "      <th></th>\n",
       "      <th>supplier_name</th>\n",
       "      <th>public_water_system_id</th>\n",
       "      <th>reporting_month</th>\n",
       "      <th>county</th>\n",
       "      <th>hydrologic_region</th>\n",
       "      <th>climate_zone</th>\n",
       "      <th>total_population_served</th>\n",
       "      <th>reference_2014_population</th>\n",
       "      <th>water_shortage_contingency_stage_invoked</th>\n",
       "      <th>water_production_units</th>\n",
       "      <th>...</th>\n",
       "      <th>final_percent_residential_use</th>\n",
       "      <th>reported_final_commercial_industrial_and_institutional_water</th>\n",
       "      <th>calculated_total_potable_water_production_gallons_ag_excluded</th>\n",
       "      <th>calculated_total_potable_water_production_gallons_2013_ag_excluded</th>\n",
       "      <th>calculated_commercial_agricultural_water_gallons</th>\n",
       "      <th>calculated_commercial_agricultural_water_gallons_2013</th>\n",
       "      <th>calculated_r_gpcd</th>\n",
       "      <th>system_id</th>\n",
       "      <th>county_enc</th>\n",
       "      <th>hydro_region_enc</th>\n",
       "    </tr>\n",
       "  </thead>\n",
       "  <tbody>\n",
       "    <tr>\n",
       "      <th>0</th>\n",
       "      <td>East Bay Municipal Utilities District</td>\n",
       "      <td>CA0110005</td>\n",
       "      <td>2021-04-15</td>\n",
       "      <td>Alameda,Contra Costa</td>\n",
       "      <td>San Francisco Bay</td>\n",
       "      <td>3</td>\n",
       "      <td>1.4e+06</td>\n",
       "      <td>1.379e+06</td>\n",
       "      <td>0.0</td>\n",
       "      <td>MG</td>\n",
       "      <td>...</td>\n",
       "      <td>NaN</td>\n",
       "      <td>NaN</td>\n",
       "      <td>4.964e+09</td>\n",
       "      <td>5.418e+09</td>\n",
       "      <td>0</td>\n",
       "      <td>0</td>\n",
       "      <td>73.2781</td>\n",
       "      <td>110005</td>\n",
       "      <td>0</td>\n",
       "      <td>0</td>\n",
       "    </tr>\n",
       "    <tr>\n",
       "      <th>1</th>\n",
       "      <td>East Bay Municipal Utilities District</td>\n",
       "      <td>CA0110005</td>\n",
       "      <td>2021-03-15</td>\n",
       "      <td>Alameda,Contra Costa</td>\n",
       "      <td>San Francisco Bay</td>\n",
       "      <td>3</td>\n",
       "      <td>1.4e+06</td>\n",
       "      <td>1.379e+06</td>\n",
       "      <td>0.0</td>\n",
       "      <td>MG</td>\n",
       "      <td>...</td>\n",
       "      <td>NaN</td>\n",
       "      <td>NaN</td>\n",
       "      <td>4.221e+09</td>\n",
       "      <td>4.928e+09</td>\n",
       "      <td>0</td>\n",
       "      <td>0</td>\n",
       "      <td>59.3274</td>\n",
       "      <td>110005</td>\n",
       "      <td>0</td>\n",
       "      <td>0</td>\n",
       "    </tr>\n",
       "    <tr>\n",
       "      <th>2</th>\n",
       "      <td>East Bay Municipal Utilities District</td>\n",
       "      <td>CA0110005</td>\n",
       "      <td>2021-02-15</td>\n",
       "      <td>Alameda,Contra Costa</td>\n",
       "      <td>San Francisco Bay</td>\n",
       "      <td>3</td>\n",
       "      <td>1.4e+06</td>\n",
       "      <td>1.379e+06</td>\n",
       "      <td>0.0</td>\n",
       "      <td>MG</td>\n",
       "      <td>...</td>\n",
       "      <td>NaN</td>\n",
       "      <td>NaN</td>\n",
       "      <td>3.549e+09</td>\n",
       "      <td>4.016e+09</td>\n",
       "      <td>0</td>\n",
       "      <td>0</td>\n",
       "      <td>55.2268</td>\n",
       "      <td>110005</td>\n",
       "      <td>0</td>\n",
       "      <td>0</td>\n",
       "    </tr>\n",
       "    <tr>\n",
       "      <th>3</th>\n",
       "      <td>East Bay Municipal Utilities District</td>\n",
       "      <td>CA0110005</td>\n",
       "      <td>2021-01-15</td>\n",
       "      <td>Alameda,Contra Costa</td>\n",
       "      <td>San Francisco Bay</td>\n",
       "      <td>3</td>\n",
       "      <td>1.4e+06</td>\n",
       "      <td>1.379e+06</td>\n",
       "      <td>0.0</td>\n",
       "      <td>MG</td>\n",
       "      <td>...</td>\n",
       "      <td>NaN</td>\n",
       "      <td>NaN</td>\n",
       "      <td>3.919e+09</td>\n",
       "      <td>4.099e+09</td>\n",
       "      <td>0</td>\n",
       "      <td>0</td>\n",
       "      <td>55.9857</td>\n",
       "      <td>110005</td>\n",
       "      <td>0</td>\n",
       "      <td>0</td>\n",
       "    </tr>\n",
       "    <tr>\n",
       "      <th>4</th>\n",
       "      <td>East Bay Municipal Utilities District</td>\n",
       "      <td>CA0110005</td>\n",
       "      <td>2020-12-15</td>\n",
       "      <td>Alameda,Contra Costa</td>\n",
       "      <td>San Francisco Bay</td>\n",
       "      <td>3</td>\n",
       "      <td>1.45e+06</td>\n",
       "      <td>1.379e+06</td>\n",
       "      <td>0.0</td>\n",
       "      <td>MG</td>\n",
       "      <td>...</td>\n",
       "      <td>60</td>\n",
       "      <td>579</td>\n",
       "      <td>4.169e+09</td>\n",
       "      <td>4.772e+09</td>\n",
       "      <td>0</td>\n",
       "      <td>0</td>\n",
       "      <td>55.6485</td>\n",
       "      <td>110005</td>\n",
       "      <td>0</td>\n",
       "      <td>0</td>\n",
       "    </tr>\n",
       "  </tbody>\n",
       "</table>\n",
       "<p>5 rows × 21 columns</p>\n",
       "</div>"
      ],
      "text/plain": [
       "                           supplier_name public_water_system_id  \\\n",
       "0  East Bay Municipal Utilities District              CA0110005   \n",
       "1  East Bay Municipal Utilities District              CA0110005   \n",
       "2  East Bay Municipal Utilities District              CA0110005   \n",
       "3  East Bay Municipal Utilities District              CA0110005   \n",
       "4  East Bay Municipal Utilities District              CA0110005   \n",
       "\n",
       "  reporting_month                county  hydrologic_region climate_zone  \\\n",
       "0      2021-04-15  Alameda,Contra Costa  San Francisco Bay            3   \n",
       "1      2021-03-15  Alameda,Contra Costa  San Francisco Bay            3   \n",
       "2      2021-02-15  Alameda,Contra Costa  San Francisco Bay            3   \n",
       "3      2021-01-15  Alameda,Contra Costa  San Francisco Bay            3   \n",
       "4      2020-12-15  Alameda,Contra Costa  San Francisco Bay            3   \n",
       "\n",
       "  total_population_served reference_2014_population  \\\n",
       "0                 1.4e+06                 1.379e+06   \n",
       "1                 1.4e+06                 1.379e+06   \n",
       "2                 1.4e+06                 1.379e+06   \n",
       "3                 1.4e+06                 1.379e+06   \n",
       "4                1.45e+06                 1.379e+06   \n",
       "\n",
       "   water_shortage_contingency_stage_invoked water_production_units  ...  \\\n",
       "0                                       0.0                     MG  ...   \n",
       "1                                       0.0                     MG  ...   \n",
       "2                                       0.0                     MG  ...   \n",
       "3                                       0.0                     MG  ...   \n",
       "4                                       0.0                     MG  ...   \n",
       "\n",
       "  final_percent_residential_use  \\\n",
       "0                           NaN   \n",
       "1                           NaN   \n",
       "2                           NaN   \n",
       "3                           NaN   \n",
       "4                            60   \n",
       "\n",
       "  reported_final_commercial_industrial_and_institutional_water  \\\n",
       "0                                                NaN             \n",
       "1                                                NaN             \n",
       "2                                                NaN             \n",
       "3                                                NaN             \n",
       "4                                                579             \n",
       "\n",
       "  calculated_total_potable_water_production_gallons_ag_excluded  \\\n",
       "0                                          4.964e+09              \n",
       "1                                          4.221e+09              \n",
       "2                                          3.549e+09              \n",
       "3                                          3.919e+09              \n",
       "4                                          4.169e+09              \n",
       "\n",
       "  calculated_total_potable_water_production_gallons_2013_ag_excluded  \\\n",
       "0                                          5.418e+09                   \n",
       "1                                          4.928e+09                   \n",
       "2                                          4.016e+09                   \n",
       "3                                          4.099e+09                   \n",
       "4                                          4.772e+09                   \n",
       "\n",
       "  calculated_commercial_agricultural_water_gallons  \\\n",
       "0                                                0   \n",
       "1                                                0   \n",
       "2                                                0   \n",
       "3                                                0   \n",
       "4                                                0   \n",
       "\n",
       "  calculated_commercial_agricultural_water_gallons_2013 calculated_r_gpcd  \\\n",
       "0                                                  0              73.2781   \n",
       "1                                                  0              59.3274   \n",
       "2                                                  0              55.2268   \n",
       "3                                                  0              55.9857   \n",
       "4                                                  0              55.6485   \n",
       "\n",
       "  system_id  county_enc  hydro_region_enc  \n",
       "0    110005           0                 0  \n",
       "1    110005           0                 0  \n",
       "2    110005           0                 0  \n",
       "3    110005           0                 0  \n",
       "4    110005           0                 0  \n",
       "\n",
       "[5 rows x 21 columns]"
      ]
     },
     "execution_count": 323,
     "metadata": {},
     "output_type": "execute_result"
    }
   ],
   "source": [
    "water.head()"
   ]
  },
  {
   "cell_type": "code",
   "execution_count": 324,
   "metadata": {},
   "outputs": [
    {
     "data": {
      "text/plain": [
       "0            NaN\n",
       "1            NaN\n",
       "2            NaN\n",
       "3            NaN\n",
       "4         4169.2\n",
       "          ...   \n",
       "32420      180.7\n",
       "32421    77407.5\n",
       "32422    45997.3\n",
       "32423    39363.6\n",
       "32424    44901.7\n",
       "Name: reported_final_total_potable_water_production, Length: 32425, dtype: object"
      ]
     },
     "execution_count": 324,
     "metadata": {},
     "output_type": "execute_result"
    }
   ],
   "source": [
    "water.reported_final_total_potable_water_production"
   ]
  },
  {
   "cell_type": "code",
   "execution_count": 325,
   "metadata": {},
   "outputs": [
    {
     "data": {
      "text/plain": [
       "Index(['supplier_name', 'public_water_system_id', 'reporting_month', 'county',\n",
       "       'hydrologic_region', 'climate_zone', 'total_population_served',\n",
       "       'reference_2014_population', 'water_shortage_contingency_stage_invoked',\n",
       "       'water_production_units',\n",
       "       'reported_final_total_potable_water_production',\n",
       "       'final_percent_residential_use',\n",
       "       'reported_final_commercial_industrial_and_institutional_water',\n",
       "       'calculated_total_potable_water_production_gallons_ag_excluded',\n",
       "       'calculated_total_potable_water_production_gallons_2013_ag_excluded',\n",
       "       'calculated_commercial_agricultural_water_gallons',\n",
       "       'calculated_commercial_agricultural_water_gallons_2013',\n",
       "       'calculated_r_gpcd', 'system_id', 'county_enc', 'hydro_region_enc'],\n",
       "      dtype='object')"
      ]
     },
     "execution_count": 325,
     "metadata": {},
     "output_type": "execute_result"
    }
   ],
   "source": [
    "water.columns"
   ]
  },
  {
   "cell_type": "code",
   "execution_count": 326,
   "metadata": {},
   "outputs": [
    {
     "data": {
      "text/plain": [
       "climate_zone                                                          object\n",
       "total_population_served                                               object\n",
       "reference_2014_population                                             object\n",
       "reported_final_total_potable_water_production                         object\n",
       "final_percent_residential_use                                         object\n",
       "reported_final_commercial_industrial_and_institutional_water          object\n",
       "calculated_total_potable_water_production_gallons_ag_excluded         object\n",
       "calculated_total_potable_water_production_gallons_2013_ag_excluded    object\n",
       "calculated_commercial_agricultural_water_gallons                      object\n",
       "calculated_commercial_agricultural_water_gallons_2013                 object\n",
       "calculated_r_gpcd                                                     object\n",
       "dtype: object"
      ]
     },
     "execution_count": 326,
     "metadata": {},
     "output_type": "execute_result"
    }
   ],
   "source": [
    "convert_to_int = ['climate_zone', 'total_population_served',\n",
    "       'reference_2014_population', 'reported_final_total_potable_water_production',\n",
    "       'final_percent_residential_use', 'reported_final_commercial_industrial_and_institutional_water',\n",
    "       'calculated_total_potable_water_production_gallons_ag_excluded',\n",
    "       'calculated_total_potable_water_production_gallons_2013_ag_excluded',\n",
    "       'calculated_commercial_agricultural_water_gallons',\n",
    "       'calculated_commercial_agricultural_water_gallons_2013',\n",
    "       'calculated_r_gpcd']\n",
    "water[convert_to_int].dtypes"
   ]
  },
  {
   "cell_type": "code",
   "execution_count": 327,
   "metadata": {},
   "outputs": [
    {
     "data": {
      "text/plain": [
       "0                NaN\n",
       "1                NaN\n",
       "2                NaN\n",
       "3                NaN\n",
       "4         -4.772e+09\n",
       "            ...     \n",
       "32420            NaN\n",
       "32421   -5.65999e+07\n",
       "32422   -3.91406e+07\n",
       "32423   -2.89034e+07\n",
       "32424   -3.30182e+07\n",
       "Length: 32425, dtype: object"
      ]
     },
     "execution_count": 327,
     "metadata": {},
     "output_type": "execute_result"
    }
   ],
   "source": [
    "water[convert_to_int].isnull().sum()\n",
    "water['final_percent_residential_use'] - water['calculated_total_potable_water_production_gallons_2013_ag_excluded']"
   ]
  },
  {
   "cell_type": "code",
   "execution_count": 328,
   "metadata": {
    "scrolled": true
   },
   "outputs": [
    {
     "data": {
      "text/plain": [
       "climate_zone                                                             0\n",
       "total_population_served                                                  0\n",
       "reference_2014_population                                                1\n",
       "reported_final_total_potable_water_production                          423\n",
       "final_percent_residential_use                                          444\n",
       "reported_final_commercial_industrial_and_institutional_water          7013\n",
       "calculated_total_potable_water_production_gallons_ag_excluded            0\n",
       "calculated_total_potable_water_production_gallons_2013_ag_excluded       1\n",
       "calculated_commercial_agricultural_water_gallons                         0\n",
       "calculated_commercial_agricultural_water_gallons_2013                    5\n",
       "calculated_r_gpcd                                                        0\n",
       "dtype: int64"
      ]
     },
     "execution_count": 328,
     "metadata": {},
     "output_type": "execute_result"
    }
   ],
   "source": [
    "for i in convert_to_int:\n",
    "    # coerce errors as per https://stackoverflow.com/questions/47333227/pandas-valueerror-cannot-convert-float-nan-to-integer\n",
    "    water[i] = pd.to_numeric(water[i], errors='coerce')\n",
    "water[convert_to_int].isnull().sum()"
   ]
  },
  {
   "cell_type": "code",
   "execution_count": 329,
   "metadata": {},
   "outputs": [
    {
     "data": {
      "text/plain": [
       "climate_zone                                                          0\n",
       "total_population_served                                               0\n",
       "reference_2014_population                                             0\n",
       "reported_final_total_potable_water_production                         0\n",
       "final_percent_residential_use                                         0\n",
       "reported_final_commercial_industrial_and_institutional_water          0\n",
       "calculated_total_potable_water_production_gallons_ag_excluded         0\n",
       "calculated_total_potable_water_production_gallons_2013_ag_excluded    0\n",
       "calculated_commercial_agricultural_water_gallons                      0\n",
       "calculated_commercial_agricultural_water_gallons_2013                 0\n",
       "calculated_r_gpcd                                                     0\n",
       "dtype: int64"
      ]
     },
     "execution_count": 329,
     "metadata": {},
     "output_type": "execute_result"
    }
   ],
   "source": [
    "# mean encoding null values \n",
    "for i in convert_to_int:\n",
    "    water[i] = water[i].fillna(water[i].mean())\n",
    "water[convert_to_int].isnull().sum()"
   ]
  },
  {
   "cell_type": "code",
   "execution_count": 330,
   "metadata": {},
   "outputs": [
    {
     "data": {
      "text/html": [
       "<div>\n",
       "<style scoped>\n",
       "    .dataframe tbody tr th:only-of-type {\n",
       "        vertical-align: middle;\n",
       "    }\n",
       "\n",
       "    .dataframe tbody tr th {\n",
       "        vertical-align: top;\n",
       "    }\n",
       "\n",
       "    .dataframe thead th {\n",
       "        text-align: right;\n",
       "    }\n",
       "</style>\n",
       "<table border=\"1\" class=\"dataframe\">\n",
       "  <thead>\n",
       "    <tr style=\"text-align: right;\">\n",
       "      <th></th>\n",
       "      <th>count</th>\n",
       "      <th>mean</th>\n",
       "      <th>std</th>\n",
       "      <th>min</th>\n",
       "      <th>25%</th>\n",
       "      <th>50%</th>\n",
       "      <th>75%</th>\n",
       "      <th>max</th>\n",
       "    </tr>\n",
       "  </thead>\n",
       "  <tbody>\n",
       "    <tr>\n",
       "      <th>climate_zone</th>\n",
       "      <td>32425.0</td>\n",
       "      <td>9.059306e+00</td>\n",
       "      <td>3.796250e+00</td>\n",
       "      <td>1.000000e+00</td>\n",
       "      <td>6.000000e+00</td>\n",
       "      <td>9.000000e+00</td>\n",
       "      <td>1.200000e+01</td>\n",
       "      <td>1.600000e+01</td>\n",
       "    </tr>\n",
       "    <tr>\n",
       "      <th>total_population_served</th>\n",
       "      <td>32425.0</td>\n",
       "      <td>9.137515e+04</td>\n",
       "      <td>2.431812e+05</td>\n",
       "      <td>1.000000e+02</td>\n",
       "      <td>2.097000e+04</td>\n",
       "      <td>4.418900e+04</td>\n",
       "      <td>9.332200e+04</td>\n",
       "      <td>4.133849e+06</td>\n",
       "    </tr>\n",
       "    <tr>\n",
       "      <th>reference_2014_population</th>\n",
       "      <td>32425.0</td>\n",
       "      <td>8.948902e+04</td>\n",
       "      <td>2.371816e+05</td>\n",
       "      <td>1.120000e+02</td>\n",
       "      <td>2.008000e+04</td>\n",
       "      <td>4.376700e+04</td>\n",
       "      <td>9.275600e+04</td>\n",
       "      <td>3.960940e+06</td>\n",
       "    </tr>\n",
       "    <tr>\n",
       "      <th>reported_final_total_potable_water_production</th>\n",
       "      <td>32425.0</td>\n",
       "      <td>2.877158e+07</td>\n",
       "      <td>1.989786e+08</td>\n",
       "      <td>4.030000e+00</td>\n",
       "      <td>2.350000e+02</td>\n",
       "      <td>7.340240e+02</td>\n",
       "      <td>2.669800e+03</td>\n",
       "      <td>5.252463e+09</td>\n",
       "    </tr>\n",
       "    <tr>\n",
       "      <th>final_percent_residential_use</th>\n",
       "      <td>32425.0</td>\n",
       "      <td>6.973491e+01</td>\n",
       "      <td>1.498773e+01</td>\n",
       "      <td>5.000000e-02</td>\n",
       "      <td>6.160000e+01</td>\n",
       "      <td>7.007000e+01</td>\n",
       "      <td>8.000000e+01</td>\n",
       "      <td>1.210000e+02</td>\n",
       "    </tr>\n",
       "    <tr>\n",
       "      <th>reported_final_commercial_industrial_and_institutional_water</th>\n",
       "      <td>32425.0</td>\n",
       "      <td>6.977072e+06</td>\n",
       "      <td>4.889642e+07</td>\n",
       "      <td>0.000000e+00</td>\n",
       "      <td>6.398000e+01</td>\n",
       "      <td>3.100000e+02</td>\n",
       "      <td>6.977072e+06</td>\n",
       "      <td>1.401330e+09</td>\n",
       "    </tr>\n",
       "    <tr>\n",
       "      <th>calculated_total_potable_water_production_gallons_ag_excluded</th>\n",
       "      <td>32425.0</td>\n",
       "      <td>3.722133e+08</td>\n",
       "      <td>8.484037e+08</td>\n",
       "      <td>4.000000e+06</td>\n",
       "      <td>8.178871e+07</td>\n",
       "      <td>1.805217e+08</td>\n",
       "      <td>3.906959e+08</td>\n",
       "      <td>1.658128e+10</td>\n",
       "    </tr>\n",
       "    <tr>\n",
       "      <th>calculated_total_potable_water_production_gallons_2013_ag_excluded</th>\n",
       "      <td>32425.0</td>\n",
       "      <td>4.438801e+08</td>\n",
       "      <td>9.875968e+08</td>\n",
       "      <td>7.171076e+06</td>\n",
       "      <td>1.002400e+08</td>\n",
       "      <td>2.190000e+08</td>\n",
       "      <td>4.734621e+08</td>\n",
       "      <td>1.795669e+10</td>\n",
       "    </tr>\n",
       "    <tr>\n",
       "      <th>calculated_commercial_agricultural_water_gallons</th>\n",
       "      <td>32425.0</td>\n",
       "      <td>4.070411e+06</td>\n",
       "      <td>4.054954e+07</td>\n",
       "      <td>0.000000e+00</td>\n",
       "      <td>0.000000e+00</td>\n",
       "      <td>0.000000e+00</td>\n",
       "      <td>0.000000e+00</td>\n",
       "      <td>1.071725e+09</td>\n",
       "    </tr>\n",
       "    <tr>\n",
       "      <th>calculated_commercial_agricultural_water_gallons_2013</th>\n",
       "      <td>32425.0</td>\n",
       "      <td>5.588803e+06</td>\n",
       "      <td>5.178750e+07</td>\n",
       "      <td>0.000000e+00</td>\n",
       "      <td>0.000000e+00</td>\n",
       "      <td>0.000000e+00</td>\n",
       "      <td>0.000000e+00</td>\n",
       "      <td>1.023173e+09</td>\n",
       "    </tr>\n",
       "    <tr>\n",
       "      <th>calculated_r_gpcd</th>\n",
       "      <td>32425.0</td>\n",
       "      <td>1.008050e+02</td>\n",
       "      <td>5.550856e+01</td>\n",
       "      <td>1.140040e+01</td>\n",
       "      <td>6.440000e+01</td>\n",
       "      <td>8.552050e+01</td>\n",
       "      <td>1.207190e+02</td>\n",
       "      <td>6.607170e+02</td>\n",
       "    </tr>\n",
       "  </tbody>\n",
       "</table>\n",
       "</div>"
      ],
      "text/plain": [
       "                                                      count          mean  \\\n",
       "climate_zone                                        32425.0  9.059306e+00   \n",
       "total_population_served                             32425.0  9.137515e+04   \n",
       "reference_2014_population                           32425.0  8.948902e+04   \n",
       "reported_final_total_potable_water_production       32425.0  2.877158e+07   \n",
       "final_percent_residential_use                       32425.0  6.973491e+01   \n",
       "reported_final_commercial_industrial_and_instit...  32425.0  6.977072e+06   \n",
       "calculated_total_potable_water_production_gallo...  32425.0  3.722133e+08   \n",
       "calculated_total_potable_water_production_gallo...  32425.0  4.438801e+08   \n",
       "calculated_commercial_agricultural_water_gallons    32425.0  4.070411e+06   \n",
       "calculated_commercial_agricultural_water_gallon...  32425.0  5.588803e+06   \n",
       "calculated_r_gpcd                                   32425.0  1.008050e+02   \n",
       "\n",
       "                                                             std  \\\n",
       "climate_zone                                        3.796250e+00   \n",
       "total_population_served                             2.431812e+05   \n",
       "reference_2014_population                           2.371816e+05   \n",
       "reported_final_total_potable_water_production       1.989786e+08   \n",
       "final_percent_residential_use                       1.498773e+01   \n",
       "reported_final_commercial_industrial_and_instit...  4.889642e+07   \n",
       "calculated_total_potable_water_production_gallo...  8.484037e+08   \n",
       "calculated_total_potable_water_production_gallo...  9.875968e+08   \n",
       "calculated_commercial_agricultural_water_gallons    4.054954e+07   \n",
       "calculated_commercial_agricultural_water_gallon...  5.178750e+07   \n",
       "calculated_r_gpcd                                   5.550856e+01   \n",
       "\n",
       "                                                             min  \\\n",
       "climate_zone                                        1.000000e+00   \n",
       "total_population_served                             1.000000e+02   \n",
       "reference_2014_population                           1.120000e+02   \n",
       "reported_final_total_potable_water_production       4.030000e+00   \n",
       "final_percent_residential_use                       5.000000e-02   \n",
       "reported_final_commercial_industrial_and_instit...  0.000000e+00   \n",
       "calculated_total_potable_water_production_gallo...  4.000000e+06   \n",
       "calculated_total_potable_water_production_gallo...  7.171076e+06   \n",
       "calculated_commercial_agricultural_water_gallons    0.000000e+00   \n",
       "calculated_commercial_agricultural_water_gallon...  0.000000e+00   \n",
       "calculated_r_gpcd                                   1.140040e+01   \n",
       "\n",
       "                                                             25%  \\\n",
       "climate_zone                                        6.000000e+00   \n",
       "total_population_served                             2.097000e+04   \n",
       "reference_2014_population                           2.008000e+04   \n",
       "reported_final_total_potable_water_production       2.350000e+02   \n",
       "final_percent_residential_use                       6.160000e+01   \n",
       "reported_final_commercial_industrial_and_instit...  6.398000e+01   \n",
       "calculated_total_potable_water_production_gallo...  8.178871e+07   \n",
       "calculated_total_potable_water_production_gallo...  1.002400e+08   \n",
       "calculated_commercial_agricultural_water_gallons    0.000000e+00   \n",
       "calculated_commercial_agricultural_water_gallon...  0.000000e+00   \n",
       "calculated_r_gpcd                                   6.440000e+01   \n",
       "\n",
       "                                                             50%  \\\n",
       "climate_zone                                        9.000000e+00   \n",
       "total_population_served                             4.418900e+04   \n",
       "reference_2014_population                           4.376700e+04   \n",
       "reported_final_total_potable_water_production       7.340240e+02   \n",
       "final_percent_residential_use                       7.007000e+01   \n",
       "reported_final_commercial_industrial_and_instit...  3.100000e+02   \n",
       "calculated_total_potable_water_production_gallo...  1.805217e+08   \n",
       "calculated_total_potable_water_production_gallo...  2.190000e+08   \n",
       "calculated_commercial_agricultural_water_gallons    0.000000e+00   \n",
       "calculated_commercial_agricultural_water_gallon...  0.000000e+00   \n",
       "calculated_r_gpcd                                   8.552050e+01   \n",
       "\n",
       "                                                             75%           max  \n",
       "climate_zone                                        1.200000e+01  1.600000e+01  \n",
       "total_population_served                             9.332200e+04  4.133849e+06  \n",
       "reference_2014_population                           9.275600e+04  3.960940e+06  \n",
       "reported_final_total_potable_water_production       2.669800e+03  5.252463e+09  \n",
       "final_percent_residential_use                       8.000000e+01  1.210000e+02  \n",
       "reported_final_commercial_industrial_and_instit...  6.977072e+06  1.401330e+09  \n",
       "calculated_total_potable_water_production_gallo...  3.906959e+08  1.658128e+10  \n",
       "calculated_total_potable_water_production_gallo...  4.734621e+08  1.795669e+10  \n",
       "calculated_commercial_agricultural_water_gallons    0.000000e+00  1.071725e+09  \n",
       "calculated_commercial_agricultural_water_gallon...  0.000000e+00  1.023173e+09  \n",
       "calculated_r_gpcd                                   1.207190e+02  6.607170e+02  "
      ]
     },
     "execution_count": 330,
     "metadata": {},
     "output_type": "execute_result"
    }
   ],
   "source": [
    "water[convert_to_int].describe().T"
   ]
  },
  {
   "cell_type": "code",
   "execution_count": 331,
   "metadata": {
    "scrolled": true
   },
   "outputs": [
    {
     "data": {
      "text/plain": [
       "supplier_name                                                                 object\n",
       "public_water_system_id                                                        object\n",
       "reporting_month                                                       datetime64[ns]\n",
       "county                                                                        object\n",
       "hydrologic_region                                                             object\n",
       "climate_zone                                                                   int64\n",
       "total_population_served                                                      float64\n",
       "reference_2014_population                                                    float64\n",
       "water_shortage_contingency_stage_invoked                                     float64\n",
       "water_production_units                                                        object\n",
       "reported_final_total_potable_water_production                                float64\n",
       "final_percent_residential_use                                                float64\n",
       "reported_final_commercial_industrial_and_institutional_water                 float64\n",
       "calculated_total_potable_water_production_gallons_ag_excluded                float64\n",
       "calculated_total_potable_water_production_gallons_2013_ag_excluded           float64\n",
       "calculated_commercial_agricultural_water_gallons                             float64\n",
       "calculated_commercial_agricultural_water_gallons_2013                        float64\n",
       "calculated_r_gpcd                                                            float64\n",
       "system_id                                                                      int64\n",
       "county_enc                                                                     int64\n",
       "hydro_region_enc                                                               int64\n",
       "dtype: object"
      ]
     },
     "execution_count": 331,
     "metadata": {},
     "output_type": "execute_result"
    }
   ],
   "source": [
    "water.dtypes"
   ]
  },
  {
   "cell_type": "code",
   "execution_count": 332,
   "metadata": {},
   "outputs": [
    {
     "data": {
      "text/plain": [
       "(32425, 21)"
      ]
     },
     "execution_count": 332,
     "metadata": {},
     "output_type": "execute_result"
    }
   ],
   "source": [
    "water.shape"
   ]
  },
  {
   "cell_type": "markdown",
   "metadata": {},
   "source": [
    "---\n",
    "## Dimensional analyisis \n",
    "---\n",
    "Most of the columns are in gallons but some of them use different units"
   ]
  },
  {
   "cell_type": "code",
   "execution_count": 333,
   "metadata": {
    "scrolled": false
   },
   "outputs": [
    {
     "data": {
      "text/plain": [
       "AF     19253\n",
       "MG      7200\n",
       "G       3750\n",
       "CCF     2222\n",
       "Name: water_production_units, dtype: int64"
      ]
     },
     "execution_count": 333,
     "metadata": {},
     "output_type": "execute_result"
    }
   ],
   "source": [
    "water.water_production_units.value_counts()\n",
    "# Interpreting the following using "
   ]
  },
  {
   "cell_type": "markdown",
   "metadata": {},
   "source": [
    "[Water Measurement Units and Conversion Factors](https://extension.okstate.edu/fact-sheets/water-measurement-units-and-conversion-factors.html)\n",
    "\n",
    "The Data Dictionary only states these are units for reported production quantities \n",
    "\n",
    "The four units of measurement are:\n",
    "- CCF - one hundred cubic feet of water (748.052 gallons)\n",
    "- AF -  The volume of water that would cover one acre one foot deep (325,851 gallons)\n",
    "    - Also this could just maybe mean 'Water AF'\n",
    "- G - Gallons (... 1 gallon?)\n",
    "- MG - Mega-Gallons (1,000,000 gallons)"
   ]
  },
  {
   "cell_type": "code",
   "execution_count": 334,
   "metadata": {},
   "outputs": [],
   "source": [
    "# test_category = 'reported_final_commercial_industrial_and_institutional_water'\n",
    "test_category = 'reported_final_total_potable_water_production'\n",
    "\n",
    "g_mean = water[water['water_production_units'] == 'G'][test_category].mean()\n",
    "mg_mean = water[water['water_production_units'] == 'MG'][test_category].mean()\n",
    "af_mean = water[water['water_production_units'] == 'AF'][test_category].mean()\n",
    "ccf_mean = water[water['water_production_units'] == 'CCF'][test_category].mean()"
   ]
  },
  {
   "cell_type": "code",
   "execution_count": 335,
   "metadata": {},
   "outputs": [],
   "source": [
    "# test_category = 'reported_final_commercial_industrial_and_institutional_water'\n",
    "test_category = 'reported_final_total_potable_water_production'\n",
    "\n",
    "g_median = water[water['water_production_units'] == 'G'][test_category].median()\n",
    "mg_median = water[water['water_production_units'] == 'MG'][test_category].median()\n",
    "af_median = water[water['water_production_units'] == 'AF'][test_category].median()\n",
    "ccf_median = water[water['water_production_units'] == 'CCF'][test_category].median()"
   ]
  },
  {
   "cell_type": "markdown",
   "metadata": {},
   "source": [
    "Looking at mean and median values to verify that conversion units are within the expected range"
   ]
  },
  {
   "cell_type": "code",
   "execution_count": 336,
   "metadata": {},
   "outputs": [
    {
     "name": "stdout",
     "output_type": "stream",
     "text": [
      "Mean Values:\n",
      "------------\n",
      "G 245640644.60923892\n",
      "MG 288062.14418535976\n",
      "AF 400291.0260551646\n",
      "CCF 893470.0089239818\n"
     ]
    }
   ],
   "source": [
    "print('Mean Values:')\n",
    "print('------------')\n",
    "print('G', g_mean)\n",
    "print('MG', mg_mean)\n",
    "print('AF', af_mean)\n",
    "print('CCF', ccf_mean)"
   ]
  },
  {
   "cell_type": "code",
   "execution_count": 337,
   "metadata": {},
   "outputs": [
    {
     "name": "stdout",
     "output_type": "stream",
     "text": [
      "Median Values:\n",
      "------------\n",
      "G 94143536.5\n",
      "MG 155.936\n",
      "AF 731.0\n",
      "CCF 194559.0\n"
     ]
    }
   ],
   "source": [
    "print('Median Values:')\n",
    "print('------------')\n",
    "print('G', g_median)\n",
    "print('MG', mg_median)\n",
    "print('AF', af_median)\n",
    "print('CCF', ccf_median)"
   ]
  },
  {
   "cell_type": "code",
   "execution_count": 338,
   "metadata": {},
   "outputs": [
    {
     "data": {
      "text/plain": [
       "603731.8932126"
      ]
     },
     "execution_count": 338,
     "metadata": {},
     "output_type": "execute_result"
    }
   ],
   "source": [
    "g_median / mg_median"
   ]
  },
  {
   "cell_type": "markdown",
   "metadata": {},
   "source": [
    "If MG is mega/million-gallons this seems like it's close to on the mark "
   ]
  },
  {
   "cell_type": "code",
   "execution_count": 339,
   "metadata": {},
   "outputs": [
    {
     "data": {
      "text/plain": [
       "128787.32763337894"
      ]
     },
     "execution_count": 339,
     "metadata": {},
     "output_type": "execute_result"
    }
   ],
   "source": [
    "g_median / af_median"
   ]
  },
  {
   "cell_type": "markdown",
   "metadata": {},
   "source": [
    "As one acre-foot is 325,851 gallons this seems somewhat reasonable "
   ]
  },
  {
   "cell_type": "code",
   "execution_count": 340,
   "metadata": {},
   "outputs": [
    {
     "data": {
      "text/plain": [
       "483.8816837052"
      ]
     },
     "execution_count": 340,
     "metadata": {},
     "output_type": "execute_result"
    }
   ],
   "source": [
    "g_median / ccf_median"
   ]
  },
  {
   "cell_type": "markdown",
   "metadata": {},
   "source": [
    "One CCF/HCF is 748.052 gallons, so this one seems like it's likely correct"
   ]
  },
  {
   "cell_type": "code",
   "execution_count": null,
   "metadata": {},
   "outputs": [],
   "source": []
  },
  {
   "cell_type": "code",
   "execution_count": 341,
   "metadata": {
    "scrolled": true
   },
   "outputs": [
    {
     "name": "stdout",
     "output_type": "stream",
     "text": [
      "MG\n",
      "['San Francisco Bay' 'San Joaquin River' 'Tulare Lake' 'Sacramento River'\n",
      " 'South Coast' 'Colorado River' 'North Lahontan' 'North Coast'\n",
      " 'Central Coast' 'South Lahontan']\n",
      "\n",
      "G\n",
      "['Central Coast' 'San Joaquin River' 'San Francisco Bay' 'Colorado River'\n",
      " 'North Coast' 'South Lahontan' 'Sacramento River' 'North Lahontan'\n",
      " 'Tulare Lake' 'South Coast']\n",
      "\n",
      "AF\n",
      "['South Coast' 'Sacramento River' 'Colorado River' 'San Francisco Bay'\n",
      " 'South Lahontan' 'North Coast' 'Central Coast' 'Tulare Lake'\n",
      " 'San Joaquin River']\n",
      "\n",
      "CCF\n",
      "['San Francisco Bay' 'Tulare Lake' 'South Coast' 'North Coast'\n",
      " 'South Lahontan' 'Colorado River' 'Sacramento River' 'San Joaquin River']\n",
      "\n"
     ]
    }
   ],
   "source": [
    "conversion_cols = ['reported_final_total_potable_water_production']\n",
    "\n",
    "for i in water['water_production_units'].unique():\n",
    "    print(i)\n",
    "    print(water[water['water_production_units'] == i]['hydrologic_region'].unique())\n",
    "    print()"
   ]
  },
  {
   "cell_type": "markdown",
   "metadata": {},
   "source": [
    "Clearly differences in units used aren't on a hydrologic basis "
   ]
  },
  {
   "cell_type": "code",
   "execution_count": 342,
   "metadata": {
    "scrolled": false
   },
   "outputs": [],
   "source": [
    "# for i in water['water_production_units'].unique():\n",
    "#     print(i)\n",
    "#     print(water[water['water_production_units'] == i]['supplier_name'].unique())\n",
    "#     print()"
   ]
  },
  {
   "cell_type": "code",
   "execution_count": 343,
   "metadata": {},
   "outputs": [
    {
     "data": {
      "text/plain": [
       "supplier_name                                                                 object\n",
       "public_water_system_id                                                        object\n",
       "reporting_month                                                       datetime64[ns]\n",
       "county                                                                        object\n",
       "hydrologic_region                                                             object\n",
       "climate_zone                                                                   int64\n",
       "total_population_served                                                      float64\n",
       "reference_2014_population                                                    float64\n",
       "water_shortage_contingency_stage_invoked                                     float64\n",
       "water_production_units                                                        object\n",
       "reported_final_total_potable_water_production                                float64\n",
       "final_percent_residential_use                                                float64\n",
       "reported_final_commercial_industrial_and_institutional_water                 float64\n",
       "calculated_total_potable_water_production_gallons_ag_excluded                float64\n",
       "calculated_total_potable_water_production_gallons_2013_ag_excluded           float64\n",
       "calculated_commercial_agricultural_water_gallons                             float64\n",
       "calculated_commercial_agricultural_water_gallons_2013                        float64\n",
       "calculated_r_gpcd                                                            float64\n",
       "system_id                                                                      int64\n",
       "county_enc                                                                     int64\n",
       "hydro_region_enc                                                               int64\n",
       "dtype: object"
      ]
     },
     "execution_count": 343,
     "metadata": {},
     "output_type": "execute_result"
    }
   ],
   "source": [
    "water.dtypes"
   ]
  },
  {
   "cell_type": "code",
   "execution_count": 344,
   "metadata": {},
   "outputs": [
    {
     "data": {
      "text/plain": [
       "['CCF', 'AF', 'MG']"
      ]
     },
     "execution_count": 344,
     "metadata": {},
     "output_type": "execute_result"
    }
   ],
   "source": [
    "conversions = {\n",
    "    'CCF': 748.052,\n",
    "    'AF': 325_851, \n",
    "    'MG': 1_000_000, \n",
    "    }\n",
    "list(conversions)"
   ]
  },
  {
   "cell_type": "code",
   "execution_count": 345,
   "metadata": {
    "scrolled": false
   },
   "outputs": [],
   "source": [
    "cols = ['reported_final_total_potable_water_production', \n",
    "        'reported_final_commercial_industrial_and_institutional_water']\n",
    "conversions = {\n",
    "    'CCF': 748.052,\n",
    "    'AF': 325_851, \n",
    "    'MG': 1_000_000, \n",
    "    }\n",
    "for i in conversions:\n",
    "    wpu = 'water_production_units'\n",
    "#     water[water[wpu] == i][cols[0]] = water[water[wpu] == i][cols[0]].copy().map(lambda x: x*conversions[i])\n",
    "#     water[water[wpu] == i][cols[1]] = water[water[wpu] == i][cols[1]].copy().map(lambda x: x*conversions[i])\n",
    "    water.loc[water[wpu] == i, cols[0]] = water.loc[water[wpu] == i, cols[0]].copy().map(lambda x: x*conversions[i])\n",
    "    water.loc[water[wpu] == i, cols[1]] = water.loc[water[wpu] == i, cols[1]].copy().map(lambda x: x*conversions[i])"
   ]
  },
  {
   "cell_type": "code",
   "execution_count": 346,
   "metadata": {},
   "outputs": [],
   "source": [
    "# test_category = 'reported_final_commercial_industrial_and_institutional_water'\n",
    "test_category = 'reported_final_total_potable_water_production'\n",
    "\n",
    "g_median = water[water['water_production_units'] == 'G'][test_category].median()\n",
    "mg_median = water[water['water_production_units'] == 'MG'][test_category].median()\n",
    "af_median = water[water['water_production_units'] == 'AF'][test_category].median()\n",
    "ccf_median = water[water['water_production_units'] == 'CCF'][test_category].median()"
   ]
  },
  {
   "cell_type": "code",
   "execution_count": 347,
   "metadata": {},
   "outputs": [
    {
     "data": {
      "text/plain": [
       "0.6037318932126"
      ]
     },
     "execution_count": 347,
     "metadata": {},
     "output_type": "execute_result"
    }
   ],
   "source": [
    "g_median / mg_median"
   ]
  },
  {
   "cell_type": "markdown",
   "metadata": {},
   "source": [
    "---\n",
    "## Water Conservation Cleaning\n",
    "---"
   ]
  },
  {
   "cell_type": "code",
   "execution_count": 348,
   "metadata": {
    "scrolled": true
   },
   "outputs": [
    {
     "data": {
      "text/html": [
       "<div>\n",
       "<style scoped>\n",
       "    .dataframe tbody tr th:only-of-type {\n",
       "        vertical-align: middle;\n",
       "    }\n",
       "\n",
       "    .dataframe tbody tr th {\n",
       "        vertical-align: top;\n",
       "    }\n",
       "\n",
       "    .dataframe thead th {\n",
       "        text-align: right;\n",
       "    }\n",
       "</style>\n",
       "<table border=\"1\" class=\"dataframe\">\n",
       "  <thead>\n",
       "    <tr style=\"text-align: right;\">\n",
       "      <th></th>\n",
       "      <th>Supplier Name</th>\n",
       "      <th>Hydrologic Region</th>\n",
       "      <th>State-mandated Conservation Standard - Previous (3/1/2016)</th>\n",
       "      <th>State-mandated Conservation Standard - Current (Effective 6/1/2016)</th>\n",
       "      <th>Did Supplier Self-certify?</th>\n",
       "      <th>Enforceable Cumulative Percent Savings (as compared to 2013) - June 2015-Aug 2016</th>\n",
       "      <th>June 2016 to Aug 2016 Self-certified?</th>\n",
       "      <th>Applicable Cumulative Savings by Supplier (as compared to 2013)</th>\n",
       "      <th>Missed Conservation Standard By</th>\n",
       "      <th>Order Status</th>\n",
       "      <th>Monthly Savings (as compared to 2013) - Aug 2015</th>\n",
       "      <th>Monthly Savings (as compared to 2013) - Aug 2016</th>\n",
       "      <th>Estimated Aug 2016 Monthly R-GPCD</th>\n",
       "      <th>Total Population Served</th>\n",
       "    </tr>\n",
       "  </thead>\n",
       "  <tbody>\n",
       "    <tr>\n",
       "      <th>0</th>\n",
       "      <td>California City  City of</td>\n",
       "      <td>South Lahontan</td>\n",
       "      <td>28%</td>\n",
       "      <td>28%</td>\n",
       "      <td>No</td>\n",
       "      <td>13.1%</td>\n",
       "      <td>18.0%</td>\n",
       "      <td>13.1%</td>\n",
       "      <td>14.9%</td>\n",
       "      <td>C</td>\n",
       "      <td>16.8%</td>\n",
       "      <td>20.5%</td>\n",
       "      <td>148.5</td>\n",
       "      <td>14,120</td>\n",
       "    </tr>\n",
       "    <tr>\n",
       "      <th>1</th>\n",
       "      <td>Yucaipa Valley Water District</td>\n",
       "      <td>South Coast</td>\n",
       "      <td>34%</td>\n",
       "      <td>20%</td>\n",
       "      <td>Yes</td>\n",
       "      <td>18.3%</td>\n",
       "      <td>7.1%</td>\n",
       "      <td>7.1%</td>\n",
       "      <td>12.9%</td>\n",
       "      <td>NaN</td>\n",
       "      <td>26.4%</td>\n",
       "      <td>11.9%</td>\n",
       "      <td>260.0</td>\n",
       "      <td>45,018</td>\n",
       "    </tr>\n",
       "    <tr>\n",
       "      <th>2</th>\n",
       "      <td>Sanger  City of</td>\n",
       "      <td>Tulare Lake</td>\n",
       "      <td>26%</td>\n",
       "      <td>26%</td>\n",
       "      <td>No</td>\n",
       "      <td>17.3%</td>\n",
       "      <td>12.4%</td>\n",
       "      <td>17.3%</td>\n",
       "      <td>8.7%</td>\n",
       "      <td>NaN</td>\n",
       "      <td>38.0%</td>\n",
       "      <td>17.2%</td>\n",
       "      <td>181.1</td>\n",
       "      <td>25,664</td>\n",
       "    </tr>\n",
       "    <tr>\n",
       "      <th>3</th>\n",
       "      <td>Adelanto City of</td>\n",
       "      <td>South Lahontan</td>\n",
       "      <td>16%</td>\n",
       "      <td>16%</td>\n",
       "      <td>No</td>\n",
       "      <td>9.3%</td>\n",
       "      <td>-10.3%</td>\n",
       "      <td>9.3%</td>\n",
       "      <td>6.7%</td>\n",
       "      <td>C</td>\n",
       "      <td>20.5%</td>\n",
       "      <td>-30.6%</td>\n",
       "      <td>125.5</td>\n",
       "      <td>29,023</td>\n",
       "    </tr>\n",
       "    <tr>\n",
       "      <th>4</th>\n",
       "      <td>Red Bluff  City of</td>\n",
       "      <td>Sacramento River</td>\n",
       "      <td>33%</td>\n",
       "      <td>33%</td>\n",
       "      <td>No</td>\n",
       "      <td>27.8%</td>\n",
       "      <td>19.5%</td>\n",
       "      <td>27.8%</td>\n",
       "      <td>5.2%</td>\n",
       "      <td>NaN</td>\n",
       "      <td>42.4%</td>\n",
       "      <td>30.8%</td>\n",
       "      <td>202.9</td>\n",
       "      <td>14,076</td>\n",
       "    </tr>\n",
       "  </tbody>\n",
       "</table>\n",
       "</div>"
      ],
      "text/plain": [
       "                   Supplier Name  Hydrologic Region  \\\n",
       "0       California City  City of     South Lahontan   \n",
       "1  Yucaipa Valley Water District        South Coast   \n",
       "2                Sanger  City of        Tulare Lake   \n",
       "3               Adelanto City of     South Lahontan   \n",
       "4             Red Bluff  City of   Sacramento River   \n",
       "\n",
       "   State-mandated Conservation Standard - Previous (3/1/2016)  \\\n",
       "0                                                28%            \n",
       "1                                                34%            \n",
       "2                                                26%            \n",
       "3                                                16%            \n",
       "4                                                33%            \n",
       "\n",
       "   State-mandated Conservation Standard - Current (Effective 6/1/2016)  \\\n",
       "0                                                28%                     \n",
       "1                                                20%                     \n",
       "2                                                26%                     \n",
       "3                                                16%                     \n",
       "4                                                33%                     \n",
       "\n",
       "   Did Supplier Self-certify?  \\\n",
       "0                          No   \n",
       "1                         Yes   \n",
       "2                          No   \n",
       "3                          No   \n",
       "4                          No   \n",
       "\n",
       "   Enforceable Cumulative Percent Savings (as compared to 2013) - June 2015-Aug 2016  \\\n",
       "0                                              13.1%                                   \n",
       "1                                              18.3%                                   \n",
       "2                                              17.3%                                   \n",
       "3                                               9.3%                                   \n",
       "4                                              27.8%                                   \n",
       "\n",
       "   June 2016 to Aug 2016 Self-certified?  \\\n",
       "0                                  18.0%   \n",
       "1                                   7.1%   \n",
       "2                                  12.4%   \n",
       "3                                 -10.3%   \n",
       "4                                  19.5%   \n",
       "\n",
       "   Applicable Cumulative Savings by Supplier (as compared to 2013)  \\\n",
       "0                                              13.1%                 \n",
       "1                                               7.1%                 \n",
       "2                                              17.3%                 \n",
       "3                                               9.3%                 \n",
       "4                                              27.8%                 \n",
       "\n",
       "   Missed Conservation Standard By  Order Status  \\\n",
       "0                            14.9%             C   \n",
       "1                            12.9%           NaN   \n",
       "2                             8.7%           NaN   \n",
       "3                             6.7%             C   \n",
       "4                             5.2%           NaN   \n",
       "\n",
       "   Monthly Savings (as compared to 2013) - Aug 2015  \\\n",
       "0                                             16.8%   \n",
       "1                                             26.4%   \n",
       "2                                             38.0%   \n",
       "3                                             20.5%   \n",
       "4                                             42.4%   \n",
       "\n",
       "   Monthly Savings (as compared to 2013) - Aug 2016  \\\n",
       "0                                             20.5%   \n",
       "1                                             11.9%   \n",
       "2                                             17.2%   \n",
       "3                                            -30.6%   \n",
       "4                                             30.8%   \n",
       "\n",
       "    Estimated Aug 2016 Monthly R-GPCD  Total Population Served  \n",
       "0                               148.5                   14,120  \n",
       "1                               260.0                   45,018  \n",
       "2                               181.1                   25,664  \n",
       "3                               125.5                   29,023  \n",
       "4                               202.9                   14,076  "
      ]
     },
     "execution_count": 348,
     "metadata": {},
     "output_type": "execute_result"
    }
   ],
   "source": [
    "conserv.head()"
   ]
  },
  {
   "cell_type": "code",
   "execution_count": 349,
   "metadata": {},
   "outputs": [
    {
     "data": {
      "text/plain": [
       "A    4\n",
       "C    3\n",
       "Name:  Order Status, dtype: int64"
      ]
     },
     "execution_count": 349,
     "metadata": {},
     "output_type": "execute_result"
    }
   ],
   "source": [
    "conserv[' Order Status'].value_counts()"
   ]
  },
  {
   "cell_type": "code",
   "execution_count": 350,
   "metadata": {},
   "outputs": [
    {
     "data": {
      "text/plain": [
       "382"
      ]
     },
     "execution_count": 350,
     "metadata": {},
     "output_type": "execute_result"
    }
   ],
   "source": [
    "conserv[' Order Status'].isnull().sum()"
   ]
  },
  {
   "cell_type": "code",
   "execution_count": 351,
   "metadata": {},
   "outputs": [],
   "source": [
    "conserv = conserv.drop(columns=' Order Status')"
   ]
  },
  {
   "cell_type": "code",
   "execution_count": 352,
   "metadata": {},
   "outputs": [],
   "source": [
    "perc_cols = [' State-mandated Conservation Standard - Previous (3/1/2016)',\n",
    "             ' State-mandated Conservation Standard - Current (Effective 6/1/2016)',\n",
    "             ' Enforceable Cumulative Percent Savings (as compared to 2013) - June 2015-Aug 2016',\n",
    "             ' June 2016 to Aug 2016 Self-certified?',\n",
    "             ' Applicable Cumulative Savings by Supplier (as compared to 2013)',\n",
    "             ' Missed Conservation Standard By',\n",
    "             ' Monthly Savings (as compared to 2013) - Aug 2015',\n",
    "             ' Monthly Savings (as compared to 2013) - Aug 2016',] \n",
    "\n",
    "for i in perc_cols:\n",
    "    conserv[i] = conserv[i].str.strip('%').astype(float)\n"
   ]
  },
  {
   "cell_type": "code",
   "execution_count": 353,
   "metadata": {},
   "outputs": [
    {
     "data": {
      "text/plain": [
       "Index(['Supplier Name', ' Hydrologic Region',\n",
       "       ' State-mandated Conservation Standard - Previous (3/1/2016)',\n",
       "       ' State-mandated Conservation Standard - Current (Effective 6/1/2016)',\n",
       "       ' Did Supplier Self-certify?',\n",
       "       ' Enforceable Cumulative Percent Savings (as compared to 2013) - June 2015-Aug 2016',\n",
       "       ' June 2016 to Aug 2016 Self-certified?',\n",
       "       ' Applicable Cumulative Savings by Supplier (as compared to 2013)',\n",
       "       ' Missed Conservation Standard By',\n",
       "       ' Monthly Savings (as compared to 2013) - Aug 2015',\n",
       "       ' Monthly Savings (as compared to 2013) - Aug 2016',\n",
       "       ' Estimated Aug 2016 Monthly R-GPCD', ' Total Population Served'],\n",
       "      dtype='object')"
      ]
     },
     "execution_count": 353,
     "metadata": {},
     "output_type": "execute_result"
    }
   ],
   "source": [
    "conserv.columns"
   ]
  },
  {
   "cell_type": "code",
   "execution_count": 354,
   "metadata": {
    "scrolled": true
   },
   "outputs": [
    {
     "data": {
      "text/plain": [
       "Supplier Name                                                                          object\n",
       " Hydrologic Region                                                                     object\n",
       " State-mandated Conservation Standard - Previous (3/1/2016)                           float64\n",
       " State-mandated Conservation Standard - Current (Effective 6/1/2016)                  float64\n",
       " Did Supplier Self-certify?                                                            object\n",
       " Enforceable Cumulative Percent Savings (as compared to 2013) - June 2015-Aug 2016    float64\n",
       " June 2016 to Aug 2016 Self-certified?                                                float64\n",
       " Applicable Cumulative Savings by Supplier (as compared to 2013)                      float64\n",
       " Missed Conservation Standard By                                                      float64\n",
       " Monthly Savings (as compared to 2013) - Aug 2015                                     float64\n",
       " Monthly Savings (as compared to 2013) - Aug 2016                                     float64\n",
       " Estimated Aug 2016 Monthly R-GPCD                                                    float64\n",
       " Total Population Served                                                               object\n",
       "dtype: object"
      ]
     },
     "execution_count": 354,
     "metadata": {},
     "output_type": "execute_result"
    }
   ],
   "source": [
    "conserv.dtypes"
   ]
  },
  {
   "cell_type": "code",
   "execution_count": 355,
   "metadata": {},
   "outputs": [
    {
     "data": {
      "text/plain": [
       "0"
      ]
     },
     "execution_count": 355,
     "metadata": {},
     "output_type": "execute_result"
    }
   ],
   "source": [
    "conserv[' Total Population Served'].isnull().sum()"
   ]
  },
  {
   "cell_type": "code",
   "execution_count": 356,
   "metadata": {},
   "outputs": [],
   "source": [
    "conserv[' Total Population Served'] = conserv[' Total Population Served'].str.split(',').map(''.join).astype(int)"
   ]
  },
  {
   "cell_type": "code",
   "execution_count": 357,
   "metadata": {
    "scrolled": true
   },
   "outputs": [
    {
     "data": {
      "text/plain": [
       "Yes    361\n",
       "No      28\n",
       "Name:  Did Supplier Self-certify?, dtype: int64"
      ]
     },
     "execution_count": 357,
     "metadata": {},
     "output_type": "execute_result"
    }
   ],
   "source": [
    "conserv[' Did Supplier Self-certify?'].value_counts()"
   ]
  },
  {
   "cell_type": "code",
   "execution_count": 358,
   "metadata": {},
   "outputs": [],
   "source": [
    "conserv[' Did Supplier Self-certify?'] = conserv[' Did Supplier Self-certify?'].map({'Yes': 1, \n",
    "                                                                                    'No': 0})"
   ]
  },
  {
   "cell_type": "code",
   "execution_count": 359,
   "metadata": {},
   "outputs": [],
   "source": [
    "conserv = conserv.rename(columns={' Hydrologic Region': 'hydrologic_region'})"
   ]
  },
  {
   "cell_type": "code",
   "execution_count": 360,
   "metadata": {},
   "outputs": [],
   "source": [
    "conserv['hydrologic_region'] = conserv['hydrologic_region'].map(hydro_regions)"
   ]
  },
  {
   "cell_type": "code",
   "execution_count": 361,
   "metadata": {
    "scrolled": true
   },
   "outputs": [
    {
     "data": {
      "text/plain": [
       "Index(['Supplier Name', 'hydrologic_region',\n",
       "       ' State-mandated Conservation Standard - Previous (3/1/2016)',\n",
       "       ' State-mandated Conservation Standard - Current (Effective 6/1/2016)',\n",
       "       ' Did Supplier Self-certify?',\n",
       "       ' Enforceable Cumulative Percent Savings (as compared to 2013) - June 2015-Aug 2016',\n",
       "       ' June 2016 to Aug 2016 Self-certified?',\n",
       "       ' Applicable Cumulative Savings by Supplier (as compared to 2013)',\n",
       "       ' Missed Conservation Standard By',\n",
       "       ' Monthly Savings (as compared to 2013) - Aug 2015',\n",
       "       ' Monthly Savings (as compared to 2013) - Aug 2016',\n",
       "       ' Estimated Aug 2016 Monthly R-GPCD', ' Total Population Served'],\n",
       "      dtype='object')"
      ]
     },
     "execution_count": 361,
     "metadata": {},
     "output_type": "execute_result"
    }
   ],
   "source": [
    "conserv.columns"
   ]
  },
  {
   "cell_type": "code",
   "execution_count": 362,
   "metadata": {},
   "outputs": [],
   "source": [
    "rename = {'Supplier Name': 'supplier_name',\n",
    "          ' Hydrologic Region': 'hydrologic_region', \n",
    "          ' State-mandated Conservation Standard - Previous (3/1/2016)': 'prev_conserve_standard',\n",
    "          ' State-mandated Conservation Standard - Current (Effective 6/1/2016)': 'current_conserve_standard',\n",
    "          ' Did Supplier Self-certify?': 'self_cert',\n",
    "          ' Enforceable Cumulative Percent Savings (as compared to 2013) - June 2015-Aug 2016': 'pct_enforcable_savings',\n",
    "          ' June 2016 to Aug 2016 Self-certified?': 'self_cert_2016',\n",
    "          ' Applicable Cumulative Savings by Supplier (as compared to 2013)': 'cumulative_savings',\n",
    "          ' Missed Conservation Standard By': 'missed_standard_by',\n",
    "          ' Monthly Savings (as compared to 2013) - Aug 2015': 'monthly_savings_aug_2015',\n",
    "          ' Monthly Savings (as compared to 2013) - Aug 2016': 'monthly_savings_aug_2016',\n",
    "          ' Estimated Aug 2016 Monthly R-GPCD': 'r_gpcd_2016', \n",
    "          ' Total Population Served': 'pop_served'\n",
    "         }\n",
    "conserv = conserv.rename(columns=rename)"
   ]
  },
  {
   "cell_type": "markdown",
   "metadata": {},
   "source": [
    "---\n",
    "## Groundwater\n",
    "---"
   ]
  },
  {
   "cell_type": "code",
   "execution_count": 363,
   "metadata": {
    "scrolled": true
   },
   "outputs": [
    {
     "data": {
      "text/html": [
       "<div>\n",
       "<style scoped>\n",
       "    .dataframe tbody tr th:only-of-type {\n",
       "        vertical-align: middle;\n",
       "    }\n",
       "\n",
       "    .dataframe tbody tr th {\n",
       "        vertical-align: top;\n",
       "    }\n",
       "\n",
       "    .dataframe thead th {\n",
       "        text-align: right;\n",
       "    }\n",
       "</style>\n",
       "<table border=\"1\" class=\"dataframe\">\n",
       "  <thead>\n",
       "    <tr style=\"text-align: right;\">\n",
       "      <th></th>\n",
       "      <th>SITE_CODE</th>\n",
       "      <th>WLM_ID</th>\n",
       "      <th>MSMT_DATE</th>\n",
       "      <th>WLM_RPE</th>\n",
       "      <th>WLM_GSE</th>\n",
       "      <th>GWE</th>\n",
       "      <th>GSE_GWE</th>\n",
       "      <th>WLM_QA_DESC</th>\n",
       "      <th>WLM_DESC</th>\n",
       "      <th>WLM_ACC_DESC</th>\n",
       "      <th>WLM_ORG_NAME</th>\n",
       "      <th>COOP_ORG_NAME</th>\n",
       "      <th>MONITORING_PROGRAM</th>\n",
       "      <th>MSMT_CMT</th>\n",
       "    </tr>\n",
       "  </thead>\n",
       "  <tbody>\n",
       "    <tr>\n",
       "      <th>0</th>\n",
       "      <td>320000N1140000W001</td>\n",
       "      <td>2688524</td>\n",
       "      <td>2020-08-27 00:00:00</td>\n",
       "      <td>545.92</td>\n",
       "      <td>545.92</td>\n",
       "      <td>120.92</td>\n",
       "      <td>425.0</td>\n",
       "      <td>NaN</td>\n",
       "      <td>Electric sounder measurement</td>\n",
       "      <td>Water level accuracy to nearest hundredth of a...</td>\n",
       "      <td>Monterey Peninsula Water Management District</td>\n",
       "      <td>Monterey Peninsula Water Management District</td>\n",
       "      <td>VOLUNTARY</td>\n",
       "      <td>NaN</td>\n",
       "    </tr>\n",
       "    <tr>\n",
       "      <th>1</th>\n",
       "      <td>320000N1140000W001</td>\n",
       "      <td>2688523</td>\n",
       "      <td>2020-07-30 00:00:00</td>\n",
       "      <td>545.92</td>\n",
       "      <td>545.92</td>\n",
       "      <td>119.92</td>\n",
       "      <td>426.0</td>\n",
       "      <td>NaN</td>\n",
       "      <td>Electric sounder measurement</td>\n",
       "      <td>Water level accuracy to nearest hundredth of a...</td>\n",
       "      <td>Monterey Peninsula Water Management District</td>\n",
       "      <td>Monterey Peninsula Water Management District</td>\n",
       "      <td>VOLUNTARY</td>\n",
       "      <td>NaN</td>\n",
       "    </tr>\n",
       "    <tr>\n",
       "      <th>2</th>\n",
       "      <td>320000N1140000W001</td>\n",
       "      <td>2688522</td>\n",
       "      <td>2020-06-25 00:00:00</td>\n",
       "      <td>545.92</td>\n",
       "      <td>545.92</td>\n",
       "      <td>116.92</td>\n",
       "      <td>429.0</td>\n",
       "      <td>NaN</td>\n",
       "      <td>Electric sounder measurement</td>\n",
       "      <td>Water level accuracy to nearest hundredth of a...</td>\n",
       "      <td>Monterey Peninsula Water Management District</td>\n",
       "      <td>Monterey Peninsula Water Management District</td>\n",
       "      <td>VOLUNTARY</td>\n",
       "      <td>NaN</td>\n",
       "    </tr>\n",
       "    <tr>\n",
       "      <th>3</th>\n",
       "      <td>320000N1140000W001</td>\n",
       "      <td>2688521</td>\n",
       "      <td>2020-05-28 00:00:00</td>\n",
       "      <td>545.92</td>\n",
       "      <td>545.92</td>\n",
       "      <td>165.92</td>\n",
       "      <td>380.0</td>\n",
       "      <td>NaN</td>\n",
       "      <td>Electric sounder measurement</td>\n",
       "      <td>Water level accuracy to nearest hundredth of a...</td>\n",
       "      <td>Monterey Peninsula Water Management District</td>\n",
       "      <td>Monterey Peninsula Water Management District</td>\n",
       "      <td>VOLUNTARY</td>\n",
       "      <td>NaN</td>\n",
       "    </tr>\n",
       "    <tr>\n",
       "      <th>4</th>\n",
       "      <td>320000N1140000W001</td>\n",
       "      <td>2688520</td>\n",
       "      <td>2020-04-30 00:00:00</td>\n",
       "      <td>545.92</td>\n",
       "      <td>545.92</td>\n",
       "      <td>122.92</td>\n",
       "      <td>423.0</td>\n",
       "      <td>NaN</td>\n",
       "      <td>Electric sounder measurement</td>\n",
       "      <td>Water level accuracy to nearest hundredth of a...</td>\n",
       "      <td>Monterey Peninsula Water Management District</td>\n",
       "      <td>Monterey Peninsula Water Management District</td>\n",
       "      <td>VOLUNTARY</td>\n",
       "      <td>NaN</td>\n",
       "    </tr>\n",
       "    <tr>\n",
       "      <th>...</th>\n",
       "      <td>...</td>\n",
       "      <td>...</td>\n",
       "      <td>...</td>\n",
       "      <td>...</td>\n",
       "      <td>...</td>\n",
       "      <td>...</td>\n",
       "      <td>...</td>\n",
       "      <td>...</td>\n",
       "      <td>...</td>\n",
       "      <td>...</td>\n",
       "      <td>...</td>\n",
       "      <td>...</td>\n",
       "      <td>...</td>\n",
       "      <td>...</td>\n",
       "    </tr>\n",
       "    <tr>\n",
       "      <th>2041407</th>\n",
       "      <td>420171N1214111W001</td>\n",
       "      <td>675330</td>\n",
       "      <td>2002-01-03 00:00:00</td>\n",
       "      <td>4061.00</td>\n",
       "      <td>4060.00</td>\n",
       "      <td>4016.30</td>\n",
       "      <td>43.7</td>\n",
       "      <td>NaN</td>\n",
       "      <td>Unknown</td>\n",
       "      <td>Water level accuracy is unknown</td>\n",
       "      <td>Department of Water Resources</td>\n",
       "      <td>Department of Water Resources</td>\n",
       "      <td>VOLUNTARY</td>\n",
       "      <td>NaN</td>\n",
       "    </tr>\n",
       "    <tr>\n",
       "      <th>2041408</th>\n",
       "      <td>420171N1214111W001</td>\n",
       "      <td>675329</td>\n",
       "      <td>2001-12-19 00:00:00</td>\n",
       "      <td>4061.00</td>\n",
       "      <td>4060.00</td>\n",
       "      <td>4014.90</td>\n",
       "      <td>45.1</td>\n",
       "      <td>NaN</td>\n",
       "      <td>Unknown</td>\n",
       "      <td>Water level accuracy is unknown</td>\n",
       "      <td>Department of Water Resources</td>\n",
       "      <td>Department of Water Resources</td>\n",
       "      <td>VOLUNTARY</td>\n",
       "      <td>NaN</td>\n",
       "    </tr>\n",
       "    <tr>\n",
       "      <th>2041409</th>\n",
       "      <td>420171N1214111W001</td>\n",
       "      <td>675328</td>\n",
       "      <td>2001-12-06 00:00:00</td>\n",
       "      <td>4061.00</td>\n",
       "      <td>4060.00</td>\n",
       "      <td>4011.20</td>\n",
       "      <td>48.8</td>\n",
       "      <td>NaN</td>\n",
       "      <td>Unknown</td>\n",
       "      <td>Water level accuracy is unknown</td>\n",
       "      <td>Department of Water Resources</td>\n",
       "      <td>Department of Water Resources</td>\n",
       "      <td>VOLUNTARY</td>\n",
       "      <td>NaN</td>\n",
       "    </tr>\n",
       "    <tr>\n",
       "      <th>2041410</th>\n",
       "      <td>420171N1214111W001</td>\n",
       "      <td>675327</td>\n",
       "      <td>2001-11-20 00:00:00</td>\n",
       "      <td>4061.00</td>\n",
       "      <td>4060.00</td>\n",
       "      <td>4012.60</td>\n",
       "      <td>47.4</td>\n",
       "      <td>NaN</td>\n",
       "      <td>Unknown</td>\n",
       "      <td>Water level accuracy is unknown</td>\n",
       "      <td>Department of Water Resources</td>\n",
       "      <td>Department of Water Resources</td>\n",
       "      <td>VOLUNTARY</td>\n",
       "      <td>NaN</td>\n",
       "    </tr>\n",
       "    <tr>\n",
       "      <th>2041411</th>\n",
       "      <td>420171N1214111W001</td>\n",
       "      <td>675326</td>\n",
       "      <td>2001-11-08 00:00:00</td>\n",
       "      <td>4061.00</td>\n",
       "      <td>4060.00</td>\n",
       "      <td>4008.60</td>\n",
       "      <td>51.4</td>\n",
       "      <td>NaN</td>\n",
       "      <td>Unknown</td>\n",
       "      <td>Water level accuracy is unknown</td>\n",
       "      <td>Department of Water Resources</td>\n",
       "      <td>Department of Water Resources</td>\n",
       "      <td>VOLUNTARY</td>\n",
       "      <td>NaN</td>\n",
       "    </tr>\n",
       "  </tbody>\n",
       "</table>\n",
       "<p>2041412 rows × 14 columns</p>\n",
       "</div>"
      ],
      "text/plain": [
       "                  SITE_CODE   WLM_ID            MSMT_DATE  WLM_RPE  WLM_GSE  \\\n",
       "0        320000N1140000W001  2688524  2020-08-27 00:00:00   545.92   545.92   \n",
       "1        320000N1140000W001  2688523  2020-07-30 00:00:00   545.92   545.92   \n",
       "2        320000N1140000W001  2688522  2020-06-25 00:00:00   545.92   545.92   \n",
       "3        320000N1140000W001  2688521  2020-05-28 00:00:00   545.92   545.92   \n",
       "4        320000N1140000W001  2688520  2020-04-30 00:00:00   545.92   545.92   \n",
       "...                     ...      ...                  ...      ...      ...   \n",
       "2041407  420171N1214111W001   675330  2002-01-03 00:00:00  4061.00  4060.00   \n",
       "2041408  420171N1214111W001   675329  2001-12-19 00:00:00  4061.00  4060.00   \n",
       "2041409  420171N1214111W001   675328  2001-12-06 00:00:00  4061.00  4060.00   \n",
       "2041410  420171N1214111W001   675327  2001-11-20 00:00:00  4061.00  4060.00   \n",
       "2041411  420171N1214111W001   675326  2001-11-08 00:00:00  4061.00  4060.00   \n",
       "\n",
       "             GWE  GSE_GWE WLM_QA_DESC                      WLM_DESC  \\\n",
       "0         120.92    425.0         NaN  Electric sounder measurement   \n",
       "1         119.92    426.0         NaN  Electric sounder measurement   \n",
       "2         116.92    429.0         NaN  Electric sounder measurement   \n",
       "3         165.92    380.0         NaN  Electric sounder measurement   \n",
       "4         122.92    423.0         NaN  Electric sounder measurement   \n",
       "...          ...      ...         ...                           ...   \n",
       "2041407  4016.30     43.7         NaN                       Unknown   \n",
       "2041408  4014.90     45.1         NaN                       Unknown   \n",
       "2041409  4011.20     48.8         NaN                       Unknown   \n",
       "2041410  4012.60     47.4         NaN                       Unknown   \n",
       "2041411  4008.60     51.4         NaN                       Unknown   \n",
       "\n",
       "                                              WLM_ACC_DESC  \\\n",
       "0        Water level accuracy to nearest hundredth of a...   \n",
       "1        Water level accuracy to nearest hundredth of a...   \n",
       "2        Water level accuracy to nearest hundredth of a...   \n",
       "3        Water level accuracy to nearest hundredth of a...   \n",
       "4        Water level accuracy to nearest hundredth of a...   \n",
       "...                                                    ...   \n",
       "2041407                    Water level accuracy is unknown   \n",
       "2041408                    Water level accuracy is unknown   \n",
       "2041409                    Water level accuracy is unknown   \n",
       "2041410                    Water level accuracy is unknown   \n",
       "2041411                    Water level accuracy is unknown   \n",
       "\n",
       "                                         WLM_ORG_NAME  \\\n",
       "0        Monterey Peninsula Water Management District   \n",
       "1        Monterey Peninsula Water Management District   \n",
       "2        Monterey Peninsula Water Management District   \n",
       "3        Monterey Peninsula Water Management District   \n",
       "4        Monterey Peninsula Water Management District   \n",
       "...                                               ...   \n",
       "2041407                 Department of Water Resources   \n",
       "2041408                 Department of Water Resources   \n",
       "2041409                 Department of Water Resources   \n",
       "2041410                 Department of Water Resources   \n",
       "2041411                 Department of Water Resources   \n",
       "\n",
       "                                        COOP_ORG_NAME MONITORING_PROGRAM  \\\n",
       "0        Monterey Peninsula Water Management District          VOLUNTARY   \n",
       "1        Monterey Peninsula Water Management District          VOLUNTARY   \n",
       "2        Monterey Peninsula Water Management District          VOLUNTARY   \n",
       "3        Monterey Peninsula Water Management District          VOLUNTARY   \n",
       "4        Monterey Peninsula Water Management District          VOLUNTARY   \n",
       "...                                               ...                ...   \n",
       "2041407                 Department of Water Resources          VOLUNTARY   \n",
       "2041408                 Department of Water Resources          VOLUNTARY   \n",
       "2041409                 Department of Water Resources          VOLUNTARY   \n",
       "2041410                 Department of Water Resources          VOLUNTARY   \n",
       "2041411                 Department of Water Resources          VOLUNTARY   \n",
       "\n",
       "        MSMT_CMT  \n",
       "0            NaN  \n",
       "1            NaN  \n",
       "2            NaN  \n",
       "3            NaN  \n",
       "4            NaN  \n",
       "...          ...  \n",
       "2041407      NaN  \n",
       "2041408      NaN  \n",
       "2041409      NaN  \n",
       "2041410      NaN  \n",
       "2041411      NaN  \n",
       "\n",
       "[2041412 rows x 14 columns]"
      ]
     },
     "execution_count": 363,
     "metadata": {},
     "output_type": "execute_result"
    }
   ],
   "source": [
    "groundwater"
   ]
  },
  {
   "cell_type": "code",
   "execution_count": 364,
   "metadata": {},
   "outputs": [
    {
     "data": {
      "text/plain": [
       "SITE_CODE                   0\n",
       "WLM_ID                      0\n",
       "MSMT_DATE                   0\n",
       "WLM_RPE                     0\n",
       "WLM_GSE                     3\n",
       "GWE                    187142\n",
       "GSE_GWE                187145\n",
       "WLM_QA_DESC           1719268\n",
       "WLM_DESC               187083\n",
       "WLM_ACC_DESC           187087\n",
       "WLM_ORG_NAME                0\n",
       "COOP_ORG_NAME               0\n",
       "MONITORING_PROGRAM          0\n",
       "MSMT_CMT              1897286\n",
       "dtype: int64"
      ]
     },
     "execution_count": 364,
     "metadata": {},
     "output_type": "execute_result"
    }
   ],
   "source": [
    "groundwater.isnull().sum()"
   ]
  },
  {
   "cell_type": "code",
   "execution_count": 365,
   "metadata": {},
   "outputs": [
    {
     "data": {
      "text/plain": [
       "VOLUNTARY    1388472\n",
       "CASGEM        407084\n",
       "SGMA          245856\n",
       "Name: MONITORING_PROGRAM, dtype: int64"
      ]
     },
     "execution_count": 365,
     "metadata": {},
     "output_type": "execute_result"
    }
   ],
   "source": [
    "groundwater['MONITORING_PROGRAM'].value_counts()"
   ]
  },
  {
   "cell_type": "code",
   "execution_count": 366,
   "metadata": {},
   "outputs": [
    {
     "data": {
      "text/plain": [
       "SITE_CODE\n",
       "320000N1140000W001     154.684103\n",
       "325493N1170884W001      19.818750\n",
       "325536N1170608W001      28.923000\n",
       "325541N1170868W001      -3.165806\n",
       "325910N1170835W006      10.025000\n",
       "                         ...     \n",
       "419995N1215228W001    4035.742517\n",
       "420008N1214175W001    4042.874733\n",
       "420050N1213706W001    4061.632360\n",
       "420127N1214065W001    4010.077757\n",
       "420171N1214111W001    4008.494545\n",
       "Name: GWE, Length: 40888, dtype: float64"
      ]
     },
     "execution_count": 366,
     "metadata": {},
     "output_type": "execute_result"
    }
   ],
   "source": [
    "groundwater.groupby(['SITE_CODE'])['GWE'].mean()"
   ]
  },
  {
   "cell_type": "code",
   "execution_count": 367,
   "metadata": {},
   "outputs": [
    {
     "data": {
      "text/plain": [
       "40888"
      ]
     },
     "execution_count": 367,
     "metadata": {},
     "output_type": "execute_result"
    }
   ],
   "source": [
    "groundwater.SITE_CODE.nunique()  "
   ]
  },
  {
   "cell_type": "code",
   "execution_count": 368,
   "metadata": {},
   "outputs": [
    {
     "data": {
      "text/plain": [
       "49.926922324398355"
      ]
     },
     "execution_count": 368,
     "metadata": {},
     "output_type": "execute_result"
    }
   ],
   "source": [
    "len(groundwater) /  groundwater.SITE_CODE.nunique()  "
   ]
  },
  {
   "cell_type": "code",
   "execution_count": 369,
   "metadata": {},
   "outputs": [
    {
     "data": {
      "text/html": [
       "<div>\n",
       "<style scoped>\n",
       "    .dataframe tbody tr th:only-of-type {\n",
       "        vertical-align: middle;\n",
       "    }\n",
       "\n",
       "    .dataframe tbody tr th {\n",
       "        vertical-align: top;\n",
       "    }\n",
       "\n",
       "    .dataframe thead th {\n",
       "        text-align: right;\n",
       "    }\n",
       "</style>\n",
       "<table border=\"1\" class=\"dataframe\">\n",
       "  <thead>\n",
       "    <tr style=\"text-align: right;\">\n",
       "      <th></th>\n",
       "      <th>WLM_ID</th>\n",
       "      <th>WLM_RPE</th>\n",
       "      <th>WLM_GSE</th>\n",
       "      <th>GWE</th>\n",
       "      <th>GSE_GWE</th>\n",
       "    </tr>\n",
       "    <tr>\n",
       "      <th>SITE_CODE</th>\n",
       "      <th></th>\n",
       "      <th></th>\n",
       "      <th></th>\n",
       "      <th></th>\n",
       "      <th></th>\n",
       "    </tr>\n",
       "  </thead>\n",
       "  <tbody>\n",
       "    <tr>\n",
       "      <th>320000N1140000W001</th>\n",
       "      <td>2.468777e+06</td>\n",
       "      <td>545.92</td>\n",
       "      <td>545.92</td>\n",
       "      <td>154.684103</td>\n",
       "      <td>391.235897</td>\n",
       "    </tr>\n",
       "    <tr>\n",
       "      <th>325493N1170884W001</th>\n",
       "      <td>9.078875e+05</td>\n",
       "      <td>28.16</td>\n",
       "      <td>28.16</td>\n",
       "      <td>19.818750</td>\n",
       "      <td>8.341250</td>\n",
       "    </tr>\n",
       "    <tr>\n",
       "      <th>325536N1170608W001</th>\n",
       "      <td>1.936480e+06</td>\n",
       "      <td>44.73</td>\n",
       "      <td>45.26</td>\n",
       "      <td>28.923000</td>\n",
       "      <td>16.337000</td>\n",
       "    </tr>\n",
       "    <tr>\n",
       "      <th>325541N1170868W001</th>\n",
       "      <td>9.078525e+05</td>\n",
       "      <td>27.15</td>\n",
       "      <td>27.15</td>\n",
       "      <td>-3.165806</td>\n",
       "      <td>30.315806</td>\n",
       "    </tr>\n",
       "    <tr>\n",
       "      <th>325910N1170835W006</th>\n",
       "      <td>1.934764e+06</td>\n",
       "      <td>22.75</td>\n",
       "      <td>23.63</td>\n",
       "      <td>10.025000</td>\n",
       "      <td>13.605000</td>\n",
       "    </tr>\n",
       "    <tr>\n",
       "      <th>...</th>\n",
       "      <td>...</td>\n",
       "      <td>...</td>\n",
       "      <td>...</td>\n",
       "      <td>...</td>\n",
       "      <td>...</td>\n",
       "    </tr>\n",
       "    <tr>\n",
       "      <th>419995N1215228W001</th>\n",
       "      <td>1.146078e+06</td>\n",
       "      <td>4051.86</td>\n",
       "      <td>4050.20</td>\n",
       "      <td>4035.742517</td>\n",
       "      <td>14.457483</td>\n",
       "    </tr>\n",
       "    <tr>\n",
       "      <th>420008N1214175W001</th>\n",
       "      <td>1.159082e+06</td>\n",
       "      <td>4051.81</td>\n",
       "      <td>4051.81</td>\n",
       "      <td>4042.874733</td>\n",
       "      <td>8.935267</td>\n",
       "    </tr>\n",
       "    <tr>\n",
       "      <th>420050N1213706W001</th>\n",
       "      <td>1.128534e+06</td>\n",
       "      <td>4069.13</td>\n",
       "      <td>4067.70</td>\n",
       "      <td>4061.632360</td>\n",
       "      <td>6.067640</td>\n",
       "    </tr>\n",
       "    <tr>\n",
       "      <th>420127N1214065W001</th>\n",
       "      <td>1.855843e+06</td>\n",
       "      <td>4065.83</td>\n",
       "      <td>4064.80</td>\n",
       "      <td>4010.077757</td>\n",
       "      <td>54.722243</td>\n",
       "    </tr>\n",
       "    <tr>\n",
       "      <th>420171N1214111W001</th>\n",
       "      <td>1.124467e+06</td>\n",
       "      <td>4061.00</td>\n",
       "      <td>4060.00</td>\n",
       "      <td>4008.494545</td>\n",
       "      <td>51.505455</td>\n",
       "    </tr>\n",
       "  </tbody>\n",
       "</table>\n",
       "<p>40888 rows × 5 columns</p>\n",
       "</div>"
      ],
      "text/plain": [
       "                          WLM_ID  WLM_RPE  WLM_GSE          GWE     GSE_GWE\n",
       "SITE_CODE                                                                  \n",
       "320000N1140000W001  2.468777e+06   545.92   545.92   154.684103  391.235897\n",
       "325493N1170884W001  9.078875e+05    28.16    28.16    19.818750    8.341250\n",
       "325536N1170608W001  1.936480e+06    44.73    45.26    28.923000   16.337000\n",
       "325541N1170868W001  9.078525e+05    27.15    27.15    -3.165806   30.315806\n",
       "325910N1170835W006  1.934764e+06    22.75    23.63    10.025000   13.605000\n",
       "...                          ...      ...      ...          ...         ...\n",
       "419995N1215228W001  1.146078e+06  4051.86  4050.20  4035.742517   14.457483\n",
       "420008N1214175W001  1.159082e+06  4051.81  4051.81  4042.874733    8.935267\n",
       "420050N1213706W001  1.128534e+06  4069.13  4067.70  4061.632360    6.067640\n",
       "420127N1214065W001  1.855843e+06  4065.83  4064.80  4010.077757   54.722243\n",
       "420171N1214111W001  1.124467e+06  4061.00  4060.00  4008.494545   51.505455\n",
       "\n",
       "[40888 rows x 5 columns]"
      ]
     },
     "execution_count": 369,
     "metadata": {},
     "output_type": "execute_result"
    }
   ],
   "source": [
    "grouped_gw = groundwater.groupby(['SITE_CODE']).mean()\n",
    "grouped_gw"
   ]
  },
  {
   "cell_type": "code",
   "execution_count": 370,
   "metadata": {},
   "outputs": [
    {
     "data": {
      "text/plain": [
       "Index(['320000N1140000W001', '325493N1170884W001', '325536N1170608W001',\n",
       "       '325541N1170868W001', '325910N1170835W006', '325918N1170870W001',\n",
       "       '326183N1170652W001', '326197N1170612W001', '326296N1163759W001',\n",
       "       '326357N1164680W001',\n",
       "       ...\n",
       "       '419980N1215455W001', '419984N1215587W001', '419984N1215998W001',\n",
       "       '419988N1215264W001', '419989N1217002W002', '419995N1215228W001',\n",
       "       '420008N1214175W001', '420050N1213706W001', '420127N1214065W001',\n",
       "       '420171N1214111W001'],\n",
       "      dtype='object', name='SITE_CODE', length=40888)"
      ]
     },
     "execution_count": 370,
     "metadata": {},
     "output_type": "execute_result"
    }
   ],
   "source": [
    "grouped_gw.index[:]"
   ]
  },
  {
   "cell_type": "code",
   "execution_count": 371,
   "metadata": {
    "scrolled": false
   },
   "outputs": [
    {
     "data": {
      "text/plain": [
       "SITE_CODE                     object\n",
       "WLM_ID                         int64\n",
       "MSMT_DATE             datetime64[ns]\n",
       "WLM_RPE                      float64\n",
       "WLM_GSE                      float64\n",
       "GWE                          float64\n",
       "GSE_GWE                      float64\n",
       "WLM_QA_DESC                   object\n",
       "WLM_DESC                      object\n",
       "WLM_ACC_DESC                  object\n",
       "WLM_ORG_NAME                  object\n",
       "COOP_ORG_NAME                 object\n",
       "MONITORING_PROGRAM            object\n",
       "MSMT_CMT                      object\n",
       "dtype: object"
      ]
     },
     "execution_count": 371,
     "metadata": {},
     "output_type": "execute_result"
    }
   ],
   "source": [
    "groundwater['MSMT_DATE'] = pd.to_datetime(groundwater['MSMT_DATE'])\n",
    "groundwater.dtypes"
   ]
  },
  {
   "cell_type": "code",
   "execution_count": null,
   "metadata": {},
   "outputs": [],
   "source": []
  },
  {
   "cell_type": "code",
   "execution_count": 372,
   "metadata": {},
   "outputs": [],
   "source": [
    "# plt.figure(figsize=(14, 12))\n",
    "# sns.lineplot(data=groundwater, x='MSMT_DATE', y='GWE')"
   ]
  },
  {
   "cell_type": "code",
   "execution_count": 373,
   "metadata": {},
   "outputs": [
    {
     "data": {
      "text/plain": [
       "MSMT_DATE\n",
       "1888-01-31    1147.640000\n",
       "1888-02-29            NaN\n",
       "1888-03-31            NaN\n",
       "1888-04-30            NaN\n",
       "1888-05-31            NaN\n",
       "                 ...     \n",
       "2021-03-31     636.244890\n",
       "2021-04-30     575.763324\n",
       "2021-05-31    1062.560842\n",
       "2021-06-30     606.755913\n",
       "2021-07-31      81.551463\n",
       "Freq: M, Name: GWE, Length: 1603, dtype: float64"
      ]
     },
     "execution_count": 373,
     "metadata": {},
     "output_type": "execute_result"
    }
   ],
   "source": [
    "groundwater = groundwater.set_index('MSMT_DATE')\n",
    "groundwater = groundwater.resample('M')['GWE'].mean()\n",
    "groundwater"
   ]
  },
  {
   "cell_type": "code",
   "execution_count": 374,
   "metadata": {},
   "outputs": [
    {
     "data": {
      "text/plain": [
       "GWE    194\n",
       "dtype: int64"
      ]
     },
     "execution_count": 374,
     "metadata": {},
     "output_type": "execute_result"
    }
   ],
   "source": [
    "groundwater = pd.DataFrame(groundwater)\n",
    "groundwater.isnull().sum()"
   ]
  },
  {
   "cell_type": "code",
   "execution_count": 375,
   "metadata": {},
   "outputs": [
    {
     "data": {
      "text/plain": [
       "<AxesSubplot:xlabel='MSMT_DATE', ylabel='GWE'>"
      ]
     },
     "execution_count": 375,
     "metadata": {},
     "output_type": "execute_result"
    },
    {
     "data": {
      "image/png": "[encoded data removed]",
      "text/plain": [
       "<Figure size 1008x864 with 1 Axes>"
      ]
     },
     "metadata": {},
     "output_type": "display_data"
    }
   ],
   "source": [
    "plt.figure(figsize=(14, 12))\n",
    "sns.lineplot(x=groundwater.index, y=groundwater['GWE'])"
   ]
  },
  {
   "cell_type": "code",
   "execution_count": 376,
   "metadata": {},
   "outputs": [],
   "source": [
    "# plt.figure(figsize=(14, 12))\n",
    "# sns.lineplot(x=grouped_gw.index, y=grouped_gw['GWE'])"
   ]
  },
  {
   "cell_type": "markdown",
   "metadata": {},
   "source": [
    "---\n",
    "## Emergency Water Conservation\n",
    "---"
   ]
  },
  {
   "cell_type": "code",
   "execution_count": 377,
   "metadata": {
    "scrolled": true
   },
   "outputs": [
    {
     "data": {
      "text/html": [
       "<div>\n",
       "<style scoped>\n",
       "    .dataframe tbody tr th:only-of-type {\n",
       "        vertical-align: middle;\n",
       "    }\n",
       "\n",
       "    .dataframe tbody tr th {\n",
       "        vertical-align: top;\n",
       "    }\n",
       "\n",
       "    .dataframe thead th {\n",
       "        text-align: right;\n",
       "    }\n",
       "</style>\n",
       "<table border=\"1\" class=\"dataframe\">\n",
       "  <thead>\n",
       "    <tr style=\"text-align: right;\">\n",
       "      <th></th>\n",
       "      <th>Supplier Name</th>\n",
       "      <th>Public Water System ID</th>\n",
       "      <th>Reporting Month</th>\n",
       "      <th>County</th>\n",
       "      <th>Hydrologic Region</th>\n",
       "      <th>Climate Zone</th>\n",
       "      <th>Water Shortage Contingency Stage Invoked</th>\n",
       "      <th>Enhanced outreach and communication</th>\n",
       "      <th>Raising rates</th>\n",
       "      <th>Apply drought surcharges</th>\n",
       "      <th>...</th>\n",
       "      <th>Penalty Other</th>\n",
       "      <th>Number of Water Waste incidents identified or reported</th>\n",
       "      <th>Number of water waste complaints investigated</th>\n",
       "      <th>Number of water wasters notified</th>\n",
       "      <th>Watering on wrong day</th>\n",
       "      <th>Over-irrigating and causing runoff</th>\n",
       "      <th>Watering sidewalk</th>\n",
       "      <th>Water use over budget</th>\n",
       "      <th>Water Waste Other</th>\n",
       "      <th>Unnamed: 67</th>\n",
       "    </tr>\n",
       "  </thead>\n",
       "  <tbody>\n",
       "    <tr>\n",
       "      <th>0</th>\n",
       "      <td>Los Banos, City of</td>\n",
       "      <td>CA2410005</td>\n",
       "      <td>2021-04-15</td>\n",
       "      <td>Merced</td>\n",
       "      <td>San Joaquin River</td>\n",
       "      <td>12</td>\n",
       "      <td>2</td>\n",
       "      <td>NaN</td>\n",
       "      <td>NaN</td>\n",
       "      <td>NaN</td>\n",
       "      <td>...</td>\n",
       "      <td>NaN</td>\n",
       "      <td>NaN</td>\n",
       "      <td>NaN</td>\n",
       "      <td>NaN</td>\n",
       "      <td>NaN</td>\n",
       "      <td>NaN</td>\n",
       "      <td>NaN</td>\n",
       "      <td>NaN</td>\n",
       "      <td>NaN</td>\n",
       "      <td>NaN</td>\n",
       "    </tr>\n",
       "    <tr>\n",
       "      <th>1</th>\n",
       "      <td>Los Banos, City of</td>\n",
       "      <td>CA2410005</td>\n",
       "      <td>2021-03-15</td>\n",
       "      <td>Merced</td>\n",
       "      <td>San Joaquin River</td>\n",
       "      <td>12</td>\n",
       "      <td>2</td>\n",
       "      <td>NaN</td>\n",
       "      <td>NaN</td>\n",
       "      <td>NaN</td>\n",
       "      <td>...</td>\n",
       "      <td>NaN</td>\n",
       "      <td>NaN</td>\n",
       "      <td>NaN</td>\n",
       "      <td>NaN</td>\n",
       "      <td>NaN</td>\n",
       "      <td>NaN</td>\n",
       "      <td>NaN</td>\n",
       "      <td>NaN</td>\n",
       "      <td>NaN</td>\n",
       "      <td>NaN</td>\n",
       "    </tr>\n",
       "    <tr>\n",
       "      <th>2</th>\n",
       "      <td>Los Banos, City of</td>\n",
       "      <td>CA2410005</td>\n",
       "      <td>2021-02-15</td>\n",
       "      <td>Merced</td>\n",
       "      <td>San Joaquin River</td>\n",
       "      <td>12</td>\n",
       "      <td>2</td>\n",
       "      <td>NaN</td>\n",
       "      <td>NaN</td>\n",
       "      <td>NaN</td>\n",
       "      <td>...</td>\n",
       "      <td>NaN</td>\n",
       "      <td>NaN</td>\n",
       "      <td>NaN</td>\n",
       "      <td>NaN</td>\n",
       "      <td>NaN</td>\n",
       "      <td>NaN</td>\n",
       "      <td>NaN</td>\n",
       "      <td>NaN</td>\n",
       "      <td>NaN</td>\n",
       "      <td>NaN</td>\n",
       "    </tr>\n",
       "    <tr>\n",
       "      <th>3</th>\n",
       "      <td>Los Banos, City of</td>\n",
       "      <td>CA2410005</td>\n",
       "      <td>2021-01-15</td>\n",
       "      <td>Merced</td>\n",
       "      <td>San Joaquin River</td>\n",
       "      <td>12</td>\n",
       "      <td>2</td>\n",
       "      <td>NaN</td>\n",
       "      <td>NaN</td>\n",
       "      <td>NaN</td>\n",
       "      <td>...</td>\n",
       "      <td>NaN</td>\n",
       "      <td>NaN</td>\n",
       "      <td>NaN</td>\n",
       "      <td>NaN</td>\n",
       "      <td>NaN</td>\n",
       "      <td>NaN</td>\n",
       "      <td>NaN</td>\n",
       "      <td>NaN</td>\n",
       "      <td>NaN</td>\n",
       "      <td>NaN</td>\n",
       "    </tr>\n",
       "    <tr>\n",
       "      <th>4</th>\n",
       "      <td>Los Banos, City of</td>\n",
       "      <td>CA2410005</td>\n",
       "      <td>2020-12-15</td>\n",
       "      <td>Merced</td>\n",
       "      <td>San Joaquin River</td>\n",
       "      <td>12</td>\n",
       "      <td>2</td>\n",
       "      <td>NaN</td>\n",
       "      <td>NaN</td>\n",
       "      <td>NaN</td>\n",
       "      <td>...</td>\n",
       "      <td>NaN</td>\n",
       "      <td>NaN</td>\n",
       "      <td>NaN</td>\n",
       "      <td>NaN</td>\n",
       "      <td>NaN</td>\n",
       "      <td>NaN</td>\n",
       "      <td>NaN</td>\n",
       "      <td>NaN</td>\n",
       "      <td>NaN</td>\n",
       "      <td>NaN</td>\n",
       "    </tr>\n",
       "    <tr>\n",
       "      <th>...</th>\n",
       "      <td>...</td>\n",
       "      <td>...</td>\n",
       "      <td>...</td>\n",
       "      <td>...</td>\n",
       "      <td>...</td>\n",
       "      <td>...</td>\n",
       "      <td>...</td>\n",
       "      <td>...</td>\n",
       "      <td>...</td>\n",
       "      <td>...</td>\n",
       "      <td>...</td>\n",
       "      <td>...</td>\n",
       "      <td>...</td>\n",
       "      <td>...</td>\n",
       "      <td>...</td>\n",
       "      <td>...</td>\n",
       "      <td>...</td>\n",
       "      <td>...</td>\n",
       "      <td>...</td>\n",
       "      <td>...</td>\n",
       "      <td>...</td>\n",
       "    </tr>\n",
       "    <tr>\n",
       "      <th>661</th>\n",
       "      <td>Mountain House Community Services District</td>\n",
       "      <td>CA3910027</td>\n",
       "      <td>2021-02-15</td>\n",
       "      <td>San Joaquin</td>\n",
       "      <td>San Joaquin River</td>\n",
       "      <td>12</td>\n",
       "      <td>2</td>\n",
       "      <td>NaN</td>\n",
       "      <td>NaN</td>\n",
       "      <td>NaN</td>\n",
       "      <td>...</td>\n",
       "      <td>NaN</td>\n",
       "      <td>0.0</td>\n",
       "      <td>0.0</td>\n",
       "      <td>0.0</td>\n",
       "      <td>NaN</td>\n",
       "      <td>NaN</td>\n",
       "      <td>NaN</td>\n",
       "      <td>NaN</td>\n",
       "      <td>NaN</td>\n",
       "      <td>NaN</td>\n",
       "    </tr>\n",
       "    <tr>\n",
       "      <th>662</th>\n",
       "      <td>Mountain House Community Services District</td>\n",
       "      <td>CA3910027</td>\n",
       "      <td>2021-01-15</td>\n",
       "      <td>San Joaquin</td>\n",
       "      <td>San Joaquin River</td>\n",
       "      <td>12</td>\n",
       "      <td>2</td>\n",
       "      <td>NaN</td>\n",
       "      <td>NaN</td>\n",
       "      <td>NaN</td>\n",
       "      <td>...</td>\n",
       "      <td>NaN</td>\n",
       "      <td>0.0</td>\n",
       "      <td>0.0</td>\n",
       "      <td>0.0</td>\n",
       "      <td>NaN</td>\n",
       "      <td>NaN</td>\n",
       "      <td>NaN</td>\n",
       "      <td>NaN</td>\n",
       "      <td>NaN</td>\n",
       "      <td>NaN</td>\n",
       "    </tr>\n",
       "    <tr>\n",
       "      <th>663</th>\n",
       "      <td>Mountain House Community Services District</td>\n",
       "      <td>CA3910027</td>\n",
       "      <td>2020-12-15</td>\n",
       "      <td>San Joaquin</td>\n",
       "      <td>San Joaquin River</td>\n",
       "      <td>12</td>\n",
       "      <td>2</td>\n",
       "      <td>NaN</td>\n",
       "      <td>NaN</td>\n",
       "      <td>NaN</td>\n",
       "      <td>...</td>\n",
       "      <td>NaN</td>\n",
       "      <td>0.0</td>\n",
       "      <td>0.0</td>\n",
       "      <td>0.0</td>\n",
       "      <td>NaN</td>\n",
       "      <td>NaN</td>\n",
       "      <td>NaN</td>\n",
       "      <td>NaN</td>\n",
       "      <td>NaN</td>\n",
       "      <td>NaN</td>\n",
       "    </tr>\n",
       "    <tr>\n",
       "      <th>664</th>\n",
       "      <td>Mountain House Community Services District</td>\n",
       "      <td>CA3910027</td>\n",
       "      <td>2020-11-15</td>\n",
       "      <td>San Joaquin</td>\n",
       "      <td>San Joaquin River</td>\n",
       "      <td>12</td>\n",
       "      <td>2</td>\n",
       "      <td>NaN</td>\n",
       "      <td>NaN</td>\n",
       "      <td>NaN</td>\n",
       "      <td>...</td>\n",
       "      <td>NaN</td>\n",
       "      <td>0.0</td>\n",
       "      <td>0.0</td>\n",
       "      <td>0.0</td>\n",
       "      <td>NaN</td>\n",
       "      <td>NaN</td>\n",
       "      <td>NaN</td>\n",
       "      <td>NaN</td>\n",
       "      <td>NaN</td>\n",
       "      <td>NaN</td>\n",
       "    </tr>\n",
       "    <tr>\n",
       "      <th>665</th>\n",
       "      <td>Mountain House Community Services District</td>\n",
       "      <td>CA3910027</td>\n",
       "      <td>2020-09-15</td>\n",
       "      <td>San Joaquin</td>\n",
       "      <td>San Joaquin River</td>\n",
       "      <td>12</td>\n",
       "      <td>3</td>\n",
       "      <td>NaN</td>\n",
       "      <td>NaN</td>\n",
       "      <td>NaN</td>\n",
       "      <td>...</td>\n",
       "      <td>NaN</td>\n",
       "      <td>NaN</td>\n",
       "      <td>NaN</td>\n",
       "      <td>NaN</td>\n",
       "      <td>NaN</td>\n",
       "      <td>NaN</td>\n",
       "      <td>NaN</td>\n",
       "      <td>NaN</td>\n",
       "      <td>NaN</td>\n",
       "      <td>NaN</td>\n",
       "    </tr>\n",
       "  </tbody>\n",
       "</table>\n",
       "<p>666 rows × 68 columns</p>\n",
       "</div>"
      ],
      "text/plain": [
       "                                  Supplier Name Public Water System ID  \\\n",
       "0                            Los Banos, City of              CA2410005   \n",
       "1                            Los Banos, City of              CA2410005   \n",
       "2                            Los Banos, City of              CA2410005   \n",
       "3                            Los Banos, City of              CA2410005   \n",
       "4                            Los Banos, City of              CA2410005   \n",
       "..                                          ...                    ...   \n",
       "661  Mountain House Community Services District              CA3910027   \n",
       "662  Mountain House Community Services District              CA3910027   \n",
       "663  Mountain House Community Services District              CA3910027   \n",
       "664  Mountain House Community Services District              CA3910027   \n",
       "665  Mountain House Community Services District              CA3910027   \n",
       "\n",
       "    Reporting Month       County  Hydrologic Region  Climate Zone  \\\n",
       "0        2021-04-15       Merced  San Joaquin River            12   \n",
       "1        2021-03-15       Merced  San Joaquin River            12   \n",
       "2        2021-02-15       Merced  San Joaquin River            12   \n",
       "3        2021-01-15       Merced  San Joaquin River            12   \n",
       "4        2020-12-15       Merced  San Joaquin River            12   \n",
       "..              ...          ...                ...           ...   \n",
       "661      2021-02-15  San Joaquin  San Joaquin River            12   \n",
       "662      2021-01-15  San Joaquin  San Joaquin River            12   \n",
       "663      2020-12-15  San Joaquin  San Joaquin River            12   \n",
       "664      2020-11-15  San Joaquin  San Joaquin River            12   \n",
       "665      2020-09-15  San Joaquin  San Joaquin River            12   \n",
       "\n",
       "    Water Shortage Contingency Stage Invoked  \\\n",
       "0                                          2   \n",
       "1                                          2   \n",
       "2                                          2   \n",
       "3                                          2   \n",
       "4                                          2   \n",
       "..                                       ...   \n",
       "661                                        2   \n",
       "662                                        2   \n",
       "663                                        2   \n",
       "664                                        2   \n",
       "665                                        3   \n",
       "\n",
       "    Enhanced outreach and communication Raising rates  \\\n",
       "0                                   NaN           NaN   \n",
       "1                                   NaN           NaN   \n",
       "2                                   NaN           NaN   \n",
       "3                                   NaN           NaN   \n",
       "4                                   NaN           NaN   \n",
       "..                                  ...           ...   \n",
       "661                                 NaN           NaN   \n",
       "662                                 NaN           NaN   \n",
       "663                                 NaN           NaN   \n",
       "664                                 NaN           NaN   \n",
       "665                                 NaN           NaN   \n",
       "\n",
       "    Apply drought surcharges  ... Penalty Other  \\\n",
       "0                        NaN  ...           NaN   \n",
       "1                        NaN  ...           NaN   \n",
       "2                        NaN  ...           NaN   \n",
       "3                        NaN  ...           NaN   \n",
       "4                        NaN  ...           NaN   \n",
       "..                       ...  ...           ...   \n",
       "661                      NaN  ...           NaN   \n",
       "662                      NaN  ...           NaN   \n",
       "663                      NaN  ...           NaN   \n",
       "664                      NaN  ...           NaN   \n",
       "665                      NaN  ...           NaN   \n",
       "\n",
       "    Number of Water Waste incidents identified or reported  \\\n",
       "0                                                  NaN       \n",
       "1                                                  NaN       \n",
       "2                                                  NaN       \n",
       "3                                                  NaN       \n",
       "4                                                  NaN       \n",
       "..                                                 ...       \n",
       "661                                                0.0       \n",
       "662                                                0.0       \n",
       "663                                                0.0       \n",
       "664                                                0.0       \n",
       "665                                                NaN       \n",
       "\n",
       "    Number of water waste complaints investigated  \\\n",
       "0                                             NaN   \n",
       "1                                             NaN   \n",
       "2                                             NaN   \n",
       "3                                             NaN   \n",
       "4                                             NaN   \n",
       "..                                            ...   \n",
       "661                                           0.0   \n",
       "662                                           0.0   \n",
       "663                                           0.0   \n",
       "664                                           0.0   \n",
       "665                                           NaN   \n",
       "\n",
       "    Number of water wasters notified Watering on wrong day  \\\n",
       "0                                NaN                   NaN   \n",
       "1                                NaN                   NaN   \n",
       "2                                NaN                   NaN   \n",
       "3                                NaN                   NaN   \n",
       "4                                NaN                   NaN   \n",
       "..                               ...                   ...   \n",
       "661                              0.0                   NaN   \n",
       "662                              0.0                   NaN   \n",
       "663                              0.0                   NaN   \n",
       "664                              0.0                   NaN   \n",
       "665                              NaN                   NaN   \n",
       "\n",
       "    Over-irrigating and causing runoff Watering sidewalk  \\\n",
       "0                                  NaN               NaN   \n",
       "1                                  NaN               NaN   \n",
       "2                                  NaN               NaN   \n",
       "3                                  NaN               NaN   \n",
       "4                                  NaN               NaN   \n",
       "..                                 ...               ...   \n",
       "661                                NaN               NaN   \n",
       "662                                NaN               NaN   \n",
       "663                                NaN               NaN   \n",
       "664                                NaN               NaN   \n",
       "665                                NaN               NaN   \n",
       "\n",
       "     Water use over budget Water Waste Other Unnamed: 67  \n",
       "0                      NaN               NaN         NaN  \n",
       "1                      NaN               NaN         NaN  \n",
       "2                      NaN               NaN         NaN  \n",
       "3                      NaN               NaN         NaN  \n",
       "4                      NaN               NaN         NaN  \n",
       "..                     ...               ...         ...  \n",
       "661                    NaN               NaN         NaN  \n",
       "662                    NaN               NaN         NaN  \n",
       "663                    NaN               NaN         NaN  \n",
       "664                    NaN               NaN         NaN  \n",
       "665                    NaN               NaN         NaN  \n",
       "\n",
       "[666 rows x 68 columns]"
      ]
     },
     "execution_count": 377,
     "metadata": {},
     "output_type": "execute_result"
    }
   ],
   "source": [
    "emergency"
   ]
  },
  {
   "cell_type": "code",
   "execution_count": 378,
   "metadata": {},
   "outputs": [
    {
     "data": {
      "text/plain": [
       "116"
      ]
     },
     "execution_count": 378,
     "metadata": {},
     "output_type": "execute_result"
    }
   ],
   "source": [
    "emergency['Supplier Name'].nunique()"
   ]
  },
  {
   "cell_type": "code",
   "execution_count": 379,
   "metadata": {},
   "outputs": [
    {
     "data": {
      "text/plain": [
       "Index(['Supplier Name', 'Public Water System ID', 'Reporting Month', 'County',\n",
       "       'Hydrologic Region', 'Climate Zone',\n",
       "       'Water Shortage Contingency Stage Invoked',\n",
       "       'Enhanced outreach and communication', 'Raising rates',\n",
       "       'Apply drought surcharges',\n",
       "       'Reduced allocations (for agencies with budget-based rates)',\n",
       "       'Residential water audits', 'CII water audits',\n",
       "       'Expanded existing rebate program', 'Rationing',\n",
       "       'Turf replacement/rebate', 'Demand Reduction Other', 'Greywater',\n",
       "       'On-site treatment and reuse', 'Desalination', 'Recycled Water',\n",
       "       'Remediated Groundwater', 'Supply Augmentation Other',\n",
       "       'Weekly watering restrictions',\n",
       "       'Excessive irrigation of outdoor landscapes',\n",
       "       'Washing a motor vehicle with a hose not fitted with a shut-off nozzle',\n",
       "       'Application of potable water directly to driveways or sidewalks',\n",
       "       'Use of potable water in decorative water features',\n",
       "       'The application of water to irrigate turf and ornamental landscapes during and within 48 hours after measurable rainfall',\n",
       "       'Restrictions Other',\n",
       "       'Not serving drinking water other than upon request in eating or drinking establishments',\n",
       "       'Operators of hotels and motels providing guests with the option of choosing not to have towels and linens laundered daily',\n",
       "       'Industry Other', 'E-mails', 'Paper mail',\n",
       "       'Notifications via Customer App', 'Website', 'Articles/News releases',\n",
       "       'Youtube', 'Facebook', 'Instagram', 'Other Social Media',\n",
       "       'Community events', 'Door hanger', 'Workshops', 'Television', 'Radio',\n",
       "       'Billboard', 'Paid Media Advertising', 'Bus shelter',\n",
       "       'Communication Other (Fill-in)', 'Notification via customer app',\n",
       "       'Notification via Phone call', 'Notification via Letter',\n",
       "       'Notification via Door hanger', 'Notification via Other', 'Fine',\n",
       "       'Assigned a different rate tier', 'Penalty Other',\n",
       "       'Number of Water Waste incidents identified or reported',\n",
       "       'Number of water waste complaints investigated',\n",
       "       'Number of water wasters notified', 'Watering on wrong day',\n",
       "       'Over-irrigating and causing runoff', 'Watering sidewalk',\n",
       "       'Water use over budget', 'Water Waste Other', 'Unnamed: 67'],\n",
       "      dtype='object')"
      ]
     },
     "execution_count": 379,
     "metadata": {},
     "output_type": "execute_result"
    }
   ],
   "source": [
    "emergency.columns"
   ]
  },
  {
   "cell_type": "code",
   "execution_count": 380,
   "metadata": {},
   "outputs": [
    {
     "name": "stdout",
     "output_type": "stream",
     "text": [
      "Y    159\n",
      "Name: Enhanced outreach and communication, dtype: int64\n",
      "\n",
      "Y    61\n",
      "Name: Raising rates, dtype: int64\n",
      "\n",
      "Y    32\n",
      "Name: Apply drought surcharges, dtype: int64\n",
      "\n",
      "Y    21\n",
      "Name: Reduced allocations (for agencies with budget-based rates), dtype: int64\n",
      "\n",
      "Y    124\n",
      "Name: Residential water audits, dtype: int64\n",
      "\n",
      "Y    68\n",
      "Name: CII water audits, dtype: int64\n",
      "\n",
      "Y    44\n",
      "Name: Expanded existing rebate program, dtype: int64\n",
      "\n",
      "Y    12\n",
      "Name: Rationing, dtype: int64\n",
      "\n",
      "Y    68\n",
      "Name: Turf replacement/rebate, dtype: int64\n",
      "\n",
      "Y    8\n",
      "Name: Demand Reduction Other, dtype: int64\n",
      "\n",
      "Series([], Name: Greywater, dtype: int64)\n",
      "\n",
      "Y    3\n",
      "Name: On-site treatment and reuse, dtype: int64\n",
      "\n",
      "Y    16\n",
      "Name: Desalination, dtype: int64\n",
      "\n",
      "Y    36\n",
      "Name: Recycled Water, dtype: int64\n",
      "\n",
      "Y    16\n",
      "Name: Remediated Groundwater, dtype: int64\n",
      "\n",
      "Series([], Name: Supply Augmentation Other, dtype: int64)\n",
      "\n",
      "Y    164\n",
      "Name: Weekly watering restrictions, dtype: int64\n",
      "\n",
      "Y    233\n",
      "Name: Excessive irrigation of outdoor landscapes, dtype: int64\n",
      "\n",
      "Y    215\n",
      "Name: Washing a motor vehicle with a hose not fitted with a shut-off nozzle, dtype: int64\n",
      "\n",
      "Y    201\n",
      "Name: Application of potable water directly to driveways or sidewalks, dtype: int64\n",
      "\n",
      "Y    126\n",
      "Name: Use of potable water in decorative water features, dtype: int64\n",
      "\n",
      "Y    157\n",
      "Name: The application of water to irrigate turf and ornamental landscapes during and within 48 hours after measurable rainfall, dtype: int64\n",
      "\n",
      "Y    7\n",
      "Name: Restrictions Other, dtype: int64\n",
      "\n",
      "Y    76\n",
      "Name: Not serving drinking water other than upon request in eating or drinking establishments, dtype: int64\n",
      "\n",
      "Y    59\n",
      "Name: Operators of hotels and motels providing guests with the option of choosing not to have towels and linens laundered daily, dtype: int64\n",
      "\n",
      "Series([], Name: Industry Other, dtype: int64)\n",
      "\n",
      "Y    129\n",
      "Name: E-mails, dtype: int64\n",
      "\n",
      "Y    168\n",
      "Name: Paper mail, dtype: int64\n",
      "\n",
      "Y    20\n",
      "Name: Notifications via Customer App, dtype: int64\n",
      "\n",
      "Y    219\n",
      "Name: Website, dtype: int64\n",
      "\n",
      "Y    119\n",
      "Name: Articles/News releases, dtype: int64\n",
      "\n",
      "Y    36\n",
      "Name: Youtube, dtype: int64\n",
      "\n",
      "Y    147\n",
      "Name: Facebook, dtype: int64\n",
      "\n",
      "Y    88\n",
      "Name: Instagram, dtype: int64\n",
      "\n",
      "Y    105\n",
      "Name: Other Social Media, dtype: int64\n",
      "\n",
      "Y    82\n",
      "Name: Community events, dtype: int64\n",
      "\n",
      "Y    125\n",
      "Name: Door hanger, dtype: int64\n",
      "\n",
      "Y    53\n",
      "Name: Workshops, dtype: int64\n",
      "\n",
      "Y    38\n",
      "Name: Television, dtype: int64\n",
      "\n",
      "Y    28\n",
      "Name: Radio, dtype: int64\n",
      "\n",
      "Y    23\n",
      "Name: Billboard, dtype: int64\n",
      "\n",
      "Y    33\n",
      "Name: Paid Media Advertising, dtype: int64\n",
      "\n",
      "Y    2\n",
      "Name: Bus shelter, dtype: int64\n",
      "\n",
      "Y    16\n",
      "Name: Communication Other (Fill-in), dtype: int64\n",
      "\n",
      "Y    7\n",
      "Name: Notification via customer app, dtype: int64\n",
      "\n",
      "Y    69\n",
      "Name: Notification via Phone call, dtype: int64\n",
      "\n",
      "Y    76\n",
      "Name: Notification via Letter, dtype: int64\n",
      "\n",
      "Y    94\n",
      "Name: Notification via Door hanger, dtype: int64\n",
      "\n",
      "Y    14\n",
      "Name: Notification via Other, dtype: int64\n",
      "\n",
      "Y    38\n",
      "Name: Fine, dtype: int64\n",
      "\n",
      "Y    6\n",
      "Name: Assigned a different rate tier, dtype: int64\n",
      "\n",
      "Y    45\n",
      "Name: Watering on wrong day, dtype: int64\n",
      "\n",
      "Y    119\n",
      "Name: Over-irrigating and causing runoff, dtype: int64\n",
      "\n",
      "Y    63\n",
      "Name: Watering sidewalk, dtype: int64\n",
      "\n",
      "Y    25\n",
      "Name: Water use over budget, dtype: int64\n",
      "\n",
      "Y    15\n",
      "Name: Water Waste Other, dtype: int64\n",
      "\n"
     ]
    }
   ],
   "source": [
    "cols = [\n",
    "    'Enhanced outreach and communication', \n",
    "    'Raising rates',\n",
    "       'Apply drought surcharges',\n",
    "       'Reduced allocations (for agencies with budget-based rates)',\n",
    "       'Residential water audits', 'CII water audits',\n",
    "       'Expanded existing rebate program', 'Rationing',\n",
    "       'Turf replacement/rebate', 'Demand Reduction Other', 'Greywater',\n",
    "       'On-site treatment and reuse', 'Desalination', 'Recycled Water',\n",
    "       'Remediated Groundwater', 'Supply Augmentation Other',\n",
    "       'Weekly watering restrictions',\n",
    "       'Excessive irrigation of outdoor landscapes',\n",
    "       'Washing a motor vehicle with a hose not fitted with a shut-off nozzle',\n",
    "       'Application of potable water directly to driveways or sidewalks',\n",
    "       'Use of potable water in decorative water features',\n",
    "       'The application of water to irrigate turf and ornamental landscapes during and within 48 hours after measurable rainfall',\n",
    "       'Restrictions Other',\n",
    "       'Not serving drinking water other than upon request in eating or drinking establishments',\n",
    "       'Operators of hotels and motels providing guests with the option of choosing not to have towels and linens laundered daily',\n",
    "       'Industry Other', 'E-mails', 'Paper mail',\n",
    "       'Notifications via Customer App', 'Website', 'Articles/News releases',\n",
    "       'Youtube', 'Facebook', 'Instagram', 'Other Social Media',\n",
    "       'Community events', 'Door hanger', 'Workshops', 'Television', 'Radio',\n",
    "       'Billboard', 'Paid Media Advertising', 'Bus shelter',\n",
    "       'Communication Other (Fill-in)', 'Notification via customer app',\n",
    "       'Notification via Phone call', 'Notification via Letter',\n",
    "       'Notification via Door hanger', 'Notification via Other', 'Fine',\n",
    "       'Assigned a different rate tier', \n",
    "#     'Penalty Other',\n",
    "#        'Number of Water Waste incidents identified or reported',\n",
    "#        'Number of water waste complaints investigated',\n",
    "#        'Number of water wasters notified', \n",
    "    'Watering on wrong day',\n",
    "       'Over-irrigating and causing runoff', 'Watering sidewalk',\n",
    "       'Water use over budget', 'Water Waste Other']\n",
    "\n",
    "for i in cols:\n",
    "    print(emergency[i].value_counts())\n",
    "    print()"
   ]
  },
  {
   "cell_type": "code",
   "execution_count": 381,
   "metadata": {},
   "outputs": [
    {
     "data": {
      "text/plain": [
       "666"
      ]
     },
     "execution_count": 381,
     "metadata": {},
     "output_type": "execute_result"
    }
   ],
   "source": [
    "len(emergency)"
   ]
  },
  {
   "cell_type": "code",
   "execution_count": 382,
   "metadata": {},
   "outputs": [
    {
     "data": {
      "text/plain": [
       "473"
      ]
     },
     "execution_count": 382,
     "metadata": {},
     "output_type": "execute_result"
    }
   ],
   "source": [
    "emergency['Number of water waste complaints investigated'].isnull().sum()"
   ]
  },
  {
   "cell_type": "code",
   "execution_count": 383,
   "metadata": {},
   "outputs": [
    {
     "data": {
      "text/plain": [
       "Penalty Other                                              object\n",
       "Number of Water Waste incidents identified or reported    float64\n",
       "Number of water waste complaints investigated             float64\n",
       "Number of water wasters notified                          float64\n",
       "Watering on wrong day                                      object\n",
       "Over-irrigating and causing runoff                         object\n",
       "Watering sidewalk                                          object\n",
       "Water use over budget                                      object\n",
       "Water Waste Other                                          object\n",
       "Unnamed: 67                                               float64\n",
       "dtype: object"
      ]
     },
     "execution_count": 383,
     "metadata": {},
     "output_type": "execute_result"
    }
   ],
   "source": [
    "emergency.dtypes[-10:]"
   ]
  },
  {
   "cell_type": "code",
   "execution_count": null,
   "metadata": {},
   "outputs": [],
   "source": []
  },
  {
   "cell_type": "code",
   "execution_count": 384,
   "metadata": {},
   "outputs": [
    {
     "data": {
      "text/plain": [
       "Index(['Supplier Name', 'Public Water System ID', 'Reporting Month', 'County',\n",
       "       'Hydrologic Region', 'Climate Zone',\n",
       "       'Water Shortage Contingency Stage Invoked',\n",
       "       'Enhanced outreach and communication', 'Raising rates',\n",
       "       'Apply drought surcharges',\n",
       "       'Reduced allocations (for agencies with budget-based rates)',\n",
       "       'Residential water audits', 'CII water audits',\n",
       "       'Expanded existing rebate program', 'Rationing',\n",
       "       'Turf replacement/rebate', 'Demand Reduction Other', 'Greywater',\n",
       "       'On-site treatment and reuse', 'Desalination', 'Recycled Water',\n",
       "       'Remediated Groundwater', 'Supply Augmentation Other',\n",
       "       'Weekly watering restrictions',\n",
       "       'Excessive irrigation of outdoor landscapes',\n",
       "       'Washing a motor vehicle with a hose not fitted with a shut-off nozzle',\n",
       "       'Application of potable water directly to driveways or sidewalks',\n",
       "       'Use of potable water in decorative water features',\n",
       "       'The application of water to irrigate turf and ornamental landscapes during and within 48 hours after measurable rainfall',\n",
       "       'Restrictions Other',\n",
       "       'Not serving drinking water other than upon request in eating or drinking establishments',\n",
       "       'Operators of hotels and motels providing guests with the option of choosing not to have towels and linens laundered daily',\n",
       "       'Industry Other', 'E-mails', 'Paper mail',\n",
       "       'Notifications via Customer App', 'Website', 'Articles/News releases',\n",
       "       'Youtube', 'Facebook', 'Instagram', 'Other Social Media',\n",
       "       'Community events', 'Door hanger', 'Workshops', 'Television', 'Radio',\n",
       "       'Billboard', 'Paid Media Advertising', 'Bus shelter',\n",
       "       'Communication Other (Fill-in)', 'Notification via customer app',\n",
       "       'Notification via Phone call', 'Notification via Letter',\n",
       "       'Notification via Door hanger', 'Notification via Other', 'Fine',\n",
       "       'Assigned a different rate tier', 'Penalty Other',\n",
       "       'Number of Water Waste incidents identified or reported',\n",
       "       'Number of water waste complaints investigated',\n",
       "       'Number of water wasters notified', 'Watering on wrong day',\n",
       "       'Over-irrigating and causing runoff', 'Watering sidewalk',\n",
       "       'Water use over budget', 'Water Waste Other', 'Unnamed: 67'],\n",
       "      dtype='object')"
      ]
     },
     "execution_count": 384,
     "metadata": {},
     "output_type": "execute_result"
    }
   ],
   "source": [
    "emergency.columns"
   ]
  },
  {
   "cell_type": "code",
   "execution_count": 385,
   "metadata": {},
   "outputs": [],
   "source": [
    "# emergency['Penalty Other'].astype(int).sum()"
   ]
  },
  {
   "cell_type": "code",
   "execution_count": 386,
   "metadata": {},
   "outputs": [
    {
     "data": {
      "text/plain": [
       "2766.0"
      ]
     },
     "execution_count": 386,
     "metadata": {},
     "output_type": "execute_result"
    }
   ],
   "source": [
    "emergency['Number of Water Waste incidents identified or reported'].sum()"
   ]
  },
  {
   "cell_type": "code",
   "execution_count": 387,
   "metadata": {},
   "outputs": [
    {
     "data": {
      "text/plain": [
       "3014.0"
      ]
     },
     "execution_count": 387,
     "metadata": {},
     "output_type": "execute_result"
    }
   ],
   "source": [
    "emergency['Number of water waste complaints investigated'].sum()"
   ]
  },
  {
   "cell_type": "code",
   "execution_count": 388,
   "metadata": {},
   "outputs": [
    {
     "data": {
      "text/plain": [
       "3108.0"
      ]
     },
     "execution_count": 388,
     "metadata": {},
     "output_type": "execute_result"
    }
   ],
   "source": [
    "emergency['Number of water wasters notified'].sum()"
   ]
  },
  {
   "cell_type": "code",
   "execution_count": 389,
   "metadata": {},
   "outputs": [
    {
     "data": {
      "text/plain": [
       "Hydrologic Region\n",
       "Central Coast          35.0\n",
       "Colorado River         88.0\n",
       "North Coast            30.0\n",
       "North Lahontan          0.0\n",
       "Sacramento River        4.0\n",
       "San Francisco Bay     151.0\n",
       "San Joaquin River     259.0\n",
       "South Coast          2122.0\n",
       "South Lahontan         19.0\n",
       "Tulare Lake            58.0\n",
       "Name: Number of Water Waste incidents identified or reported, dtype: float64"
      ]
     },
     "execution_count": 389,
     "metadata": {},
     "output_type": "execute_result"
    }
   ],
   "source": [
    "emergency.groupby('Hydrologic Region')['Number of Water Waste incidents identified or reported'].sum()"
   ]
  },
  {
   "cell_type": "code",
   "execution_count": 390,
   "metadata": {},
   "outputs": [],
   "source": [
    "# emergency['Penalty Other'].astype(int).sum()"
   ]
  },
  {
   "cell_type": "code",
   "execution_count": null,
   "metadata": {},
   "outputs": [],
   "source": []
  },
  {
   "cell_type": "markdown",
   "metadata": {},
   "source": [
    "---\n",
    "## Create Cleaned Data Tables\n",
    "---"
   ]
  },
  {
   "cell_type": "code",
   "execution_count": 391,
   "metadata": {},
   "outputs": [],
   "source": [
    "# keeping counties and hydrologic reasons for inference \n",
    "reverse_counties = {b: a for a, b in counties.items()}\n",
    "reverse_hydro  = {b: a for a, b in hydro_regions.items()}\n",
    "counties_df = pd.DataFrame.from_dict(reverse_counties, orient='index')\n",
    "counties_df = counties_df.rename(columns={0: 'County'})\n",
    "hydro_region_df =  pd.DataFrame.from_dict(reverse_hydro, orient='index')\n",
    "hydro_region_df = hydro_region_df.rename(columns={0: 'hydrologic_region'})"
   ]
  },
  {
   "cell_type": "code",
   "execution_count": 392,
   "metadata": {},
   "outputs": [
    {
     "data": {
      "text/html": [
       "<div>\n",
       "<style scoped>\n",
       "    .dataframe tbody tr th:only-of-type {\n",
       "        vertical-align: middle;\n",
       "    }\n",
       "\n",
       "    .dataframe tbody tr th {\n",
       "        vertical-align: top;\n",
       "    }\n",
       "\n",
       "    .dataframe thead th {\n",
       "        text-align: right;\n",
       "    }\n",
       "</style>\n",
       "<table border=\"1\" class=\"dataframe\">\n",
       "  <thead>\n",
       "    <tr style=\"text-align: right;\">\n",
       "      <th></th>\n",
       "      <th>County</th>\n",
       "    </tr>\n",
       "  </thead>\n",
       "  <tbody>\n",
       "    <tr>\n",
       "      <th>0</th>\n",
       "      <td>Alameda,Contra Costa</td>\n",
       "    </tr>\n",
       "    <tr>\n",
       "      <th>1</th>\n",
       "      <td>San Luis Obispo</td>\n",
       "    </tr>\n",
       "    <tr>\n",
       "      <th>2</th>\n",
       "      <td>Orange</td>\n",
       "    </tr>\n",
       "    <tr>\n",
       "      <th>3</th>\n",
       "      <td>Los Angeles</td>\n",
       "    </tr>\n",
       "    <tr>\n",
       "      <th>4</th>\n",
       "      <td>Merced</td>\n",
       "    </tr>\n",
       "    <tr>\n",
       "      <th>...</th>\n",
       "      <td>...</td>\n",
       "    </tr>\n",
       "    <tr>\n",
       "      <th>57</th>\n",
       "      <td>Siskiyou</td>\n",
       "    </tr>\n",
       "    <tr>\n",
       "      <th>58</th>\n",
       "      <td>Mendocino</td>\n",
       "    </tr>\n",
       "    <tr>\n",
       "      <th>59</th>\n",
       "      <td>Lassen</td>\n",
       "    </tr>\n",
       "    <tr>\n",
       "      <th>60</th>\n",
       "      <td>Tehama</td>\n",
       "    </tr>\n",
       "    <tr>\n",
       "      <th>61</th>\n",
       "      <td>Shasta</td>\n",
       "    </tr>\n",
       "  </tbody>\n",
       "</table>\n",
       "<p>62 rows × 1 columns</p>\n",
       "</div>"
      ],
      "text/plain": [
       "                  County\n",
       "0   Alameda,Contra Costa\n",
       "1        San Luis Obispo\n",
       "2                 Orange\n",
       "3            Los Angeles\n",
       "4                 Merced\n",
       "..                   ...\n",
       "57              Siskiyou\n",
       "58             Mendocino\n",
       "59                Lassen\n",
       "60                Tehama\n",
       "61                Shasta\n",
       "\n",
       "[62 rows x 1 columns]"
      ]
     },
     "execution_count": 392,
     "metadata": {},
     "output_type": "execute_result"
    }
   ],
   "source": [
    "counties_df"
   ]
  },
  {
   "cell_type": "code",
   "execution_count": 393,
   "metadata": {},
   "outputs": [
    {
     "data": {
      "text/html": [
       "<div>\n",
       "<style scoped>\n",
       "    .dataframe tbody tr th:only-of-type {\n",
       "        vertical-align: middle;\n",
       "    }\n",
       "\n",
       "    .dataframe tbody tr th {\n",
       "        vertical-align: top;\n",
       "    }\n",
       "\n",
       "    .dataframe thead th {\n",
       "        text-align: right;\n",
       "    }\n",
       "</style>\n",
       "<table border=\"1\" class=\"dataframe\">\n",
       "  <thead>\n",
       "    <tr style=\"text-align: right;\">\n",
       "      <th></th>\n",
       "      <th>supplier_name</th>\n",
       "      <th>system_id</th>\n",
       "    </tr>\n",
       "  </thead>\n",
       "  <tbody>\n",
       "    <tr>\n",
       "      <th>0</th>\n",
       "      <td>East Bay Municipal Utilities District</td>\n",
       "      <td>110005</td>\n",
       "    </tr>\n",
       "    <tr>\n",
       "      <th>1</th>\n",
       "      <td>Morro Bay  City of</td>\n",
       "      <td>4010011</td>\n",
       "    </tr>\n",
       "    <tr>\n",
       "      <th>2</th>\n",
       "      <td>Yorba Linda Water District</td>\n",
       "      <td>3010037</td>\n",
       "    </tr>\n",
       "    <tr>\n",
       "      <th>3</th>\n",
       "      <td>Long Beach  City of</td>\n",
       "      <td>1910065</td>\n",
       "    </tr>\n",
       "    <tr>\n",
       "      <th>4</th>\n",
       "      <td>Los Banos, City of</td>\n",
       "      <td>2410005</td>\n",
       "    </tr>\n",
       "  </tbody>\n",
       "</table>\n",
       "</div>"
      ],
      "text/plain": [
       "                           supplier_name  system_id\n",
       "0  East Bay Municipal Utilities District     110005\n",
       "1                     Morro Bay  City of    4010011\n",
       "2             Yorba Linda Water District    3010037\n",
       "3                    Long Beach  City of    1910065\n",
       "4                     Los Banos, City of    2410005"
      ]
     },
     "execution_count": 393,
     "metadata": {},
     "output_type": "execute_result"
    }
   ],
   "source": [
    "# keeping a list of supplier names for later use \n",
    "supplier_names = water[['supplier_name', 'system_id']]\n",
    "supplier_names = supplier_names.drop_duplicates()\n",
    "supplier_names = supplier_names.reset_index(drop=True)\n",
    "supplier_names.head()"
   ]
  },
  {
   "cell_type": "code",
   "execution_count": 394,
   "metadata": {},
   "outputs": [
    {
     "data": {
      "text/plain": [
       "(32425, 16)"
      ]
     },
     "execution_count": 394,
     "metadata": {},
     "output_type": "execute_result"
    }
   ],
   "source": [
    "cleaned_water = water.select_dtypes(np.number)\n",
    "cleaned_water = cleaned_water.merge(water['reporting_month'], how='inner', \n",
    "                                    left_index=True, right_index=True)\n",
    "cleaned_water = cleaned_water.reset_index(drop=True)\n",
    "cleaned_water = cleaned_water.rename(columns={\"reporting_month\": \"reporting_date\",})\n",
    "cleaned_water.shape"
   ]
  },
  {
   "cell_type": "code",
   "execution_count": 395,
   "metadata": {},
   "outputs": [
    {
     "data": {
      "text/plain": [
       "climate_zone                                                                   int64\n",
       "total_population_served                                                      float64\n",
       "reference_2014_population                                                    float64\n",
       "water_shortage_contingency_stage_invoked                                     float64\n",
       "reported_final_total_potable_water_production                                float64\n",
       "final_percent_residential_use                                                float64\n",
       "reported_final_commercial_industrial_and_institutional_water                 float64\n",
       "calculated_total_potable_water_production_gallons_ag_excluded                float64\n",
       "calculated_total_potable_water_production_gallons_2013_ag_excluded           float64\n",
       "calculated_commercial_agricultural_water_gallons                             float64\n",
       "calculated_commercial_agricultural_water_gallons_2013                        float64\n",
       "calculated_r_gpcd                                                            float64\n",
       "system_id                                                                      int64\n",
       "county_enc                                                                     int64\n",
       "hydro_region_enc                                                               int64\n",
       "reporting_date                                                        datetime64[ns]\n",
       "dtype: object"
      ]
     },
     "execution_count": 395,
     "metadata": {},
     "output_type": "execute_result"
    }
   ],
   "source": [
    "cleaned_water.dtypes"
   ]
  },
  {
   "cell_type": "markdown",
   "metadata": {},
   "source": [
    "---\n",
    "## Exports \n",
    "---"
   ]
  },
  {
   "cell_type": "code",
   "execution_count": 396,
   "metadata": {},
   "outputs": [],
   "source": [
    "hydro_region_df.to_csv('./cleaned_datasets/hydrologic_regions.csv', index=False)\n",
    "counties_df.to_csv('./cleaned_datasets/counties.csv', index=False)\n",
    "supplier_names.to_csv('./cleaned_datasets/supplier_names.csv', index=False)\n",
    "cleaned_water.to_csv('./cleaned_datasets/water_suppliers.csv', index=False)\n",
    "conserv.to_csv('./cleaned_datasets/conservation.csv', index=False)"
   ]
  }
 ],
 "metadata": {
  "kernelspec": {
   "display_name": "Python [conda env:dsi]",
   "language": "python",
   "name": "conda-env-dsi-py"
  },
  "language_info": {
   "codemirror_mode": {
    "name": "ipython",
    "version": 3
   },
   "file_extension": ".py",
   "mimetype": "text/x-python",
   "name": "python",
   "nbconvert_exporter": "python",
   "pygments_lexer": "ipython3",
   "version": "3.8.8"
  }
 },
 "nbformat": 4,
 "nbformat_minor": 4
}
