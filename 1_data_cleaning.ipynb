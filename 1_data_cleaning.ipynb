{
 "cells": [
  {
   "cell_type": "markdown",
   "metadata": {},
   "source": [
    "# California Water Conservation Data Cleaning \n",
    "---"
   ]
  },
  {
   "cell_type": "markdown",
   "metadata": {},
   "source": [
    "[Public Water System Operations Monthly Water Production and Conservation Information](https://data.ca.gov/dataset/drinking-water-public-water-system-operations-monthly-water-production-and-conservation-information)\n",
    "\n",
    "[Data Dictionary](https://data.ca.gov/dataset/drinking-water-public-water-system-operations-monthly-water-production-and-conservation-information/resource/a3aa420d-3553-4891-8bc4-ed01aeaf3e20)\n",
    "\n",
    "---\n",
    "[Water Conservation Supplier Compliance](https://www.kaggle.com/calepa/water-conservation-supplier-compliance?select=supplier_compliance.csv)"
   ]
  },
  {
   "cell_type": "markdown",
   "metadata": {},
   "source": [
    "#### Imports"
   ]
  },
  {
   "cell_type": "code",
   "execution_count": 776,
   "metadata": {},
   "outputs": [],
   "source": [
    "import pandas as pd \n",
    "import numpy as np \n",
    "import seaborn as sns\n",
    "import datetime\n",
    "import time\n",
    "import matplotlib.pyplot as plt\n",
    "import seaborn as sns\n",
    "\n",
    "# import psutil\n",
    "from multiprocess import Pool\n",
    "from tqdm import tqdm\n",
    "sns.set(style=\"ticks\", context=\"talk\")\n",
    "plt.style.use(\"dark_background\")"
   ]
  },
  {
   "cell_type": "code",
   "execution_count": 777,
   "metadata": {},
   "outputs": [],
   "source": [
    "# df = pd.read_csv('./datasets/9_GFW_potential_carbon_sequestration/young_forest_sequestration_rate_Griscom_extent.tif')\n",
    "conserv = pd.read_csv('./datasets/conservation_compliance/supplier_compliance.csv')\n",
    "july = pd.read_csv('./datasets/conservation_compliance/july_2016_nonfilers.csv')\n",
    "august = pd.read_csv('./datasets/conservation_compliance/august_2016_nonfilers.csv')\n",
    "\n",
    "water = pd.read_csv('./datasets/water_capacity.csv')"
   ]
  },
  {
   "cell_type": "markdown",
   "metadata": {},
   "source": [
    "---\n",
    "## CA Water Conservation Compliance Data\n",
    "---"
   ]
  },
  {
   "cell_type": "code",
   "execution_count": 778,
   "metadata": {
    "scrolled": true
   },
   "outputs": [
    {
     "data": {
      "text/html": [
       "<div>\n",
       "<style scoped>\n",
       "    .dataframe tbody tr th:only-of-type {\n",
       "        vertical-align: middle;\n",
       "    }\n",
       "\n",
       "    .dataframe tbody tr th {\n",
       "        vertical-align: top;\n",
       "    }\n",
       "\n",
       "    .dataframe thead th {\n",
       "        text-align: right;\n",
       "    }\n",
       "</style>\n",
       "<table border=\"1\" class=\"dataframe\">\n",
       "  <thead>\n",
       "    <tr style=\"text-align: right;\">\n",
       "      <th></th>\n",
       "      <th>Supplier Name</th>\n",
       "      <th>Hydrologic Region</th>\n",
       "      <th>State-mandated Conservation Standard - Previous (3/1/2016)</th>\n",
       "      <th>State-mandated Conservation Standard - Current (Effective 6/1/2016)</th>\n",
       "      <th>Did Supplier Self-certify?</th>\n",
       "      <th>Enforceable Cumulative Percent Savings (as compared to 2013) - June 2015-Aug 2016</th>\n",
       "      <th>June 2016 to Aug 2016 Self-certified?</th>\n",
       "      <th>Applicable Cumulative Savings by Supplier (as compared to 2013)</th>\n",
       "      <th>Missed Conservation Standard By</th>\n",
       "      <th>Order Status</th>\n",
       "      <th>Monthly Savings (as compared to 2013) - Aug 2015</th>\n",
       "      <th>Monthly Savings (as compared to 2013) - Aug 2016</th>\n",
       "      <th>Estimated Aug 2016 Monthly R-GPCD</th>\n",
       "      <th>Total Population Served</th>\n",
       "    </tr>\n",
       "  </thead>\n",
       "  <tbody>\n",
       "    <tr>\n",
       "      <th>0</th>\n",
       "      <td>California City  City of</td>\n",
       "      <td>South Lahontan</td>\n",
       "      <td>28%</td>\n",
       "      <td>28%</td>\n",
       "      <td>No</td>\n",
       "      <td>13.1%</td>\n",
       "      <td>18.0%</td>\n",
       "      <td>13.1%</td>\n",
       "      <td>14.9%</td>\n",
       "      <td>C</td>\n",
       "      <td>16.8%</td>\n",
       "      <td>20.5%</td>\n",
       "      <td>148.5</td>\n",
       "      <td>14,120</td>\n",
       "    </tr>\n",
       "    <tr>\n",
       "      <th>1</th>\n",
       "      <td>Yucaipa Valley Water District</td>\n",
       "      <td>South Coast</td>\n",
       "      <td>34%</td>\n",
       "      <td>20%</td>\n",
       "      <td>Yes</td>\n",
       "      <td>18.3%</td>\n",
       "      <td>7.1%</td>\n",
       "      <td>7.1%</td>\n",
       "      <td>12.9%</td>\n",
       "      <td>NaN</td>\n",
       "      <td>26.4%</td>\n",
       "      <td>11.9%</td>\n",
       "      <td>260.0</td>\n",
       "      <td>45,018</td>\n",
       "    </tr>\n",
       "    <tr>\n",
       "      <th>2</th>\n",
       "      <td>Sanger  City of</td>\n",
       "      <td>Tulare Lake</td>\n",
       "      <td>26%</td>\n",
       "      <td>26%</td>\n",
       "      <td>No</td>\n",
       "      <td>17.3%</td>\n",
       "      <td>12.4%</td>\n",
       "      <td>17.3%</td>\n",
       "      <td>8.7%</td>\n",
       "      <td>NaN</td>\n",
       "      <td>38.0%</td>\n",
       "      <td>17.2%</td>\n",
       "      <td>181.1</td>\n",
       "      <td>25,664</td>\n",
       "    </tr>\n",
       "    <tr>\n",
       "      <th>3</th>\n",
       "      <td>Adelanto City of</td>\n",
       "      <td>South Lahontan</td>\n",
       "      <td>16%</td>\n",
       "      <td>16%</td>\n",
       "      <td>No</td>\n",
       "      <td>9.3%</td>\n",
       "      <td>-10.3%</td>\n",
       "      <td>9.3%</td>\n",
       "      <td>6.7%</td>\n",
       "      <td>C</td>\n",
       "      <td>20.5%</td>\n",
       "      <td>-30.6%</td>\n",
       "      <td>125.5</td>\n",
       "      <td>29,023</td>\n",
       "    </tr>\n",
       "    <tr>\n",
       "      <th>4</th>\n",
       "      <td>Red Bluff  City of</td>\n",
       "      <td>Sacramento River</td>\n",
       "      <td>33%</td>\n",
       "      <td>33%</td>\n",
       "      <td>No</td>\n",
       "      <td>27.8%</td>\n",
       "      <td>19.5%</td>\n",
       "      <td>27.8%</td>\n",
       "      <td>5.2%</td>\n",
       "      <td>NaN</td>\n",
       "      <td>42.4%</td>\n",
       "      <td>30.8%</td>\n",
       "      <td>202.9</td>\n",
       "      <td>14,076</td>\n",
       "    </tr>\n",
       "  </tbody>\n",
       "</table>\n",
       "</div>"
      ],
      "text/plain": [
       "                   Supplier Name  Hydrologic Region  \\\n",
       "0       California City  City of     South Lahontan   \n",
       "1  Yucaipa Valley Water District        South Coast   \n",
       "2                Sanger  City of        Tulare Lake   \n",
       "3               Adelanto City of     South Lahontan   \n",
       "4             Red Bluff  City of   Sacramento River   \n",
       "\n",
       "   State-mandated Conservation Standard - Previous (3/1/2016)  \\\n",
       "0                                                28%            \n",
       "1                                                34%            \n",
       "2                                                26%            \n",
       "3                                                16%            \n",
       "4                                                33%            \n",
       "\n",
       "   State-mandated Conservation Standard - Current (Effective 6/1/2016)  \\\n",
       "0                                                28%                     \n",
       "1                                                20%                     \n",
       "2                                                26%                     \n",
       "3                                                16%                     \n",
       "4                                                33%                     \n",
       "\n",
       "   Did Supplier Self-certify?  \\\n",
       "0                          No   \n",
       "1                         Yes   \n",
       "2                          No   \n",
       "3                          No   \n",
       "4                          No   \n",
       "\n",
       "   Enforceable Cumulative Percent Savings (as compared to 2013) - June 2015-Aug 2016  \\\n",
       "0                                              13.1%                                   \n",
       "1                                              18.3%                                   \n",
       "2                                              17.3%                                   \n",
       "3                                               9.3%                                   \n",
       "4                                              27.8%                                   \n",
       "\n",
       "   June 2016 to Aug 2016 Self-certified?  \\\n",
       "0                                  18.0%   \n",
       "1                                   7.1%   \n",
       "2                                  12.4%   \n",
       "3                                 -10.3%   \n",
       "4                                  19.5%   \n",
       "\n",
       "   Applicable Cumulative Savings by Supplier (as compared to 2013)  \\\n",
       "0                                              13.1%                 \n",
       "1                                               7.1%                 \n",
       "2                                              17.3%                 \n",
       "3                                               9.3%                 \n",
       "4                                              27.8%                 \n",
       "\n",
       "   Missed Conservation Standard By  Order Status  \\\n",
       "0                            14.9%             C   \n",
       "1                            12.9%           NaN   \n",
       "2                             8.7%           NaN   \n",
       "3                             6.7%             C   \n",
       "4                             5.2%           NaN   \n",
       "\n",
       "   Monthly Savings (as compared to 2013) - Aug 2015  \\\n",
       "0                                             16.8%   \n",
       "1                                             26.4%   \n",
       "2                                             38.0%   \n",
       "3                                             20.5%   \n",
       "4                                             42.4%   \n",
       "\n",
       "   Monthly Savings (as compared to 2013) - Aug 2016  \\\n",
       "0                                             20.5%   \n",
       "1                                             11.9%   \n",
       "2                                             17.2%   \n",
       "3                                            -30.6%   \n",
       "4                                             30.8%   \n",
       "\n",
       "    Estimated Aug 2016 Monthly R-GPCD  Total Population Served  \n",
       "0                               148.5                   14,120  \n",
       "1                               260.0                   45,018  \n",
       "2                               181.1                   25,664  \n",
       "3                               125.5                   29,023  \n",
       "4                               202.9                   14,076  "
      ]
     },
     "execution_count": 778,
     "metadata": {},
     "output_type": "execute_result"
    }
   ],
   "source": [
    "conserv.head()"
   ]
  },
  {
   "cell_type": "code",
   "execution_count": 779,
   "metadata": {},
   "outputs": [
    {
     "data": {
      "text/plain": [
       "Index(['Supplier Name', ' Hydrologic Region',\n",
       "       ' State-mandated Conservation Standard - Previous (3/1/2016)',\n",
       "       ' State-mandated Conservation Standard - Current (Effective 6/1/2016)',\n",
       "       ' Did Supplier Self-certify?',\n",
       "       ' Enforceable Cumulative Percent Savings (as compared to 2013) - June 2015-Aug 2016',\n",
       "       ' June 2016 to Aug 2016 Self-certified?',\n",
       "       ' Applicable Cumulative Savings by Supplier (as compared to 2013)',\n",
       "       ' Missed Conservation Standard By', ' Order Status',\n",
       "       ' Monthly Savings (as compared to 2013) - Aug 2015',\n",
       "       ' Monthly Savings (as compared to 2013) - Aug 2016',\n",
       "       ' Estimated Aug 2016 Monthly R-GPCD', ' Total Population Served'],\n",
       "      dtype='object')"
      ]
     },
     "execution_count": 779,
     "metadata": {},
     "output_type": "execute_result"
    }
   ],
   "source": [
    "conserv.columns"
   ]
  },
  {
   "cell_type": "code",
   "execution_count": 780,
   "metadata": {
    "scrolled": true
   },
   "outputs": [
    {
     "name": "stdout",
     "output_type": "stream",
     "text": [
      "conserv shape (389, 14)\n",
      "jul shape (4, 2)\n",
      "aug shape (20, 2)\n"
     ]
    }
   ],
   "source": [
    "print(\"conserv shape\", conserv.shape)\n",
    "print(\"jul shape\", july.shape)\n",
    "print(\"aug shape\", august.shape)"
   ]
  },
  {
   "cell_type": "markdown",
   "metadata": {},
   "source": [
    "So the July and August csvs seem mostly useless for now"
   ]
  },
  {
   "cell_type": "markdown",
   "metadata": {},
   "source": [
    "---\n",
    "## CA Water Suppliers Data\n",
    "---"
   ]
  },
  {
   "cell_type": "code",
   "execution_count": 781,
   "metadata": {
    "scrolled": true
   },
   "outputs": [
    {
     "name": "stdout",
     "output_type": "stream",
     "text": [
      "water shape (32425, 25)\n"
     ]
    },
    {
     "data": {
      "text/html": [
       "<div>\n",
       "<style scoped>\n",
       "    .dataframe tbody tr th:only-of-type {\n",
       "        vertical-align: middle;\n",
       "    }\n",
       "\n",
       "    .dataframe tbody tr th {\n",
       "        vertical-align: top;\n",
       "    }\n",
       "\n",
       "    .dataframe thead th {\n",
       "        text-align: right;\n",
       "    }\n",
       "</style>\n",
       "<table border=\"1\" class=\"dataframe\">\n",
       "  <thead>\n",
       "    <tr style=\"text-align: right;\">\n",
       "      <th></th>\n",
       "      <th>supplier_name</th>\n",
       "      <th>public_water_system_id</th>\n",
       "      <th>reporting_month</th>\n",
       "      <th>county</th>\n",
       "      <th>hydrologic_region</th>\n",
       "      <th>climate_zone</th>\n",
       "      <th>total_population_served</th>\n",
       "      <th>reference_2014_population</th>\n",
       "      <th>water_shortage_contingency_stage_invoked</th>\n",
       "      <th>water_shortage_level_indicator</th>\n",
       "      <th>...</th>\n",
       "      <th>reported_preliminary_commercial_agricultural_water</th>\n",
       "      <th>reported_final_commercial_agricultural_water</th>\n",
       "      <th>reported_preliminary_commercial_industrial_and_institutional_water</th>\n",
       "      <th>reported_final_commercial_industrial_and_institutional_water</th>\n",
       "      <th>calculated_total_potable_water_production_gallons_ag_excluded</th>\n",
       "      <th>calculated_total_potable_water_production_gallons_2013_ag_excluded</th>\n",
       "      <th>calculated_commercial_agricultural_water_gallons</th>\n",
       "      <th>calculated_commercial_agricultural_water_gallons_2013</th>\n",
       "      <th>calculated_r_gpcd</th>\n",
       "      <th>qualification</th>\n",
       "    </tr>\n",
       "  </thead>\n",
       "  <tbody>\n",
       "    <tr>\n",
       "      <th>0</th>\n",
       "      <td>East Bay Municipal Utilities District</td>\n",
       "      <td>CA0110005</td>\n",
       "      <td>2021-04-15</td>\n",
       "      <td>Alameda,Contra Costa</td>\n",
       "      <td>San Francisco Bay</td>\n",
       "      <td>3</td>\n",
       "      <td>1400000.0</td>\n",
       "      <td>1379000.0</td>\n",
       "      <td>Stage 0</td>\n",
       "      <td>No</td>\n",
       "      <td>...</td>\n",
       "      <td>NaN</td>\n",
       "      <td>NaN</td>\n",
       "      <td>1026.0</td>\n",
       "      <td>NaN</td>\n",
       "      <td>4.964000e+09</td>\n",
       "      <td>5.418000e+09</td>\n",
       "      <td>0.0</td>\n",
       "      <td>0.0</td>\n",
       "      <td>73.2781</td>\n",
       "      <td>1. To provide contextâ€¦the average R-GPCD for...</td>\n",
       "    </tr>\n",
       "    <tr>\n",
       "      <th>1</th>\n",
       "      <td>East Bay Municipal Utilities District</td>\n",
       "      <td>CA0110005</td>\n",
       "      <td>2021-03-15</td>\n",
       "      <td>Alameda,Contra Costa</td>\n",
       "      <td>San Francisco Bay</td>\n",
       "      <td>3</td>\n",
       "      <td>1400000.0</td>\n",
       "      <td>1379000.0</td>\n",
       "      <td>Stage 0</td>\n",
       "      <td>No</td>\n",
       "      <td>...</td>\n",
       "      <td>NaN</td>\n",
       "      <td>NaN</td>\n",
       "      <td>908.0</td>\n",
       "      <td>NaN</td>\n",
       "      <td>4.221000e+09</td>\n",
       "      <td>4.928000e+09</td>\n",
       "      <td>0.0</td>\n",
       "      <td>0.0</td>\n",
       "      <td>59.3274</td>\n",
       "      <td>1. To provide contextâ€¦the average R-GPCD for...</td>\n",
       "    </tr>\n",
       "    <tr>\n",
       "      <th>2</th>\n",
       "      <td>East Bay Municipal Utilities District</td>\n",
       "      <td>CA0110005</td>\n",
       "      <td>2021-02-15</td>\n",
       "      <td>Alameda,Contra Costa</td>\n",
       "      <td>San Francisco Bay</td>\n",
       "      <td>3</td>\n",
       "      <td>1400000.0</td>\n",
       "      <td>1379000.0</td>\n",
       "      <td>Stage 0</td>\n",
       "      <td>No</td>\n",
       "      <td>...</td>\n",
       "      <td>NaN</td>\n",
       "      <td>NaN</td>\n",
       "      <td>801.0</td>\n",
       "      <td>NaN</td>\n",
       "      <td>3.549000e+09</td>\n",
       "      <td>4.016000e+09</td>\n",
       "      <td>0.0</td>\n",
       "      <td>0.0</td>\n",
       "      <td>55.2268</td>\n",
       "      <td>1. To provide contextâ€¦the average R-GPCD for...</td>\n",
       "    </tr>\n",
       "    <tr>\n",
       "      <th>3</th>\n",
       "      <td>East Bay Municipal Utilities District</td>\n",
       "      <td>CA0110005</td>\n",
       "      <td>2021-01-15</td>\n",
       "      <td>Alameda,Contra Costa</td>\n",
       "      <td>San Francisco Bay</td>\n",
       "      <td>3</td>\n",
       "      <td>1400000.0</td>\n",
       "      <td>1379000.0</td>\n",
       "      <td>Stage 0</td>\n",
       "      <td>No</td>\n",
       "      <td>...</td>\n",
       "      <td>NaN</td>\n",
       "      <td>NaN</td>\n",
       "      <td>902.0</td>\n",
       "      <td>NaN</td>\n",
       "      <td>3.919000e+09</td>\n",
       "      <td>4.099000e+09</td>\n",
       "      <td>0.0</td>\n",
       "      <td>0.0</td>\n",
       "      <td>55.9857</td>\n",
       "      <td>1. To provide contextâ€¦the average R-GPCD for...</td>\n",
       "    </tr>\n",
       "    <tr>\n",
       "      <th>4</th>\n",
       "      <td>East Bay Municipal Utilities District</td>\n",
       "      <td>CA0110005</td>\n",
       "      <td>2020-12-15</td>\n",
       "      <td>Alameda,Contra Costa</td>\n",
       "      <td>San Francisco Bay</td>\n",
       "      <td>3</td>\n",
       "      <td>1450000.0</td>\n",
       "      <td>1379000.0</td>\n",
       "      <td>Stage 0</td>\n",
       "      <td>No</td>\n",
       "      <td>...</td>\n",
       "      <td>NaN</td>\n",
       "      <td>NaN</td>\n",
       "      <td>952.0</td>\n",
       "      <td>579.0</td>\n",
       "      <td>4.169000e+09</td>\n",
       "      <td>4.772000e+09</td>\n",
       "      <td>0.0</td>\n",
       "      <td>0.0</td>\n",
       "      <td>55.6485</td>\n",
       "      <td>1. To provide contextâ€¦the average R-GPCD for...</td>\n",
       "    </tr>\n",
       "  </tbody>\n",
       "</table>\n",
       "<p>5 rows × 25 columns</p>\n",
       "</div>"
      ],
      "text/plain": [
       "                           supplier_name public_water_system_id  \\\n",
       "0  East Bay Municipal Utilities District              CA0110005   \n",
       "1  East Bay Municipal Utilities District              CA0110005   \n",
       "2  East Bay Municipal Utilities District              CA0110005   \n",
       "3  East Bay Municipal Utilities District              CA0110005   \n",
       "4  East Bay Municipal Utilities District              CA0110005   \n",
       "\n",
       "  reporting_month                county  hydrologic_region  climate_zone  \\\n",
       "0      2021-04-15  Alameda,Contra Costa  San Francisco Bay             3   \n",
       "1      2021-03-15  Alameda,Contra Costa  San Francisco Bay             3   \n",
       "2      2021-02-15  Alameda,Contra Costa  San Francisco Bay             3   \n",
       "3      2021-01-15  Alameda,Contra Costa  San Francisco Bay             3   \n",
       "4      2020-12-15  Alameda,Contra Costa  San Francisco Bay             3   \n",
       "\n",
       "   total_population_served  reference_2014_population  \\\n",
       "0                1400000.0                  1379000.0   \n",
       "1                1400000.0                  1379000.0   \n",
       "2                1400000.0                  1379000.0   \n",
       "3                1400000.0                  1379000.0   \n",
       "4                1450000.0                  1379000.0   \n",
       "\n",
       "  water_shortage_contingency_stage_invoked water_shortage_level_indicator  \\\n",
       "0                                  Stage 0                             No   \n",
       "1                                  Stage 0                             No   \n",
       "2                                  Stage 0                             No   \n",
       "3                                  Stage 0                             No   \n",
       "4                                  Stage 0                             No   \n",
       "\n",
       "   ... reported_preliminary_commercial_agricultural_water  \\\n",
       "0  ...                                                NaN   \n",
       "1  ...                                                NaN   \n",
       "2  ...                                                NaN   \n",
       "3  ...                                                NaN   \n",
       "4  ...                                                NaN   \n",
       "\n",
       "   reported_final_commercial_agricultural_water  \\\n",
       "0                                           NaN   \n",
       "1                                           NaN   \n",
       "2                                           NaN   \n",
       "3                                           NaN   \n",
       "4                                           NaN   \n",
       "\n",
       "   reported_preliminary_commercial_industrial_and_institutional_water  \\\n",
       "0                                             1026.0                    \n",
       "1                                              908.0                    \n",
       "2                                              801.0                    \n",
       "3                                              902.0                    \n",
       "4                                              952.0                    \n",
       "\n",
       "   reported_final_commercial_industrial_and_institutional_water  \\\n",
       "0                                                NaN              \n",
       "1                                                NaN              \n",
       "2                                                NaN              \n",
       "3                                                NaN              \n",
       "4                                              579.0              \n",
       "\n",
       "   calculated_total_potable_water_production_gallons_ag_excluded  \\\n",
       "0                                       4.964000e+09               \n",
       "1                                       4.221000e+09               \n",
       "2                                       3.549000e+09               \n",
       "3                                       3.919000e+09               \n",
       "4                                       4.169000e+09               \n",
       "\n",
       "   calculated_total_potable_water_production_gallons_2013_ag_excluded  \\\n",
       "0                                       5.418000e+09                    \n",
       "1                                       4.928000e+09                    \n",
       "2                                       4.016000e+09                    \n",
       "3                                       4.099000e+09                    \n",
       "4                                       4.772000e+09                    \n",
       "\n",
       "   calculated_commercial_agricultural_water_gallons  \\\n",
       "0                                               0.0   \n",
       "1                                               0.0   \n",
       "2                                               0.0   \n",
       "3                                               0.0   \n",
       "4                                               0.0   \n",
       "\n",
       "   calculated_commercial_agricultural_water_gallons_2013  calculated_r_gpcd  \\\n",
       "0                                                0.0                73.2781   \n",
       "1                                                0.0                59.3274   \n",
       "2                                                0.0                55.2268   \n",
       "3                                                0.0                55.9857   \n",
       "4                                                0.0                55.6485   \n",
       "\n",
       "                                       qualification  \n",
       "0  1. To provide contextâ€¦the average R-GPCD for...  \n",
       "1  1. To provide contextâ€¦the average R-GPCD for...  \n",
       "2  1. To provide contextâ€¦the average R-GPCD for...  \n",
       "3  1. To provide contextâ€¦the average R-GPCD for...  \n",
       "4  1. To provide contextâ€¦the average R-GPCD for...  \n",
       "\n",
       "[5 rows x 25 columns]"
      ]
     },
     "execution_count": 781,
     "metadata": {},
     "output_type": "execute_result"
    }
   ],
   "source": [
    "print(\"water shape\", water.shape)\n",
    "water.head()"
   ]
  },
  {
   "cell_type": "code",
   "execution_count": 782,
   "metadata": {},
   "outputs": [],
   "source": [
    "# water.final_percent_residential_use.mean()"
   ]
  },
  {
   "cell_type": "code",
   "execution_count": 783,
   "metadata": {
    "scrolled": true
   },
   "outputs": [
    {
     "data": {
      "text/plain": [
       "Index(['supplier_name', 'public_water_system_id', 'reporting_month', 'county',\n",
       "       'hydrologic_region', 'climate_zone', 'total_population_served',\n",
       "       'reference_2014_population', 'water_shortage_contingency_stage_invoked',\n",
       "       'water_shortage_level_indicator', 'water_production_units',\n",
       "       'reported_preliminary_total_potable_water_production',\n",
       "       'reported_final_total_potable_water_production',\n",
       "       'preliminary_percent_residential_use', 'final_percent_residential_use',\n",
       "       'reported_preliminary_commercial_agricultural_water',\n",
       "       'reported_final_commercial_agricultural_water',\n",
       "       'reported_preliminary_commercial_industrial_and_institutional_water',\n",
       "       'reported_final_commercial_industrial_and_institutional_water',\n",
       "       'calculated_total_potable_water_production_gallons_ag_excluded',\n",
       "       'calculated_total_potable_water_production_gallons_2013_ag_excluded',\n",
       "       'calculated_commercial_agricultural_water_gallons',\n",
       "       'calculated_commercial_agricultural_water_gallons_2013',\n",
       "       'calculated_r_gpcd', 'qualification'],\n",
       "      dtype='object')"
      ]
     },
     "execution_count": 783,
     "metadata": {},
     "output_type": "execute_result"
    }
   ],
   "source": [
    "water.columns"
   ]
  },
  {
   "cell_type": "code",
   "execution_count": 784,
   "metadata": {},
   "outputs": [
    {
     "name": "stdout",
     "output_type": "stream",
     "text": [
      "2021-04-15 00:00:00\n",
      "2014-06-15 00:00:00\n"
     ]
    }
   ],
   "source": [
    "water['reporting_month'] = pd.to_datetime(water['reporting_month'])\n",
    "print(water['reporting_month'].max())\n",
    "print(water['reporting_month'].min())"
   ]
  },
  {
   "cell_type": "code",
   "execution_count": 785,
   "metadata": {},
   "outputs": [
    {
     "data": {
      "text/plain": [
       "supplier_name                                                             0\n",
       "public_water_system_id                                                    0\n",
       "reporting_month                                                           0\n",
       "county                                                                    0\n",
       "hydrologic_region                                                         0\n",
       "climate_zone                                                              0\n",
       "total_population_served                                                   0\n",
       "reference_2014_population                                                 1\n",
       "water_shortage_contingency_stage_invoked                               1529\n",
       "water_shortage_level_indicator                                        28686\n",
       "water_production_units                                                    0\n",
       "reported_preliminary_total_potable_water_production                   30868\n",
       "reported_final_total_potable_water_production                           423\n",
       "preliminary_percent_residential_use                                   30785\n",
       "final_percent_residential_use                                           444\n",
       "reported_preliminary_commercial_agricultural_water                    31332\n",
       "reported_final_commercial_agricultural_water                          19319\n",
       "reported_preliminary_commercial_industrial_and_institutional_water    31010\n",
       "reported_final_commercial_industrial_and_institutional_water           7013\n",
       "calculated_total_potable_water_production_gallons_ag_excluded             0\n",
       "calculated_total_potable_water_production_gallons_2013_ag_excluded        1\n",
       "calculated_commercial_agricultural_water_gallons                          0\n",
       "calculated_commercial_agricultural_water_gallons_2013                     5\n",
       "calculated_r_gpcd                                                         0\n",
       "qualification                                                         20694\n",
       "dtype: int64"
      ]
     },
     "execution_count": 785,
     "metadata": {},
     "output_type": "execute_result"
    }
   ],
   "source": [
    "water.isnull().sum()"
   ]
  },
  {
   "cell_type": "code",
   "execution_count": 786,
   "metadata": {
    "scrolled": true
   },
   "outputs": [
    {
     "data": {
      "text/plain": [
       "0.00      469\n",
       "18.00      60\n",
       "27.00      28\n",
       "39.00      28\n",
       "28.00      28\n",
       "         ... \n",
       "580.70      1\n",
       "240.83      1\n",
       "119.73      1\n",
       "29.57       1\n",
       "111.30      1\n",
       "Name: reported_final_commercial_industrial_and_institutional_water, Length: 16843, dtype: int64"
      ]
     },
     "execution_count": 786,
     "metadata": {},
     "output_type": "execute_result"
    }
   ],
   "source": [
    "water.reported_final_commercial_industrial_and_institutional_water.value_counts()"
   ]
  },
  {
   "cell_type": "code",
   "execution_count": 787,
   "metadata": {
    "scrolled": true
   },
   "outputs": [
    {
     "data": {
      "text/plain": [
       "count    31981.000000\n",
       "mean        69.734913\n",
       "std         15.091413\n",
       "min          0.050000\n",
       "25%         61.370000\n",
       "50%         70.500000\n",
       "75%         80.000000\n",
       "max        121.000000\n",
       "Name: final_percent_residential_use, dtype: float64"
      ]
     },
     "execution_count": 787,
     "metadata": {},
     "output_type": "execute_result"
    }
   ],
   "source": [
    "water.final_percent_residential_use.describe()"
   ]
  },
  {
   "cell_type": "code",
   "execution_count": 788,
   "metadata": {
    "scrolled": false
   },
   "outputs": [
    {
     "data": {
      "text/html": [
       "<div>\n",
       "<style scoped>\n",
       "    .dataframe tbody tr th:only-of-type {\n",
       "        vertical-align: middle;\n",
       "    }\n",
       "\n",
       "    .dataframe tbody tr th {\n",
       "        vertical-align: top;\n",
       "    }\n",
       "\n",
       "    .dataframe thead th {\n",
       "        text-align: right;\n",
       "    }\n",
       "</style>\n",
       "<table border=\"1\" class=\"dataframe\">\n",
       "  <thead>\n",
       "    <tr style=\"text-align: right;\">\n",
       "      <th></th>\n",
       "      <th>supplier_name</th>\n",
       "      <th>public_water_system_id</th>\n",
       "      <th>reporting_month</th>\n",
       "      <th>county</th>\n",
       "      <th>hydrologic_region</th>\n",
       "      <th>climate_zone</th>\n",
       "      <th>total_population_served</th>\n",
       "      <th>reference_2014_population</th>\n",
       "      <th>water_shortage_contingency_stage_invoked</th>\n",
       "      <th>water_shortage_level_indicator</th>\n",
       "      <th>...</th>\n",
       "      <th>reported_preliminary_commercial_agricultural_water</th>\n",
       "      <th>reported_final_commercial_agricultural_water</th>\n",
       "      <th>reported_preliminary_commercial_industrial_and_institutional_water</th>\n",
       "      <th>reported_final_commercial_industrial_and_institutional_water</th>\n",
       "      <th>calculated_total_potable_water_production_gallons_ag_excluded</th>\n",
       "      <th>calculated_total_potable_water_production_gallons_2013_ag_excluded</th>\n",
       "      <th>calculated_commercial_agricultural_water_gallons</th>\n",
       "      <th>calculated_commercial_agricultural_water_gallons_2013</th>\n",
       "      <th>calculated_r_gpcd</th>\n",
       "      <th>qualification</th>\n",
       "    </tr>\n",
       "  </thead>\n",
       "  <tbody>\n",
       "    <tr>\n",
       "      <th>2136</th>\n",
       "      <td>Lake Hemet Municipal Water District</td>\n",
       "      <td>CA3310022</td>\n",
       "      <td>2019-12-15</td>\n",
       "      <td>Riverside</td>\n",
       "      <td>South Coast</td>\n",
       "      <td>10</td>\n",
       "      <td>52914.0</td>\n",
       "      <td>52914.0</td>\n",
       "      <td>3</td>\n",
       "      <td>NaN</td>\n",
       "      <td>...</td>\n",
       "      <td>NaN</td>\n",
       "      <td>NaN</td>\n",
       "      <td>NaN</td>\n",
       "      <td>42.590</td>\n",
       "      <td>129363017.0</td>\n",
       "      <td>258400183.0</td>\n",
       "      <td>0.0</td>\n",
       "      <td>0.0</td>\n",
       "      <td>79.4947</td>\n",
       "      <td>NaN</td>\n",
       "    </tr>\n",
       "    <tr>\n",
       "      <th>7438</th>\n",
       "      <td>Joshua Basin Water District</td>\n",
       "      <td>CA3610025</td>\n",
       "      <td>2019-09-15</td>\n",
       "      <td>San Bernardino</td>\n",
       "      <td>Colorado River</td>\n",
       "      <td>14</td>\n",
       "      <td>9665.0</td>\n",
       "      <td>9514.0</td>\n",
       "      <td>Stage No. 1 (Ordinance 15-9)</td>\n",
       "      <td>NaN</td>\n",
       "      <td>...</td>\n",
       "      <td>NaN</td>\n",
       "      <td>0.0</td>\n",
       "      <td>NaN</td>\n",
       "      <td>18.905</td>\n",
       "      <td>39753874.0</td>\n",
       "      <td>51810377.0</td>\n",
       "      <td>0.0</td>\n",
       "      <td>0.0</td>\n",
       "      <td>140.2690</td>\n",
       "      <td>Total Population Served: On April 11, 2019, JB...</td>\n",
       "    </tr>\n",
       "    <tr>\n",
       "      <th>29001</th>\n",
       "      <td>South Feather Water and Power Agency</td>\n",
       "      <td>CA0410006,CA0410012</td>\n",
       "      <td>2020-11-15</td>\n",
       "      <td>Butte</td>\n",
       "      <td>Sacramento River</td>\n",
       "      <td>11</td>\n",
       "      <td>16770.0</td>\n",
       "      <td>16346.0</td>\n",
       "      <td>0</td>\n",
       "      <td>No</td>\n",
       "      <td>...</td>\n",
       "      <td>0.0</td>\n",
       "      <td>0.0</td>\n",
       "      <td>NaN</td>\n",
       "      <td>15.370</td>\n",
       "      <td>116000000.0</td>\n",
       "      <td>110000000.0</td>\n",
       "      <td>0.0</td>\n",
       "      <td>0.0</td>\n",
       "      <td>253.6280</td>\n",
       "      <td>Because of the fires during September, the met...</td>\n",
       "    </tr>\n",
       "    <tr>\n",
       "      <th>29002</th>\n",
       "      <td>South Feather Water and Power Agency</td>\n",
       "      <td>CA0410006,CA0410012</td>\n",
       "      <td>2020-10-15</td>\n",
       "      <td>Butte</td>\n",
       "      <td>Sacramento River</td>\n",
       "      <td>11</td>\n",
       "      <td>16770.0</td>\n",
       "      <td>16346.0</td>\n",
       "      <td>0</td>\n",
       "      <td>No</td>\n",
       "      <td>...</td>\n",
       "      <td>0.0</td>\n",
       "      <td>0.0</td>\n",
       "      <td>0.0</td>\n",
       "      <td>33.500</td>\n",
       "      <td>205000000.0</td>\n",
       "      <td>164000000.0</td>\n",
       "      <td>0.0</td>\n",
       "      <td>0.0</td>\n",
       "      <td>477.1390</td>\n",
       "      <td>Our customer base was affected by the North Co...</td>\n",
       "    </tr>\n",
       "    <tr>\n",
       "      <th>31607</th>\n",
       "      <td>San Bernardino County Service Area 70J</td>\n",
       "      <td>CA3610125</td>\n",
       "      <td>2020-11-15</td>\n",
       "      <td>San Bernardino</td>\n",
       "      <td>South Coast</td>\n",
       "      <td>14</td>\n",
       "      <td>12451.0</td>\n",
       "      <td>11407.0</td>\n",
       "      <td>0</td>\n",
       "      <td>No</td>\n",
       "      <td>...</td>\n",
       "      <td>NaN</td>\n",
       "      <td>0.0</td>\n",
       "      <td>NaN</td>\n",
       "      <td>0.000</td>\n",
       "      <td>37147063.0</td>\n",
       "      <td>35843657.0</td>\n",
       "      <td>0.0</td>\n",
       "      <td>0.0</td>\n",
       "      <td>110.9050</td>\n",
       "      <td>Report is based on available data due to billi...</td>\n",
       "    </tr>\n",
       "  </tbody>\n",
       "</table>\n",
       "<p>5 rows × 25 columns</p>\n",
       "</div>"
      ],
      "text/plain": [
       "                                supplier_name public_water_system_id  \\\n",
       "2136      Lake Hemet Municipal Water District              CA3310022   \n",
       "7438              Joshua Basin Water District              CA3610025   \n",
       "29001    South Feather Water and Power Agency    CA0410006,CA0410012   \n",
       "29002    South Feather Water and Power Agency    CA0410006,CA0410012   \n",
       "31607  San Bernardino County Service Area 70J              CA3610125   \n",
       "\n",
       "      reporting_month          county hydrologic_region  climate_zone  \\\n",
       "2136       2019-12-15       Riverside       South Coast            10   \n",
       "7438       2019-09-15  San Bernardino    Colorado River            14   \n",
       "29001      2020-11-15           Butte  Sacramento River            11   \n",
       "29002      2020-10-15           Butte  Sacramento River            11   \n",
       "31607      2020-11-15  San Bernardino       South Coast            14   \n",
       "\n",
       "       total_population_served  reference_2014_population  \\\n",
       "2136                   52914.0                    52914.0   \n",
       "7438                    9665.0                     9514.0   \n",
       "29001                  16770.0                    16346.0   \n",
       "29002                  16770.0                    16346.0   \n",
       "31607                  12451.0                    11407.0   \n",
       "\n",
       "      water_shortage_contingency_stage_invoked water_shortage_level_indicator  \\\n",
       "2136                                         3                            NaN   \n",
       "7438              Stage No. 1 (Ordinance 15-9)                            NaN   \n",
       "29001                                        0                             No   \n",
       "29002                                        0                             No   \n",
       "31607                                        0                             No   \n",
       "\n",
       "       ... reported_preliminary_commercial_agricultural_water  \\\n",
       "2136   ...                                                NaN   \n",
       "7438   ...                                                NaN   \n",
       "29001  ...                                                0.0   \n",
       "29002  ...                                                0.0   \n",
       "31607  ...                                                NaN   \n",
       "\n",
       "       reported_final_commercial_agricultural_water  \\\n",
       "2136                                            NaN   \n",
       "7438                                            0.0   \n",
       "29001                                           0.0   \n",
       "29002                                           0.0   \n",
       "31607                                           0.0   \n",
       "\n",
       "       reported_preliminary_commercial_industrial_and_institutional_water  \\\n",
       "2136                                                 NaN                    \n",
       "7438                                                 NaN                    \n",
       "29001                                                NaN                    \n",
       "29002                                                0.0                    \n",
       "31607                                                NaN                    \n",
       "\n",
       "       reported_final_commercial_industrial_and_institutional_water  \\\n",
       "2136                                              42.590              \n",
       "7438                                              18.905              \n",
       "29001                                             15.370              \n",
       "29002                                             33.500              \n",
       "31607                                              0.000              \n",
       "\n",
       "       calculated_total_potable_water_production_gallons_ag_excluded  \\\n",
       "2136                                         129363017.0               \n",
       "7438                                          39753874.0               \n",
       "29001                                        116000000.0               \n",
       "29002                                        205000000.0               \n",
       "31607                                         37147063.0               \n",
       "\n",
       "       calculated_total_potable_water_production_gallons_2013_ag_excluded  \\\n",
       "2136                                         258400183.0                    \n",
       "7438                                          51810377.0                    \n",
       "29001                                        110000000.0                    \n",
       "29002                                        164000000.0                    \n",
       "31607                                         35843657.0                    \n",
       "\n",
       "       calculated_commercial_agricultural_water_gallons  \\\n",
       "2136                                                0.0   \n",
       "7438                                                0.0   \n",
       "29001                                               0.0   \n",
       "29002                                               0.0   \n",
       "31607                                               0.0   \n",
       "\n",
       "       calculated_commercial_agricultural_water_gallons_2013  \\\n",
       "2136                                                 0.0       \n",
       "7438                                                 0.0       \n",
       "29001                                                0.0       \n",
       "29002                                                0.0       \n",
       "31607                                                0.0       \n",
       "\n",
       "       calculated_r_gpcd                                      qualification  \n",
       "2136             79.4947                                                NaN  \n",
       "7438            140.2690  Total Population Served: On April 11, 2019, JB...  \n",
       "29001           253.6280  Because of the fires during September, the met...  \n",
       "29002           477.1390  Our customer base was affected by the North Co...  \n",
       "31607           110.9050  Report is based on available data due to billi...  \n",
       "\n",
       "[5 rows x 25 columns]"
      ]
     },
     "execution_count": 788,
     "metadata": {},
     "output_type": "execute_result"
    }
   ],
   "source": [
    "water[water.final_percent_residential_use > 100]"
   ]
  },
  {
   "cell_type": "markdown",
   "metadata": {},
   "source": [
    "Only 5 entries where residential use exceeds 100%"
   ]
  },
  {
   "cell_type": "code",
   "execution_count": 789,
   "metadata": {
    "scrolled": true
   },
   "outputs": [
    {
     "data": {
      "text/plain": [
       "10"
      ]
     },
     "execution_count": 789,
     "metadata": {},
     "output_type": "execute_result"
    }
   ],
   "source": [
    "len(conserv[' Hydrologic Region'].unique())"
   ]
  },
  {
   "cell_type": "code",
   "execution_count": 790,
   "metadata": {},
   "outputs": [
    {
     "data": {
      "text/plain": [
       "10"
      ]
     },
     "execution_count": 790,
     "metadata": {},
     "output_type": "execute_result"
    }
   ],
   "source": [
    "len(water['hydrologic_region'].unique())"
   ]
  },
  {
   "cell_type": "code",
   "execution_count": 791,
   "metadata": {},
   "outputs": [
    {
     "data": {
      "text/plain": [
       "10"
      ]
     },
     "execution_count": 791,
     "metadata": {},
     "output_type": "execute_result"
    }
   ],
   "source": [
    "true_count = 0\n",
    "for i in conserv[' Hydrologic Region'].unique():\n",
    "    if i in water['hydrologic_region'].unique():\n",
    "        true_count += 1\n",
    "true_count"
   ]
  },
  {
   "cell_type": "markdown",
   "metadata": {},
   "source": [
    "This is good, they match up in totality "
   ]
  },
  {
   "cell_type": "markdown",
   "metadata": {},
   "source": [
    "---\n",
    "## Water Suppliers Cleaning\n",
    "---"
   ]
  },
  {
   "cell_type": "code",
   "execution_count": 792,
   "metadata": {},
   "outputs": [
    {
     "data": {
      "text/plain": [
       "supplier_name                                                            0\n",
       "public_water_system_id                                                   0\n",
       "reporting_month                                                          0\n",
       "county                                                                   0\n",
       "hydrologic_region                                                        0\n",
       "climate_zone                                                             0\n",
       "total_population_served                                                  0\n",
       "reference_2014_population                                                1\n",
       "water_shortage_contingency_stage_invoked                              1529\n",
       "water_production_units                                                   0\n",
       "reported_final_total_potable_water_production                          423\n",
       "final_percent_residential_use                                          444\n",
       "reported_final_commercial_industrial_and_institutional_water          7013\n",
       "calculated_total_potable_water_production_gallons_ag_excluded            0\n",
       "calculated_total_potable_water_production_gallons_2013_ag_excluded       1\n",
       "calculated_commercial_agricultural_water_gallons                         0\n",
       "calculated_commercial_agricultural_water_gallons_2013                    5\n",
       "calculated_r_gpcd                                                        0\n",
       "dtype: int64"
      ]
     },
     "execution_count": 792,
     "metadata": {},
     "output_type": "execute_result"
    }
   ],
   "source": [
    "# dropping columns where over half the \n",
    "water = water.T[water.isnull().sum() < water.shape[0]//2]\n",
    "water = water.T\n",
    "water.isnull().sum()"
   ]
  },
  {
   "cell_type": "code",
   "execution_count": 793,
   "metadata": {},
   "outputs": [
    {
     "data": {
      "text/plain": [
       "413"
      ]
     },
     "execution_count": 793,
     "metadata": {},
     "output_type": "execute_result"
    }
   ],
   "source": [
    "water.supplier_name.nunique()"
   ]
  },
  {
   "cell_type": "code",
   "execution_count": 794,
   "metadata": {
    "scrolled": true
   },
   "outputs": [
    {
     "data": {
      "text/plain": [
       "413"
      ]
     },
     "execution_count": 794,
     "metadata": {},
     "output_type": "execute_result"
    }
   ],
   "source": [
    "water.public_water_system_id.nunique()"
   ]
  },
  {
   "cell_type": "markdown",
   "metadata": {},
   "source": [
    "So these are the same"
   ]
  },
  {
   "cell_type": "code",
   "execution_count": 795,
   "metadata": {},
   "outputs": [
    {
     "data": {
      "text/plain": [
       "712"
      ]
     },
     "execution_count": 795,
     "metadata": {},
     "output_type": "execute_result"
    }
   ],
   "source": [
    "water.water_shortage_contingency_stage_invoked.nunique()"
   ]
  },
  {
   "cell_type": "code",
   "execution_count": 796,
   "metadata": {
    "scrolled": true
   },
   "outputs": [
    {
     "data": {
      "text/plain": [
       "2                                                     5868\n",
       "1                                                     5813\n",
       "3                                                     2176\n",
       "0                                                     2129\n",
       "Stage 2                                               1336\n",
       "Stage 1                                               1081\n",
       "None                                                   834\n",
       "Stage 2 of the WSCP                                    833\n",
       "Level 1                                                487\n",
       "none                                                   408\n",
       "Stage 2 of the WSCP; Stage 1 of CPUC Schedule 14.1     374\n",
       "Level 2                                                307\n",
       "Stage 3                                                275\n",
       "4                                                      272\n",
       "Stage II                                               269\n",
       "II                                                     249\n",
       "CPUC Rule 14.1 Stage 1                                 229\n",
       "Phase 1                                                223\n",
       "stage 2                                                210\n",
       "CPUC Rule 14.1                                         197\n",
       "stage 1                                                184\n",
       "Normal                                                 162\n",
       "I                                                      141\n",
       "Stage I                                                132\n",
       "Permanent                                              131\n",
       "Phase 3                                                115\n",
       "A                                                      103\n",
       "Voluntary                                               98\n",
       "Phase 2                                                 98\n",
       "Standard                                                95\n",
       "Name: water_shortage_contingency_stage_invoked, dtype: int64"
      ]
     },
     "execution_count": 796,
     "metadata": {},
     "output_type": "execute_result"
    }
   ],
   "source": [
    "water.water_shortage_contingency_stage_invoked.value_counts()[:30]"
   ]
  },
  {
   "cell_type": "markdown",
   "metadata": {},
   "source": [
    "This looks like there are only 3 or 4 stages just recorded in different ways and could be encoded with some effort"
   ]
  },
  {
   "cell_type": "code",
   "execution_count": 797,
   "metadata": {
    "scrolled": false
   },
   "outputs": [
    {
     "data": {
      "text/plain": [
       "9      28486\n",
       "19      1874\n",
       "29       807\n",
       "39       387\n",
       "49       241\n",
       "59       216\n",
       "69       166\n",
       "109       83\n",
       "99        83\n",
       "79        82\n",
       "Name: public_water_system_id, dtype: int64"
      ]
     },
     "execution_count": 797,
     "metadata": {},
     "output_type": "execute_result"
    }
   ],
   "source": [
    "water['public_water_system_id'].map(len).value_counts()"
   ]
  },
  {
   "cell_type": "code",
   "execution_count": 798,
   "metadata": {},
   "outputs": [
    {
     "data": {
      "text/plain": [
       "Placer County Water Agency                               83\n",
       "California Water Service Company Kern River Valley       83\n",
       "California-American Water Company Sacramento District    83\n",
       "Tuolumne Utilities District                              83\n",
       "Sacramento County Water Agency                           82\n",
       "Name: supplier_name, dtype: int64"
      ]
     },
     "execution_count": 798,
     "metadata": {},
     "output_type": "execute_result"
    }
   ],
   "source": [
    "water[water['public_water_system_id'].map(len) > 59]['supplier_name'].value_counts()"
   ]
  },
  {
   "cell_type": "code",
   "execution_count": 799,
   "metadata": {},
   "outputs": [
    {
     "data": {
      "text/html": [
       "<div>\n",
       "<style scoped>\n",
       "    .dataframe tbody tr th:only-of-type {\n",
       "        vertical-align: middle;\n",
       "    }\n",
       "\n",
       "    .dataframe tbody tr th {\n",
       "        vertical-align: top;\n",
       "    }\n",
       "\n",
       "    .dataframe thead th {\n",
       "        text-align: right;\n",
       "    }\n",
       "</style>\n",
       "<table border=\"1\" class=\"dataframe\">\n",
       "  <thead>\n",
       "    <tr style=\"text-align: right;\">\n",
       "      <th></th>\n",
       "      <th>supplier_name</th>\n",
       "      <th>public_water_system_id</th>\n",
       "      <th>reporting_month</th>\n",
       "      <th>county</th>\n",
       "      <th>hydrologic_region</th>\n",
       "      <th>climate_zone</th>\n",
       "      <th>total_population_served</th>\n",
       "      <th>reference_2014_population</th>\n",
       "      <th>water_shortage_contingency_stage_invoked</th>\n",
       "      <th>water_production_units</th>\n",
       "      <th>reported_final_total_potable_water_production</th>\n",
       "      <th>final_percent_residential_use</th>\n",
       "      <th>reported_final_commercial_industrial_and_institutional_water</th>\n",
       "      <th>calculated_total_potable_water_production_gallons_ag_excluded</th>\n",
       "      <th>calculated_total_potable_water_production_gallons_2013_ag_excluded</th>\n",
       "      <th>calculated_commercial_agricultural_water_gallons</th>\n",
       "      <th>calculated_commercial_agricultural_water_gallons_2013</th>\n",
       "      <th>calculated_r_gpcd</th>\n",
       "    </tr>\n",
       "  </thead>\n",
       "  <tbody>\n",
       "    <tr>\n",
       "      <th>7585</th>\n",
       "      <td>Tuolumne Utilities District</td>\n",
       "      <td>CA5510001,CA5510012,CA5500363,CA5510002,CA5510...</td>\n",
       "      <td>2021-04-15</td>\n",
       "      <td>Tuolumne</td>\n",
       "      <td>San Joaquin River</td>\n",
       "      <td>12</td>\n",
       "      <td>31110</td>\n",
       "      <td>28997</td>\n",
       "      <td>Phase II</td>\n",
       "      <td>AF</td>\n",
       "      <td>NaN</td>\n",
       "      <td>NaN</td>\n",
       "      <td>NaN</td>\n",
       "      <td>1.12745e+08</td>\n",
       "      <td>1.1307e+08</td>\n",
       "      <td>0</td>\n",
       "      <td>0</td>\n",
       "      <td>83.3534</td>\n",
       "    </tr>\n",
       "    <tr>\n",
       "      <th>7586</th>\n",
       "      <td>Tuolumne Utilities District</td>\n",
       "      <td>CA5510001,CA5510012,CA5500363,CA5510002,CA5510...</td>\n",
       "      <td>2021-03-15</td>\n",
       "      <td>Tuolumne</td>\n",
       "      <td>San Joaquin River</td>\n",
       "      <td>12</td>\n",
       "      <td>31110</td>\n",
       "      <td>28997</td>\n",
       "      <td>Phase II</td>\n",
       "      <td>AF</td>\n",
       "      <td>NaN</td>\n",
       "      <td>NaN</td>\n",
       "      <td>NaN</td>\n",
       "      <td>8.66765e+07</td>\n",
       "      <td>9.28677e+07</td>\n",
       "      <td>0</td>\n",
       "      <td>0</td>\n",
       "      <td>53.9251</td>\n",
       "    </tr>\n",
       "    <tr>\n",
       "      <th>7587</th>\n",
       "      <td>Tuolumne Utilities District</td>\n",
       "      <td>CA5510001,CA5510012,CA5500363,CA5510002,CA5510...</td>\n",
       "      <td>2021-02-15</td>\n",
       "      <td>Tuolumne</td>\n",
       "      <td>San Joaquin River</td>\n",
       "      <td>12</td>\n",
       "      <td>31110</td>\n",
       "      <td>28997</td>\n",
       "      <td>Phase II</td>\n",
       "      <td>AF</td>\n",
       "      <td>NaN</td>\n",
       "      <td>NaN</td>\n",
       "      <td>NaN</td>\n",
       "      <td>8.60248e+07</td>\n",
       "      <td>7.98336e+07</td>\n",
       "      <td>0</td>\n",
       "      <td>0</td>\n",
       "      <td>59.2539</td>\n",
       "    </tr>\n",
       "    <tr>\n",
       "      <th>7588</th>\n",
       "      <td>Tuolumne Utilities District</td>\n",
       "      <td>CA5510001,CA5510012,CA5500363,CA5510002,CA5510...</td>\n",
       "      <td>2021-01-15</td>\n",
       "      <td>Tuolumne</td>\n",
       "      <td>San Joaquin River</td>\n",
       "      <td>12</td>\n",
       "      <td>31110</td>\n",
       "      <td>28997</td>\n",
       "      <td>Phase II</td>\n",
       "      <td>AF</td>\n",
       "      <td>NaN</td>\n",
       "      <td>64</td>\n",
       "      <td>NaN</td>\n",
       "      <td>8.53731e+07</td>\n",
       "      <td>9.41711e+07</td>\n",
       "      <td>0</td>\n",
       "      <td>0</td>\n",
       "      <td>56.6551</td>\n",
       "    </tr>\n",
       "    <tr>\n",
       "      <th>7589</th>\n",
       "      <td>Tuolumne Utilities District</td>\n",
       "      <td>CA5510001,CA5510012,CA5500363,CA5510002,CA5510...</td>\n",
       "      <td>2020-12-15</td>\n",
       "      <td>Tuolumne</td>\n",
       "      <td>San Joaquin River</td>\n",
       "      <td>12</td>\n",
       "      <td>31110</td>\n",
       "      <td>28997</td>\n",
       "      <td>Phase II</td>\n",
       "      <td>AF</td>\n",
       "      <td>NaN</td>\n",
       "      <td>NaN</td>\n",
       "      <td>NaN</td>\n",
       "      <td>8.40697e+07</td>\n",
       "      <td>1.06879e+08</td>\n",
       "      <td>0</td>\n",
       "      <td>0</td>\n",
       "      <td>58.4053</td>\n",
       "    </tr>\n",
       "    <tr>\n",
       "      <th>...</th>\n",
       "      <td>...</td>\n",
       "      <td>...</td>\n",
       "      <td>...</td>\n",
       "      <td>...</td>\n",
       "      <td>...</td>\n",
       "      <td>...</td>\n",
       "      <td>...</td>\n",
       "      <td>...</td>\n",
       "      <td>...</td>\n",
       "      <td>...</td>\n",
       "      <td>...</td>\n",
       "      <td>...</td>\n",
       "      <td>...</td>\n",
       "      <td>...</td>\n",
       "      <td>...</td>\n",
       "      <td>...</td>\n",
       "      <td>...</td>\n",
       "      <td>...</td>\n",
       "    </tr>\n",
       "    <tr>\n",
       "      <th>7663</th>\n",
       "      <td>Tuolumne Utilities District</td>\n",
       "      <td>CA5510001,CA5510012,CA5500363,CA5510002,CA5510...</td>\n",
       "      <td>2014-10-15</td>\n",
       "      <td>Tuolumne</td>\n",
       "      <td>San Joaquin River</td>\n",
       "      <td>12</td>\n",
       "      <td>28997</td>\n",
       "      <td>28997</td>\n",
       "      <td>Phase II of IV</td>\n",
       "      <td>AF</td>\n",
       "      <td>365.5</td>\n",
       "      <td>81.6</td>\n",
       "      <td>NaN</td>\n",
       "      <td>1.19262e+08</td>\n",
       "      <td>1.4924e+08</td>\n",
       "      <td>0</td>\n",
       "      <td>0</td>\n",
       "      <td>108.262</td>\n",
       "    </tr>\n",
       "    <tr>\n",
       "      <th>7664</th>\n",
       "      <td>Tuolumne Utilities District</td>\n",
       "      <td>CA5510001,CA5510012,CA5500363,CA5510002,CA5510...</td>\n",
       "      <td>2014-09-15</td>\n",
       "      <td>Tuolumne</td>\n",
       "      <td>San Joaquin River</td>\n",
       "      <td>12</td>\n",
       "      <td>28997</td>\n",
       "      <td>28997</td>\n",
       "      <td>2 of 4</td>\n",
       "      <td>AF</td>\n",
       "      <td>413</td>\n",
       "      <td>81.6</td>\n",
       "      <td>NaN</td>\n",
       "      <td>1.34577e+08</td>\n",
       "      <td>1.87527e+08</td>\n",
       "      <td>0</td>\n",
       "      <td>0</td>\n",
       "      <td>126.237</td>\n",
       "    </tr>\n",
       "    <tr>\n",
       "      <th>7665</th>\n",
       "      <td>Tuolumne Utilities District</td>\n",
       "      <td>CA5510001,CA5510012,CA5500363,CA5510002,CA5510...</td>\n",
       "      <td>2014-08-15</td>\n",
       "      <td>Tuolumne</td>\n",
       "      <td>San Joaquin River</td>\n",
       "      <td>12</td>\n",
       "      <td>28997</td>\n",
       "      <td>28997</td>\n",
       "      <td>NaN</td>\n",
       "      <td>AF</td>\n",
       "      <td>444</td>\n",
       "      <td>81.6</td>\n",
       "      <td>NaN</td>\n",
       "      <td>1.44678e+08</td>\n",
       "      <td>2.1995e+08</td>\n",
       "      <td>0</td>\n",
       "      <td>0</td>\n",
       "      <td>131.334</td>\n",
       "    </tr>\n",
       "    <tr>\n",
       "      <th>7666</th>\n",
       "      <td>Tuolumne Utilities District</td>\n",
       "      <td>CA5510001,CA5510012,CA5500363,CA5510002,CA5510...</td>\n",
       "      <td>2014-07-15</td>\n",
       "      <td>Tuolumne</td>\n",
       "      <td>San Joaquin River</td>\n",
       "      <td>12</td>\n",
       "      <td>28997</td>\n",
       "      <td>28997</td>\n",
       "      <td>Phase III of IV</td>\n",
       "      <td>AF</td>\n",
       "      <td>440</td>\n",
       "      <td>81.6</td>\n",
       "      <td>NaN</td>\n",
       "      <td>1.43375e+08</td>\n",
       "      <td>2.35428e+08</td>\n",
       "      <td>0</td>\n",
       "      <td>0</td>\n",
       "      <td>130.151</td>\n",
       "    </tr>\n",
       "    <tr>\n",
       "      <th>7667</th>\n",
       "      <td>Tuolumne Utilities District</td>\n",
       "      <td>CA5510001,CA5510012,CA5500363,CA5510002,CA5510...</td>\n",
       "      <td>2014-06-15</td>\n",
       "      <td>Tuolumne</td>\n",
       "      <td>San Joaquin River</td>\n",
       "      <td>12</td>\n",
       "      <td>28997</td>\n",
       "      <td>28997</td>\n",
       "      <td>Phase III of IV</td>\n",
       "      <td>AF</td>\n",
       "      <td>384</td>\n",
       "      <td>81.6</td>\n",
       "      <td>NaN</td>\n",
       "      <td>1.25127e+08</td>\n",
       "      <td>2.00399e+08</td>\n",
       "      <td>0</td>\n",
       "      <td>0</td>\n",
       "      <td>117.373</td>\n",
       "    </tr>\n",
       "  </tbody>\n",
       "</table>\n",
       "<p>83 rows × 18 columns</p>\n",
       "</div>"
      ],
      "text/plain": [
       "                    supplier_name  \\\n",
       "7585  Tuolumne Utilities District   \n",
       "7586  Tuolumne Utilities District   \n",
       "7587  Tuolumne Utilities District   \n",
       "7588  Tuolumne Utilities District   \n",
       "7589  Tuolumne Utilities District   \n",
       "...                           ...   \n",
       "7663  Tuolumne Utilities District   \n",
       "7664  Tuolumne Utilities District   \n",
       "7665  Tuolumne Utilities District   \n",
       "7666  Tuolumne Utilities District   \n",
       "7667  Tuolumne Utilities District   \n",
       "\n",
       "                                 public_water_system_id reporting_month  \\\n",
       "7585  CA5510001,CA5510012,CA5500363,CA5510002,CA5510...      2021-04-15   \n",
       "7586  CA5510001,CA5510012,CA5500363,CA5510002,CA5510...      2021-03-15   \n",
       "7587  CA5510001,CA5510012,CA5500363,CA5510002,CA5510...      2021-02-15   \n",
       "7588  CA5510001,CA5510012,CA5500363,CA5510002,CA5510...      2021-01-15   \n",
       "7589  CA5510001,CA5510012,CA5500363,CA5510002,CA5510...      2020-12-15   \n",
       "...                                                 ...             ...   \n",
       "7663  CA5510001,CA5510012,CA5500363,CA5510002,CA5510...      2014-10-15   \n",
       "7664  CA5510001,CA5510012,CA5500363,CA5510002,CA5510...      2014-09-15   \n",
       "7665  CA5510001,CA5510012,CA5500363,CA5510002,CA5510...      2014-08-15   \n",
       "7666  CA5510001,CA5510012,CA5500363,CA5510002,CA5510...      2014-07-15   \n",
       "7667  CA5510001,CA5510012,CA5500363,CA5510002,CA5510...      2014-06-15   \n",
       "\n",
       "        county  hydrologic_region climate_zone total_population_served  \\\n",
       "7585  Tuolumne  San Joaquin River           12                   31110   \n",
       "7586  Tuolumne  San Joaquin River           12                   31110   \n",
       "7587  Tuolumne  San Joaquin River           12                   31110   \n",
       "7588  Tuolumne  San Joaquin River           12                   31110   \n",
       "7589  Tuolumne  San Joaquin River           12                   31110   \n",
       "...        ...                ...          ...                     ...   \n",
       "7663  Tuolumne  San Joaquin River           12                   28997   \n",
       "7664  Tuolumne  San Joaquin River           12                   28997   \n",
       "7665  Tuolumne  San Joaquin River           12                   28997   \n",
       "7666  Tuolumne  San Joaquin River           12                   28997   \n",
       "7667  Tuolumne  San Joaquin River           12                   28997   \n",
       "\n",
       "     reference_2014_population water_shortage_contingency_stage_invoked  \\\n",
       "7585                     28997                                 Phase II   \n",
       "7586                     28997                                 Phase II   \n",
       "7587                     28997                                 Phase II   \n",
       "7588                     28997                                 Phase II   \n",
       "7589                     28997                                 Phase II   \n",
       "...                        ...                                      ...   \n",
       "7663                     28997                           Phase II of IV   \n",
       "7664                     28997                                   2 of 4   \n",
       "7665                     28997                                      NaN   \n",
       "7666                     28997                          Phase III of IV   \n",
       "7667                     28997                          Phase III of IV   \n",
       "\n",
       "     water_production_units reported_final_total_potable_water_production  \\\n",
       "7585                     AF                                           NaN   \n",
       "7586                     AF                                           NaN   \n",
       "7587                     AF                                           NaN   \n",
       "7588                     AF                                           NaN   \n",
       "7589                     AF                                           NaN   \n",
       "...                     ...                                           ...   \n",
       "7663                     AF                                         365.5   \n",
       "7664                     AF                                           413   \n",
       "7665                     AF                                           444   \n",
       "7666                     AF                                           440   \n",
       "7667                     AF                                           384   \n",
       "\n",
       "     final_percent_residential_use  \\\n",
       "7585                           NaN   \n",
       "7586                           NaN   \n",
       "7587                           NaN   \n",
       "7588                            64   \n",
       "7589                           NaN   \n",
       "...                            ...   \n",
       "7663                          81.6   \n",
       "7664                          81.6   \n",
       "7665                          81.6   \n",
       "7666                          81.6   \n",
       "7667                          81.6   \n",
       "\n",
       "     reported_final_commercial_industrial_and_institutional_water  \\\n",
       "7585                                                NaN             \n",
       "7586                                                NaN             \n",
       "7587                                                NaN             \n",
       "7588                                                NaN             \n",
       "7589                                                NaN             \n",
       "...                                                 ...             \n",
       "7663                                                NaN             \n",
       "7664                                                NaN             \n",
       "7665                                                NaN             \n",
       "7666                                                NaN             \n",
       "7667                                                NaN             \n",
       "\n",
       "     calculated_total_potable_water_production_gallons_ag_excluded  \\\n",
       "7585                                        1.12745e+08              \n",
       "7586                                        8.66765e+07              \n",
       "7587                                        8.60248e+07              \n",
       "7588                                        8.53731e+07              \n",
       "7589                                        8.40697e+07              \n",
       "...                                                 ...              \n",
       "7663                                        1.19262e+08              \n",
       "7664                                        1.34577e+08              \n",
       "7665                                        1.44678e+08              \n",
       "7666                                        1.43375e+08              \n",
       "7667                                        1.25127e+08              \n",
       "\n",
       "     calculated_total_potable_water_production_gallons_2013_ag_excluded  \\\n",
       "7585                                         1.1307e+08                   \n",
       "7586                                        9.28677e+07                   \n",
       "7587                                        7.98336e+07                   \n",
       "7588                                        9.41711e+07                   \n",
       "7589                                        1.06879e+08                   \n",
       "...                                                 ...                   \n",
       "7663                                         1.4924e+08                   \n",
       "7664                                        1.87527e+08                   \n",
       "7665                                         2.1995e+08                   \n",
       "7666                                        2.35428e+08                   \n",
       "7667                                        2.00399e+08                   \n",
       "\n",
       "     calculated_commercial_agricultural_water_gallons  \\\n",
       "7585                                                0   \n",
       "7586                                                0   \n",
       "7587                                                0   \n",
       "7588                                                0   \n",
       "7589                                                0   \n",
       "...                                               ...   \n",
       "7663                                                0   \n",
       "7664                                                0   \n",
       "7665                                                0   \n",
       "7666                                                0   \n",
       "7667                                                0   \n",
       "\n",
       "     calculated_commercial_agricultural_water_gallons_2013 calculated_r_gpcd  \n",
       "7585                                                  0              83.3534  \n",
       "7586                                                  0              53.9251  \n",
       "7587                                                  0              59.2539  \n",
       "7588                                                  0              56.6551  \n",
       "7589                                                  0              58.4053  \n",
       "...                                                 ...                  ...  \n",
       "7663                                                  0              108.262  \n",
       "7664                                                  0              126.237  \n",
       "7665                                                  0              131.334  \n",
       "7666                                                  0              130.151  \n",
       "7667                                                  0              117.373  \n",
       "\n",
       "[83 rows x 18 columns]"
      ]
     },
     "execution_count": 799,
     "metadata": {},
     "output_type": "execute_result"
    }
   ],
   "source": [
    "water[water['public_water_system_id'].map(len) > 100]"
   ]
  },
  {
   "cell_type": "code",
   "execution_count": 800,
   "metadata": {
    "scrolled": false
   },
   "outputs": [
    {
     "data": {
      "text/plain": [
       "7585    [CA5510001, CA5510012, CA5500363, CA5510002, C...\n",
       "Name: public_water_system_id, dtype: object"
      ]
     },
     "execution_count": 800,
     "metadata": {},
     "output_type": "execute_result"
    }
   ],
   "source": [
    "water[water['public_water_system_id'].map(len) > 100][:1]['public_water_system_id'].str.split(',')"
   ]
  },
  {
   "cell_type": "code",
   "execution_count": 801,
   "metadata": {
    "scrolled": true
   },
   "outputs": [
    {
     "data": {
      "text/plain": [
       "['CA5510001',\n",
       " 'CA5510012',\n",
       " 'CA5500363',\n",
       " 'CA5510002',\n",
       " 'CA5510003',\n",
       " 'CA5510013',\n",
       " 'CA5510015',\n",
       " 'CA5510021',\n",
       " 'CA5510025',\n",
       " 'CA5510028',\n",
       " 'CA5510033']"
      ]
     },
     "execution_count": 801,
     "metadata": {},
     "output_type": "execute_result"
    }
   ],
   "source": [
    "a = water[water['public_water_system_id'].map(len) > 100][:1]['public_water_system_id'].values[0]\n",
    "a = a.split(',')\n",
    "a"
   ]
  },
  {
   "cell_type": "markdown",
   "metadata": {},
   "source": [
    "Checking to see if there is overlap with any other suppliers"
   ]
  },
  {
   "cell_type": "code",
   "execution_count": 802,
   "metadata": {},
   "outputs": [
    {
     "data": {
      "text/plain": [
       "Tuolumne Utilities District    83\n",
       "Name: supplier_name, dtype: int64"
      ]
     },
     "execution_count": 802,
     "metadata": {},
     "output_type": "execute_result"
    }
   ],
   "source": [
    "# checking for system id CA5510013\n",
    "water[water['public_water_system_id'].str.contains('CA5510013')]['supplier_name'].value_counts()"
   ]
  },
  {
   "cell_type": "code",
   "execution_count": 803,
   "metadata": {},
   "outputs": [
    {
     "data": {
      "text/plain": [
       "Tuolumne Utilities District    83\n",
       "Name: supplier_name, dtype: int64"
      ]
     },
     "execution_count": 803,
     "metadata": {},
     "output_type": "execute_result"
    }
   ],
   "source": [
    "# checking for system id CA5510001\n",
    "water[water['public_water_system_id'].str.contains('CA5510001')]['supplier_name'].value_counts()"
   ]
  },
  {
   "cell_type": "code",
   "execution_count": 804,
   "metadata": {},
   "outputs": [
    {
     "data": {
      "text/plain": [
       "['CA0510004', 'CA0510005', 'CA0510006', 'CA0510016', 'CA0510017', 'CA0510019']"
      ]
     },
     "execution_count": 804,
     "metadata": {},
     "output_type": "execute_result"
    }
   ],
   "source": [
    "b = water[water['public_water_system_id'].map(len) == 59][:1]['public_water_system_id'].values[0]\n",
    "b = b.split(',')\n",
    "b"
   ]
  },
  {
   "cell_type": "code",
   "execution_count": 805,
   "metadata": {},
   "outputs": [
    {
     "data": {
      "text/plain": [
       "Calaveras County Water District    50\n",
       "Name: supplier_name, dtype: int64"
      ]
     },
     "execution_count": 805,
     "metadata": {},
     "output_type": "execute_result"
    }
   ],
   "source": [
    "# checking for system id CA0510004\n",
    "water[water['public_water_system_id'].str.contains('CA0510004')]['supplier_name'].value_counts()"
   ]
  },
  {
   "cell_type": "code",
   "execution_count": 806,
   "metadata": {},
   "outputs": [
    {
     "data": {
      "text/plain": [
       "'0510004'"
      ]
     },
     "execution_count": 806,
     "metadata": {},
     "output_type": "execute_result"
    }
   ],
   "source": [
    "len(b[0])\n",
    "b[0][2:9]"
   ]
  },
  {
   "cell_type": "markdown",
   "metadata": {},
   "source": [
    "Looks like each one covering multiple system id's is unique and the first value could be used for encoding "
   ]
  },
  {
   "cell_type": "code",
   "execution_count": 807,
   "metadata": {
    "scrolled": true
   },
   "outputs": [
    {
     "data": {
      "text/plain": [
       "0         110005\n",
       "1         110005\n",
       "2         110005\n",
       "3         110005\n",
       "4         110005\n",
       "          ...   \n",
       "32420    1910149\n",
       "32421     410008\n",
       "32422     410008\n",
       "32423     410008\n",
       "32424     410008\n",
       "Name: system_id, Length: 32425, dtype: int64"
      ]
     },
     "execution_count": 807,
     "metadata": {},
     "output_type": "execute_result"
    }
   ],
   "source": [
    "water['system_id'] = water['public_water_system_id'].map(lambda x: int(str(x)[2:9]))\n",
    "water.system_id"
   ]
  },
  {
   "cell_type": "code",
   "execution_count": null,
   "metadata": {},
   "outputs": [],
   "source": []
  },
  {
   "cell_type": "code",
   "execution_count": 808,
   "metadata": {
    "scrolled": false
   },
   "outputs": [
    {
     "data": {
      "text/html": [
       "<div>\n",
       "<style scoped>\n",
       "    .dataframe tbody tr th:only-of-type {\n",
       "        vertical-align: middle;\n",
       "    }\n",
       "\n",
       "    .dataframe tbody tr th {\n",
       "        vertical-align: top;\n",
       "    }\n",
       "\n",
       "    .dataframe thead th {\n",
       "        text-align: right;\n",
       "    }\n",
       "</style>\n",
       "<table border=\"1\" class=\"dataframe\">\n",
       "  <thead>\n",
       "    <tr style=\"text-align: right;\">\n",
       "      <th></th>\n",
       "      <th>supplier_name</th>\n",
       "      <th>public_water_system_id</th>\n",
       "      <th>reporting_month</th>\n",
       "      <th>county</th>\n",
       "      <th>hydrologic_region</th>\n",
       "      <th>climate_zone</th>\n",
       "      <th>total_population_served</th>\n",
       "      <th>reference_2014_population</th>\n",
       "      <th>water_shortage_contingency_stage_invoked</th>\n",
       "      <th>water_production_units</th>\n",
       "      <th>reported_final_total_potable_water_production</th>\n",
       "      <th>final_percent_residential_use</th>\n",
       "      <th>reported_final_commercial_industrial_and_institutional_water</th>\n",
       "      <th>calculated_total_potable_water_production_gallons_ag_excluded</th>\n",
       "      <th>calculated_total_potable_water_production_gallons_2013_ag_excluded</th>\n",
       "      <th>calculated_commercial_agricultural_water_gallons</th>\n",
       "      <th>calculated_commercial_agricultural_water_gallons_2013</th>\n",
       "      <th>calculated_r_gpcd</th>\n",
       "      <th>system_id</th>\n",
       "    </tr>\n",
       "  </thead>\n",
       "  <tbody>\n",
       "    <tr>\n",
       "      <th>0</th>\n",
       "      <td>East Bay Municipal Utilities District</td>\n",
       "      <td>CA0110005</td>\n",
       "      <td>2021-04-15</td>\n",
       "      <td>Alameda,Contra Costa</td>\n",
       "      <td>San Francisco Bay</td>\n",
       "      <td>3</td>\n",
       "      <td>1.4e+06</td>\n",
       "      <td>1.379e+06</td>\n",
       "      <td>Stage 0</td>\n",
       "      <td>MG</td>\n",
       "      <td>NaN</td>\n",
       "      <td>NaN</td>\n",
       "      <td>NaN</td>\n",
       "      <td>4.964e+09</td>\n",
       "      <td>5.418e+09</td>\n",
       "      <td>0</td>\n",
       "      <td>0</td>\n",
       "      <td>73.2781</td>\n",
       "      <td>110005</td>\n",
       "    </tr>\n",
       "    <tr>\n",
       "      <th>1</th>\n",
       "      <td>East Bay Municipal Utilities District</td>\n",
       "      <td>CA0110005</td>\n",
       "      <td>2021-03-15</td>\n",
       "      <td>Alameda,Contra Costa</td>\n",
       "      <td>San Francisco Bay</td>\n",
       "      <td>3</td>\n",
       "      <td>1.4e+06</td>\n",
       "      <td>1.379e+06</td>\n",
       "      <td>Stage 0</td>\n",
       "      <td>MG</td>\n",
       "      <td>NaN</td>\n",
       "      <td>NaN</td>\n",
       "      <td>NaN</td>\n",
       "      <td>4.221e+09</td>\n",
       "      <td>4.928e+09</td>\n",
       "      <td>0</td>\n",
       "      <td>0</td>\n",
       "      <td>59.3274</td>\n",
       "      <td>110005</td>\n",
       "    </tr>\n",
       "    <tr>\n",
       "      <th>2</th>\n",
       "      <td>East Bay Municipal Utilities District</td>\n",
       "      <td>CA0110005</td>\n",
       "      <td>2021-02-15</td>\n",
       "      <td>Alameda,Contra Costa</td>\n",
       "      <td>San Francisco Bay</td>\n",
       "      <td>3</td>\n",
       "      <td>1.4e+06</td>\n",
       "      <td>1.379e+06</td>\n",
       "      <td>Stage 0</td>\n",
       "      <td>MG</td>\n",
       "      <td>NaN</td>\n",
       "      <td>NaN</td>\n",
       "      <td>NaN</td>\n",
       "      <td>3.549e+09</td>\n",
       "      <td>4.016e+09</td>\n",
       "      <td>0</td>\n",
       "      <td>0</td>\n",
       "      <td>55.2268</td>\n",
       "      <td>110005</td>\n",
       "    </tr>\n",
       "    <tr>\n",
       "      <th>3</th>\n",
       "      <td>East Bay Municipal Utilities District</td>\n",
       "      <td>CA0110005</td>\n",
       "      <td>2021-01-15</td>\n",
       "      <td>Alameda,Contra Costa</td>\n",
       "      <td>San Francisco Bay</td>\n",
       "      <td>3</td>\n",
       "      <td>1.4e+06</td>\n",
       "      <td>1.379e+06</td>\n",
       "      <td>Stage 0</td>\n",
       "      <td>MG</td>\n",
       "      <td>NaN</td>\n",
       "      <td>NaN</td>\n",
       "      <td>NaN</td>\n",
       "      <td>3.919e+09</td>\n",
       "      <td>4.099e+09</td>\n",
       "      <td>0</td>\n",
       "      <td>0</td>\n",
       "      <td>55.9857</td>\n",
       "      <td>110005</td>\n",
       "    </tr>\n",
       "    <tr>\n",
       "      <th>4</th>\n",
       "      <td>East Bay Municipal Utilities District</td>\n",
       "      <td>CA0110005</td>\n",
       "      <td>2020-12-15</td>\n",
       "      <td>Alameda,Contra Costa</td>\n",
       "      <td>San Francisco Bay</td>\n",
       "      <td>3</td>\n",
       "      <td>1.45e+06</td>\n",
       "      <td>1.379e+06</td>\n",
       "      <td>Stage 0</td>\n",
       "      <td>MG</td>\n",
       "      <td>4169.2</td>\n",
       "      <td>60</td>\n",
       "      <td>579</td>\n",
       "      <td>4.169e+09</td>\n",
       "      <td>4.772e+09</td>\n",
       "      <td>0</td>\n",
       "      <td>0</td>\n",
       "      <td>55.6485</td>\n",
       "      <td>110005</td>\n",
       "    </tr>\n",
       "  </tbody>\n",
       "</table>\n",
       "</div>"
      ],
      "text/plain": [
       "                           supplier_name public_water_system_id  \\\n",
       "0  East Bay Municipal Utilities District              CA0110005   \n",
       "1  East Bay Municipal Utilities District              CA0110005   \n",
       "2  East Bay Municipal Utilities District              CA0110005   \n",
       "3  East Bay Municipal Utilities District              CA0110005   \n",
       "4  East Bay Municipal Utilities District              CA0110005   \n",
       "\n",
       "  reporting_month                county  hydrologic_region climate_zone  \\\n",
       "0      2021-04-15  Alameda,Contra Costa  San Francisco Bay            3   \n",
       "1      2021-03-15  Alameda,Contra Costa  San Francisco Bay            3   \n",
       "2      2021-02-15  Alameda,Contra Costa  San Francisco Bay            3   \n",
       "3      2021-01-15  Alameda,Contra Costa  San Francisco Bay            3   \n",
       "4      2020-12-15  Alameda,Contra Costa  San Francisco Bay            3   \n",
       "\n",
       "  total_population_served reference_2014_population  \\\n",
       "0                 1.4e+06                 1.379e+06   \n",
       "1                 1.4e+06                 1.379e+06   \n",
       "2                 1.4e+06                 1.379e+06   \n",
       "3                 1.4e+06                 1.379e+06   \n",
       "4                1.45e+06                 1.379e+06   \n",
       "\n",
       "  water_shortage_contingency_stage_invoked water_production_units  \\\n",
       "0                                  Stage 0                     MG   \n",
       "1                                  Stage 0                     MG   \n",
       "2                                  Stage 0                     MG   \n",
       "3                                  Stage 0                     MG   \n",
       "4                                  Stage 0                     MG   \n",
       "\n",
       "  reported_final_total_potable_water_production final_percent_residential_use  \\\n",
       "0                                           NaN                           NaN   \n",
       "1                                           NaN                           NaN   \n",
       "2                                           NaN                           NaN   \n",
       "3                                           NaN                           NaN   \n",
       "4                                        4169.2                            60   \n",
       "\n",
       "  reported_final_commercial_industrial_and_institutional_water  \\\n",
       "0                                                NaN             \n",
       "1                                                NaN             \n",
       "2                                                NaN             \n",
       "3                                                NaN             \n",
       "4                                                579             \n",
       "\n",
       "  calculated_total_potable_water_production_gallons_ag_excluded  \\\n",
       "0                                          4.964e+09              \n",
       "1                                          4.221e+09              \n",
       "2                                          3.549e+09              \n",
       "3                                          3.919e+09              \n",
       "4                                          4.169e+09              \n",
       "\n",
       "  calculated_total_potable_water_production_gallons_2013_ag_excluded  \\\n",
       "0                                          5.418e+09                   \n",
       "1                                          4.928e+09                   \n",
       "2                                          4.016e+09                   \n",
       "3                                          4.099e+09                   \n",
       "4                                          4.772e+09                   \n",
       "\n",
       "  calculated_commercial_agricultural_water_gallons  \\\n",
       "0                                                0   \n",
       "1                                                0   \n",
       "2                                                0   \n",
       "3                                                0   \n",
       "4                                                0   \n",
       "\n",
       "  calculated_commercial_agricultural_water_gallons_2013 calculated_r_gpcd  \\\n",
       "0                                                  0              73.2781   \n",
       "1                                                  0              59.3274   \n",
       "2                                                  0              55.2268   \n",
       "3                                                  0              55.9857   \n",
       "4                                                  0              55.6485   \n",
       "\n",
       "   system_id  \n",
       "0     110005  \n",
       "1     110005  \n",
       "2     110005  \n",
       "3     110005  \n",
       "4     110005  "
      ]
     },
     "execution_count": 808,
     "metadata": {},
     "output_type": "execute_result"
    }
   ],
   "source": [
    "water.head()"
   ]
  },
  {
   "cell_type": "code",
   "execution_count": 809,
   "metadata": {},
   "outputs": [
    {
     "data": {
      "text/plain": [
       "supplier_name                                                                 object\n",
       "public_water_system_id                                                        object\n",
       "reporting_month                                                       datetime64[ns]\n",
       "county                                                                        object\n",
       "hydrologic_region                                                             object\n",
       "climate_zone                                                                  object\n",
       "total_population_served                                                       object\n",
       "reference_2014_population                                                     object\n",
       "water_shortage_contingency_stage_invoked                                      object\n",
       "water_production_units                                                        object\n",
       "reported_final_total_potable_water_production                                 object\n",
       "final_percent_residential_use                                                 object\n",
       "reported_final_commercial_industrial_and_institutional_water                  object\n",
       "calculated_total_potable_water_production_gallons_ag_excluded                 object\n",
       "calculated_total_potable_water_production_gallons_2013_ag_excluded            object\n",
       "calculated_commercial_agricultural_water_gallons                              object\n",
       "calculated_commercial_agricultural_water_gallons_2013                         object\n",
       "calculated_r_gpcd                                                             object\n",
       "system_id                                                                      int64\n",
       "dtype: object"
      ]
     },
     "execution_count": 809,
     "metadata": {},
     "output_type": "execute_result"
    }
   ],
   "source": [
    "water.dtypes"
   ]
  },
  {
   "cell_type": "code",
   "execution_count": null,
   "metadata": {},
   "outputs": [],
   "source": []
  },
  {
   "cell_type": "code",
   "execution_count": 810,
   "metadata": {},
   "outputs": [],
   "source": [
    "counties = {county: idx for idx, county in enumerate(water['county'].unique())}\n",
    "hydro_regions = {hydro: idx for idx, hydro in enumerate(water['hydrologic_region'].unique())}\n",
    "water['county_enc'] = water['county'].map(counties)\n",
    "water['hydro_region_enc'] = water['hydrologic_region'].map(hydro_regions)"
   ]
  },
  {
   "cell_type": "code",
   "execution_count": 811,
   "metadata": {},
   "outputs": [],
   "source": [
    "counties = {county: idx for idx, county in enumerate(water['county'].unique())}\n",
    "hydro_regions = {hydro: idx for idx, hydro in enumerate(water['hydrologic_region'].unique())}\n",
    "water['county_enc'] = water['county'].map(counties)\n",
    "water['hydro_region_enc'] = water['hydrologic_region'].map(hydro_regions)"
   ]
  },
  {
   "cell_type": "code",
   "execution_count": 812,
   "metadata": {
    "scrolled": true
   },
   "outputs": [
    {
     "data": {
      "text/plain": [
       "0        1400000\n",
       "1        1400000\n",
       "2        1400000\n",
       "3        1400000\n",
       "4        1450000\n",
       "          ...   \n",
       "32420      11712\n",
       "32421      10312\n",
       "32422      10312\n",
       "32423      10312\n",
       "32424      10312\n",
       "Name: total_population_served, Length: 32425, dtype: int64"
      ]
     },
     "execution_count": 812,
     "metadata": {},
     "output_type": "execute_result"
    }
   ],
   "source": [
    "water['total_population_served'].astype(int)"
   ]
  },
  {
   "cell_type": "code",
   "execution_count": 813,
   "metadata": {},
   "outputs": [
    {
     "data": {
      "text/html": [
       "<div>\n",
       "<style scoped>\n",
       "    .dataframe tbody tr th:only-of-type {\n",
       "        vertical-align: middle;\n",
       "    }\n",
       "\n",
       "    .dataframe tbody tr th {\n",
       "        vertical-align: top;\n",
       "    }\n",
       "\n",
       "    .dataframe thead th {\n",
       "        text-align: right;\n",
       "    }\n",
       "</style>\n",
       "<table border=\"1\" class=\"dataframe\">\n",
       "  <thead>\n",
       "    <tr style=\"text-align: right;\">\n",
       "      <th></th>\n",
       "      <th>supplier_name</th>\n",
       "      <th>public_water_system_id</th>\n",
       "      <th>reporting_month</th>\n",
       "      <th>county</th>\n",
       "      <th>hydrologic_region</th>\n",
       "      <th>climate_zone</th>\n",
       "      <th>total_population_served</th>\n",
       "      <th>reference_2014_population</th>\n",
       "      <th>water_shortage_contingency_stage_invoked</th>\n",
       "      <th>water_production_units</th>\n",
       "      <th>...</th>\n",
       "      <th>final_percent_residential_use</th>\n",
       "      <th>reported_final_commercial_industrial_and_institutional_water</th>\n",
       "      <th>calculated_total_potable_water_production_gallons_ag_excluded</th>\n",
       "      <th>calculated_total_potable_water_production_gallons_2013_ag_excluded</th>\n",
       "      <th>calculated_commercial_agricultural_water_gallons</th>\n",
       "      <th>calculated_commercial_agricultural_water_gallons_2013</th>\n",
       "      <th>calculated_r_gpcd</th>\n",
       "      <th>system_id</th>\n",
       "      <th>county_enc</th>\n",
       "      <th>hydro_region_enc</th>\n",
       "    </tr>\n",
       "  </thead>\n",
       "  <tbody>\n",
       "    <tr>\n",
       "      <th>0</th>\n",
       "      <td>East Bay Municipal Utilities District</td>\n",
       "      <td>CA0110005</td>\n",
       "      <td>2021-04-15</td>\n",
       "      <td>Alameda,Contra Costa</td>\n",
       "      <td>San Francisco Bay</td>\n",
       "      <td>3</td>\n",
       "      <td>1.4e+06</td>\n",
       "      <td>1.379e+06</td>\n",
       "      <td>Stage 0</td>\n",
       "      <td>MG</td>\n",
       "      <td>...</td>\n",
       "      <td>NaN</td>\n",
       "      <td>NaN</td>\n",
       "      <td>4.964e+09</td>\n",
       "      <td>5.418e+09</td>\n",
       "      <td>0</td>\n",
       "      <td>0</td>\n",
       "      <td>73.2781</td>\n",
       "      <td>110005</td>\n",
       "      <td>0</td>\n",
       "      <td>0</td>\n",
       "    </tr>\n",
       "    <tr>\n",
       "      <th>1</th>\n",
       "      <td>East Bay Municipal Utilities District</td>\n",
       "      <td>CA0110005</td>\n",
       "      <td>2021-03-15</td>\n",
       "      <td>Alameda,Contra Costa</td>\n",
       "      <td>San Francisco Bay</td>\n",
       "      <td>3</td>\n",
       "      <td>1.4e+06</td>\n",
       "      <td>1.379e+06</td>\n",
       "      <td>Stage 0</td>\n",
       "      <td>MG</td>\n",
       "      <td>...</td>\n",
       "      <td>NaN</td>\n",
       "      <td>NaN</td>\n",
       "      <td>4.221e+09</td>\n",
       "      <td>4.928e+09</td>\n",
       "      <td>0</td>\n",
       "      <td>0</td>\n",
       "      <td>59.3274</td>\n",
       "      <td>110005</td>\n",
       "      <td>0</td>\n",
       "      <td>0</td>\n",
       "    </tr>\n",
       "    <tr>\n",
       "      <th>2</th>\n",
       "      <td>East Bay Municipal Utilities District</td>\n",
       "      <td>CA0110005</td>\n",
       "      <td>2021-02-15</td>\n",
       "      <td>Alameda,Contra Costa</td>\n",
       "      <td>San Francisco Bay</td>\n",
       "      <td>3</td>\n",
       "      <td>1.4e+06</td>\n",
       "      <td>1.379e+06</td>\n",
       "      <td>Stage 0</td>\n",
       "      <td>MG</td>\n",
       "      <td>...</td>\n",
       "      <td>NaN</td>\n",
       "      <td>NaN</td>\n",
       "      <td>3.549e+09</td>\n",
       "      <td>4.016e+09</td>\n",
       "      <td>0</td>\n",
       "      <td>0</td>\n",
       "      <td>55.2268</td>\n",
       "      <td>110005</td>\n",
       "      <td>0</td>\n",
       "      <td>0</td>\n",
       "    </tr>\n",
       "    <tr>\n",
       "      <th>3</th>\n",
       "      <td>East Bay Municipal Utilities District</td>\n",
       "      <td>CA0110005</td>\n",
       "      <td>2021-01-15</td>\n",
       "      <td>Alameda,Contra Costa</td>\n",
       "      <td>San Francisco Bay</td>\n",
       "      <td>3</td>\n",
       "      <td>1.4e+06</td>\n",
       "      <td>1.379e+06</td>\n",
       "      <td>Stage 0</td>\n",
       "      <td>MG</td>\n",
       "      <td>...</td>\n",
       "      <td>NaN</td>\n",
       "      <td>NaN</td>\n",
       "      <td>3.919e+09</td>\n",
       "      <td>4.099e+09</td>\n",
       "      <td>0</td>\n",
       "      <td>0</td>\n",
       "      <td>55.9857</td>\n",
       "      <td>110005</td>\n",
       "      <td>0</td>\n",
       "      <td>0</td>\n",
       "    </tr>\n",
       "    <tr>\n",
       "      <th>4</th>\n",
       "      <td>East Bay Municipal Utilities District</td>\n",
       "      <td>CA0110005</td>\n",
       "      <td>2020-12-15</td>\n",
       "      <td>Alameda,Contra Costa</td>\n",
       "      <td>San Francisco Bay</td>\n",
       "      <td>3</td>\n",
       "      <td>1.45e+06</td>\n",
       "      <td>1.379e+06</td>\n",
       "      <td>Stage 0</td>\n",
       "      <td>MG</td>\n",
       "      <td>...</td>\n",
       "      <td>60</td>\n",
       "      <td>579</td>\n",
       "      <td>4.169e+09</td>\n",
       "      <td>4.772e+09</td>\n",
       "      <td>0</td>\n",
       "      <td>0</td>\n",
       "      <td>55.6485</td>\n",
       "      <td>110005</td>\n",
       "      <td>0</td>\n",
       "      <td>0</td>\n",
       "    </tr>\n",
       "  </tbody>\n",
       "</table>\n",
       "<p>5 rows × 21 columns</p>\n",
       "</div>"
      ],
      "text/plain": [
       "                           supplier_name public_water_system_id  \\\n",
       "0  East Bay Municipal Utilities District              CA0110005   \n",
       "1  East Bay Municipal Utilities District              CA0110005   \n",
       "2  East Bay Municipal Utilities District              CA0110005   \n",
       "3  East Bay Municipal Utilities District              CA0110005   \n",
       "4  East Bay Municipal Utilities District              CA0110005   \n",
       "\n",
       "  reporting_month                county  hydrologic_region climate_zone  \\\n",
       "0      2021-04-15  Alameda,Contra Costa  San Francisco Bay            3   \n",
       "1      2021-03-15  Alameda,Contra Costa  San Francisco Bay            3   \n",
       "2      2021-02-15  Alameda,Contra Costa  San Francisco Bay            3   \n",
       "3      2021-01-15  Alameda,Contra Costa  San Francisco Bay            3   \n",
       "4      2020-12-15  Alameda,Contra Costa  San Francisco Bay            3   \n",
       "\n",
       "  total_population_served reference_2014_population  \\\n",
       "0                 1.4e+06                 1.379e+06   \n",
       "1                 1.4e+06                 1.379e+06   \n",
       "2                 1.4e+06                 1.379e+06   \n",
       "3                 1.4e+06                 1.379e+06   \n",
       "4                1.45e+06                 1.379e+06   \n",
       "\n",
       "  water_shortage_contingency_stage_invoked water_production_units  ...  \\\n",
       "0                                  Stage 0                     MG  ...   \n",
       "1                                  Stage 0                     MG  ...   \n",
       "2                                  Stage 0                     MG  ...   \n",
       "3                                  Stage 0                     MG  ...   \n",
       "4                                  Stage 0                     MG  ...   \n",
       "\n",
       "  final_percent_residential_use  \\\n",
       "0                           NaN   \n",
       "1                           NaN   \n",
       "2                           NaN   \n",
       "3                           NaN   \n",
       "4                            60   \n",
       "\n",
       "  reported_final_commercial_industrial_and_institutional_water  \\\n",
       "0                                                NaN             \n",
       "1                                                NaN             \n",
       "2                                                NaN             \n",
       "3                                                NaN             \n",
       "4                                                579             \n",
       "\n",
       "  calculated_total_potable_water_production_gallons_ag_excluded  \\\n",
       "0                                          4.964e+09              \n",
       "1                                          4.221e+09              \n",
       "2                                          3.549e+09              \n",
       "3                                          3.919e+09              \n",
       "4                                          4.169e+09              \n",
       "\n",
       "  calculated_total_potable_water_production_gallons_2013_ag_excluded  \\\n",
       "0                                          5.418e+09                   \n",
       "1                                          4.928e+09                   \n",
       "2                                          4.016e+09                   \n",
       "3                                          4.099e+09                   \n",
       "4                                          4.772e+09                   \n",
       "\n",
       "  calculated_commercial_agricultural_water_gallons  \\\n",
       "0                                                0   \n",
       "1                                                0   \n",
       "2                                                0   \n",
       "3                                                0   \n",
       "4                                                0   \n",
       "\n",
       "  calculated_commercial_agricultural_water_gallons_2013 calculated_r_gpcd  \\\n",
       "0                                                  0              73.2781   \n",
       "1                                                  0              59.3274   \n",
       "2                                                  0              55.2268   \n",
       "3                                                  0              55.9857   \n",
       "4                                                  0              55.6485   \n",
       "\n",
       "  system_id  county_enc  hydro_region_enc  \n",
       "0    110005           0                 0  \n",
       "1    110005           0                 0  \n",
       "2    110005           0                 0  \n",
       "3    110005           0                 0  \n",
       "4    110005           0                 0  \n",
       "\n",
       "[5 rows x 21 columns]"
      ]
     },
     "execution_count": 813,
     "metadata": {},
     "output_type": "execute_result"
    }
   ],
   "source": [
    "water.head()"
   ]
  },
  {
   "cell_type": "code",
   "execution_count": 814,
   "metadata": {},
   "outputs": [
    {
     "data": {
      "text/plain": [
       "0            NaN\n",
       "1            NaN\n",
       "2            NaN\n",
       "3            NaN\n",
       "4         4169.2\n",
       "          ...   \n",
       "32420      180.7\n",
       "32421    77407.5\n",
       "32422    45997.3\n",
       "32423    39363.6\n",
       "32424    44901.7\n",
       "Name: reported_final_total_potable_water_production, Length: 32425, dtype: object"
      ]
     },
     "execution_count": 814,
     "metadata": {},
     "output_type": "execute_result"
    }
   ],
   "source": [
    "water.reported_final_total_potable_water_production"
   ]
  },
  {
   "cell_type": "code",
   "execution_count": 815,
   "metadata": {},
   "outputs": [
    {
     "data": {
      "text/plain": [
       "Index(['supplier_name', 'public_water_system_id', 'reporting_month', 'county',\n",
       "       'hydrologic_region', 'climate_zone', 'total_population_served',\n",
       "       'reference_2014_population', 'water_shortage_contingency_stage_invoked',\n",
       "       'water_production_units',\n",
       "       'reported_final_total_potable_water_production',\n",
       "       'final_percent_residential_use',\n",
       "       'reported_final_commercial_industrial_and_institutional_water',\n",
       "       'calculated_total_potable_water_production_gallons_ag_excluded',\n",
       "       'calculated_total_potable_water_production_gallons_2013_ag_excluded',\n",
       "       'calculated_commercial_agricultural_water_gallons',\n",
       "       'calculated_commercial_agricultural_water_gallons_2013',\n",
       "       'calculated_r_gpcd', 'system_id', 'county_enc', 'hydro_region_enc'],\n",
       "      dtype='object')"
      ]
     },
     "execution_count": 815,
     "metadata": {},
     "output_type": "execute_result"
    }
   ],
   "source": [
    "water.columns"
   ]
  },
  {
   "cell_type": "code",
   "execution_count": 816,
   "metadata": {},
   "outputs": [
    {
     "data": {
      "text/plain": [
       "climate_zone                                                          object\n",
       "total_population_served                                               object\n",
       "reference_2014_population                                             object\n",
       "reported_final_total_potable_water_production                         object\n",
       "final_percent_residential_use                                         object\n",
       "reported_final_commercial_industrial_and_institutional_water          object\n",
       "calculated_total_potable_water_production_gallons_ag_excluded         object\n",
       "calculated_total_potable_water_production_gallons_2013_ag_excluded    object\n",
       "calculated_commercial_agricultural_water_gallons                      object\n",
       "calculated_commercial_agricultural_water_gallons_2013                 object\n",
       "calculated_r_gpcd                                                     object\n",
       "dtype: object"
      ]
     },
     "execution_count": 816,
     "metadata": {},
     "output_type": "execute_result"
    }
   ],
   "source": [
    "convert_to_int = ['climate_zone', 'total_population_served',\n",
    "       'reference_2014_population', 'reported_final_total_potable_water_production',\n",
    "       'final_percent_residential_use', 'reported_final_commercial_industrial_and_institutional_water',\n",
    "       'calculated_total_potable_water_production_gallons_ag_excluded',\n",
    "       'calculated_total_potable_water_production_gallons_2013_ag_excluded',\n",
    "       'calculated_commercial_agricultural_water_gallons',\n",
    "       'calculated_commercial_agricultural_water_gallons_2013',\n",
    "       'calculated_r_gpcd']\n",
    "water[convert_to_int].dtypes"
   ]
  },
  {
   "cell_type": "code",
   "execution_count": 817,
   "metadata": {},
   "outputs": [
    {
     "data": {
      "text/plain": [
       "0                NaN\n",
       "1                NaN\n",
       "2                NaN\n",
       "3                NaN\n",
       "4         -4.772e+09\n",
       "            ...     \n",
       "32420            NaN\n",
       "32421   -5.65999e+07\n",
       "32422   -3.91406e+07\n",
       "32423   -2.89034e+07\n",
       "32424   -3.30182e+07\n",
       "Length: 32425, dtype: object"
      ]
     },
     "execution_count": 817,
     "metadata": {},
     "output_type": "execute_result"
    }
   ],
   "source": [
    "water[convert_to_int].isnull().sum()\n",
    "water['final_percent_residential_use'] - water['calculated_total_potable_water_production_gallons_2013_ag_excluded']"
   ]
  },
  {
   "cell_type": "code",
   "execution_count": 818,
   "metadata": {
    "scrolled": true
   },
   "outputs": [
    {
     "data": {
      "text/plain": [
       "climate_zone                                                             0\n",
       "total_population_served                                                  0\n",
       "reference_2014_population                                                1\n",
       "reported_final_total_potable_water_production                          423\n",
       "final_percent_residential_use                                          444\n",
       "reported_final_commercial_industrial_and_institutional_water          7013\n",
       "calculated_total_potable_water_production_gallons_ag_excluded            0\n",
       "calculated_total_potable_water_production_gallons_2013_ag_excluded       1\n",
       "calculated_commercial_agricultural_water_gallons                         0\n",
       "calculated_commercial_agricultural_water_gallons_2013                    5\n",
       "calculated_r_gpcd                                                        0\n",
       "dtype: int64"
      ]
     },
     "execution_count": 818,
     "metadata": {},
     "output_type": "execute_result"
    }
   ],
   "source": [
    "for i in convert_to_int:\n",
    "    # coerce errors as per https://stackoverflow.com/questions/47333227/pandas-valueerror-cannot-convert-float-nan-to-integer\n",
    "    water[i] = pd.to_numeric(water[i], errors='coerce')\n",
    "water[convert_to_int].isnull().sum()"
   ]
  },
  {
   "cell_type": "code",
   "execution_count": 819,
   "metadata": {},
   "outputs": [
    {
     "data": {
      "text/plain": [
       "climate_zone                                                          0\n",
       "total_population_served                                               0\n",
       "reference_2014_population                                             0\n",
       "reported_final_total_potable_water_production                         0\n",
       "final_percent_residential_use                                         0\n",
       "reported_final_commercial_industrial_and_institutional_water          0\n",
       "calculated_total_potable_water_production_gallons_ag_excluded         0\n",
       "calculated_total_potable_water_production_gallons_2013_ag_excluded    0\n",
       "calculated_commercial_agricultural_water_gallons                      0\n",
       "calculated_commercial_agricultural_water_gallons_2013                 0\n",
       "calculated_r_gpcd                                                     0\n",
       "dtype: int64"
      ]
     },
     "execution_count": 819,
     "metadata": {},
     "output_type": "execute_result"
    }
   ],
   "source": [
    "# mean encoding null values \n",
    "for i in convert_to_int:\n",
    "    water[i] = water[i].fillna(water[i].mean())\n",
    "water[convert_to_int].isnull().sum()"
   ]
  },
  {
   "cell_type": "code",
   "execution_count": 820,
   "metadata": {},
   "outputs": [
    {
     "data": {
      "text/html": [
       "<div>\n",
       "<style scoped>\n",
       "    .dataframe tbody tr th:only-of-type {\n",
       "        vertical-align: middle;\n",
       "    }\n",
       "\n",
       "    .dataframe tbody tr th {\n",
       "        vertical-align: top;\n",
       "    }\n",
       "\n",
       "    .dataframe thead th {\n",
       "        text-align: right;\n",
       "    }\n",
       "</style>\n",
       "<table border=\"1\" class=\"dataframe\">\n",
       "  <thead>\n",
       "    <tr style=\"text-align: right;\">\n",
       "      <th></th>\n",
       "      <th>count</th>\n",
       "      <th>mean</th>\n",
       "      <th>std</th>\n",
       "      <th>min</th>\n",
       "      <th>25%</th>\n",
       "      <th>50%</th>\n",
       "      <th>75%</th>\n",
       "      <th>max</th>\n",
       "    </tr>\n",
       "  </thead>\n",
       "  <tbody>\n",
       "    <tr>\n",
       "      <th>climate_zone</th>\n",
       "      <td>32425.0</td>\n",
       "      <td>9.059306e+00</td>\n",
       "      <td>3.796250e+00</td>\n",
       "      <td>1.000000e+00</td>\n",
       "      <td>6.000000e+00</td>\n",
       "      <td>9.000000e+00</td>\n",
       "      <td>1.200000e+01</td>\n",
       "      <td>1.600000e+01</td>\n",
       "    </tr>\n",
       "    <tr>\n",
       "      <th>total_population_served</th>\n",
       "      <td>32425.0</td>\n",
       "      <td>9.137515e+04</td>\n",
       "      <td>2.431812e+05</td>\n",
       "      <td>1.000000e+02</td>\n",
       "      <td>2.097000e+04</td>\n",
       "      <td>4.418900e+04</td>\n",
       "      <td>9.332200e+04</td>\n",
       "      <td>4.133849e+06</td>\n",
       "    </tr>\n",
       "    <tr>\n",
       "      <th>reference_2014_population</th>\n",
       "      <td>32425.0</td>\n",
       "      <td>8.948902e+04</td>\n",
       "      <td>2.371816e+05</td>\n",
       "      <td>1.120000e+02</td>\n",
       "      <td>2.008000e+04</td>\n",
       "      <td>4.376700e+04</td>\n",
       "      <td>9.275600e+04</td>\n",
       "      <td>3.960940e+06</td>\n",
       "    </tr>\n",
       "    <tr>\n",
       "      <th>reported_final_total_potable_water_production</th>\n",
       "      <td>32425.0</td>\n",
       "      <td>2.877158e+07</td>\n",
       "      <td>1.989786e+08</td>\n",
       "      <td>4.030000e+00</td>\n",
       "      <td>2.350000e+02</td>\n",
       "      <td>7.340240e+02</td>\n",
       "      <td>2.669800e+03</td>\n",
       "      <td>5.252463e+09</td>\n",
       "    </tr>\n",
       "    <tr>\n",
       "      <th>final_percent_residential_use</th>\n",
       "      <td>32425.0</td>\n",
       "      <td>6.973491e+01</td>\n",
       "      <td>1.498773e+01</td>\n",
       "      <td>5.000000e-02</td>\n",
       "      <td>6.160000e+01</td>\n",
       "      <td>7.007000e+01</td>\n",
       "      <td>8.000000e+01</td>\n",
       "      <td>1.210000e+02</td>\n",
       "    </tr>\n",
       "    <tr>\n",
       "      <th>reported_final_commercial_industrial_and_institutional_water</th>\n",
       "      <td>32425.0</td>\n",
       "      <td>6.977072e+06</td>\n",
       "      <td>4.889642e+07</td>\n",
       "      <td>0.000000e+00</td>\n",
       "      <td>6.398000e+01</td>\n",
       "      <td>3.100000e+02</td>\n",
       "      <td>6.977072e+06</td>\n",
       "      <td>1.401330e+09</td>\n",
       "    </tr>\n",
       "    <tr>\n",
       "      <th>calculated_total_potable_water_production_gallons_ag_excluded</th>\n",
       "      <td>32425.0</td>\n",
       "      <td>3.722133e+08</td>\n",
       "      <td>8.484037e+08</td>\n",
       "      <td>4.000000e+06</td>\n",
       "      <td>8.178871e+07</td>\n",
       "      <td>1.805217e+08</td>\n",
       "      <td>3.906959e+08</td>\n",
       "      <td>1.658128e+10</td>\n",
       "    </tr>\n",
       "    <tr>\n",
       "      <th>calculated_total_potable_water_production_gallons_2013_ag_excluded</th>\n",
       "      <td>32425.0</td>\n",
       "      <td>4.438801e+08</td>\n",
       "      <td>9.875968e+08</td>\n",
       "      <td>7.171076e+06</td>\n",
       "      <td>1.002400e+08</td>\n",
       "      <td>2.190000e+08</td>\n",
       "      <td>4.734621e+08</td>\n",
       "      <td>1.795669e+10</td>\n",
       "    </tr>\n",
       "    <tr>\n",
       "      <th>calculated_commercial_agricultural_water_gallons</th>\n",
       "      <td>32425.0</td>\n",
       "      <td>4.070411e+06</td>\n",
       "      <td>4.054954e+07</td>\n",
       "      <td>0.000000e+00</td>\n",
       "      <td>0.000000e+00</td>\n",
       "      <td>0.000000e+00</td>\n",
       "      <td>0.000000e+00</td>\n",
       "      <td>1.071725e+09</td>\n",
       "    </tr>\n",
       "    <tr>\n",
       "      <th>calculated_commercial_agricultural_water_gallons_2013</th>\n",
       "      <td>32425.0</td>\n",
       "      <td>5.588803e+06</td>\n",
       "      <td>5.178750e+07</td>\n",
       "      <td>0.000000e+00</td>\n",
       "      <td>0.000000e+00</td>\n",
       "      <td>0.000000e+00</td>\n",
       "      <td>0.000000e+00</td>\n",
       "      <td>1.023173e+09</td>\n",
       "    </tr>\n",
       "    <tr>\n",
       "      <th>calculated_r_gpcd</th>\n",
       "      <td>32425.0</td>\n",
       "      <td>1.008050e+02</td>\n",
       "      <td>5.550856e+01</td>\n",
       "      <td>1.140040e+01</td>\n",
       "      <td>6.440000e+01</td>\n",
       "      <td>8.552050e+01</td>\n",
       "      <td>1.207190e+02</td>\n",
       "      <td>6.607170e+02</td>\n",
       "    </tr>\n",
       "  </tbody>\n",
       "</table>\n",
       "</div>"
      ],
      "text/plain": [
       "                                                      count          mean  \\\n",
       "climate_zone                                        32425.0  9.059306e+00   \n",
       "total_population_served                             32425.0  9.137515e+04   \n",
       "reference_2014_population                           32425.0  8.948902e+04   \n",
       "reported_final_total_potable_water_production       32425.0  2.877158e+07   \n",
       "final_percent_residential_use                       32425.0  6.973491e+01   \n",
       "reported_final_commercial_industrial_and_instit...  32425.0  6.977072e+06   \n",
       "calculated_total_potable_water_production_gallo...  32425.0  3.722133e+08   \n",
       "calculated_total_potable_water_production_gallo...  32425.0  4.438801e+08   \n",
       "calculated_commercial_agricultural_water_gallons    32425.0  4.070411e+06   \n",
       "calculated_commercial_agricultural_water_gallon...  32425.0  5.588803e+06   \n",
       "calculated_r_gpcd                                   32425.0  1.008050e+02   \n",
       "\n",
       "                                                             std  \\\n",
       "climate_zone                                        3.796250e+00   \n",
       "total_population_served                             2.431812e+05   \n",
       "reference_2014_population                           2.371816e+05   \n",
       "reported_final_total_potable_water_production       1.989786e+08   \n",
       "final_percent_residential_use                       1.498773e+01   \n",
       "reported_final_commercial_industrial_and_instit...  4.889642e+07   \n",
       "calculated_total_potable_water_production_gallo...  8.484037e+08   \n",
       "calculated_total_potable_water_production_gallo...  9.875968e+08   \n",
       "calculated_commercial_agricultural_water_gallons    4.054954e+07   \n",
       "calculated_commercial_agricultural_water_gallon...  5.178750e+07   \n",
       "calculated_r_gpcd                                   5.550856e+01   \n",
       "\n",
       "                                                             min  \\\n",
       "climate_zone                                        1.000000e+00   \n",
       "total_population_served                             1.000000e+02   \n",
       "reference_2014_population                           1.120000e+02   \n",
       "reported_final_total_potable_water_production       4.030000e+00   \n",
       "final_percent_residential_use                       5.000000e-02   \n",
       "reported_final_commercial_industrial_and_instit...  0.000000e+00   \n",
       "calculated_total_potable_water_production_gallo...  4.000000e+06   \n",
       "calculated_total_potable_water_production_gallo...  7.171076e+06   \n",
       "calculated_commercial_agricultural_water_gallons    0.000000e+00   \n",
       "calculated_commercial_agricultural_water_gallon...  0.000000e+00   \n",
       "calculated_r_gpcd                                   1.140040e+01   \n",
       "\n",
       "                                                             25%  \\\n",
       "climate_zone                                        6.000000e+00   \n",
       "total_population_served                             2.097000e+04   \n",
       "reference_2014_population                           2.008000e+04   \n",
       "reported_final_total_potable_water_production       2.350000e+02   \n",
       "final_percent_residential_use                       6.160000e+01   \n",
       "reported_final_commercial_industrial_and_instit...  6.398000e+01   \n",
       "calculated_total_potable_water_production_gallo...  8.178871e+07   \n",
       "calculated_total_potable_water_production_gallo...  1.002400e+08   \n",
       "calculated_commercial_agricultural_water_gallons    0.000000e+00   \n",
       "calculated_commercial_agricultural_water_gallon...  0.000000e+00   \n",
       "calculated_r_gpcd                                   6.440000e+01   \n",
       "\n",
       "                                                             50%  \\\n",
       "climate_zone                                        9.000000e+00   \n",
       "total_population_served                             4.418900e+04   \n",
       "reference_2014_population                           4.376700e+04   \n",
       "reported_final_total_potable_water_production       7.340240e+02   \n",
       "final_percent_residential_use                       7.007000e+01   \n",
       "reported_final_commercial_industrial_and_instit...  3.100000e+02   \n",
       "calculated_total_potable_water_production_gallo...  1.805217e+08   \n",
       "calculated_total_potable_water_production_gallo...  2.190000e+08   \n",
       "calculated_commercial_agricultural_water_gallons    0.000000e+00   \n",
       "calculated_commercial_agricultural_water_gallon...  0.000000e+00   \n",
       "calculated_r_gpcd                                   8.552050e+01   \n",
       "\n",
       "                                                             75%           max  \n",
       "climate_zone                                        1.200000e+01  1.600000e+01  \n",
       "total_population_served                             9.332200e+04  4.133849e+06  \n",
       "reference_2014_population                           9.275600e+04  3.960940e+06  \n",
       "reported_final_total_potable_water_production       2.669800e+03  5.252463e+09  \n",
       "final_percent_residential_use                       8.000000e+01  1.210000e+02  \n",
       "reported_final_commercial_industrial_and_instit...  6.977072e+06  1.401330e+09  \n",
       "calculated_total_potable_water_production_gallo...  3.906959e+08  1.658128e+10  \n",
       "calculated_total_potable_water_production_gallo...  4.734621e+08  1.795669e+10  \n",
       "calculated_commercial_agricultural_water_gallons    0.000000e+00  1.071725e+09  \n",
       "calculated_commercial_agricultural_water_gallon...  0.000000e+00  1.023173e+09  \n",
       "calculated_r_gpcd                                   1.207190e+02  6.607170e+02  "
      ]
     },
     "execution_count": 820,
     "metadata": {},
     "output_type": "execute_result"
    }
   ],
   "source": [
    "water[convert_to_int].describe().T"
   ]
  },
  {
   "cell_type": "code",
   "execution_count": 821,
   "metadata": {
    "scrolled": true
   },
   "outputs": [
    {
     "data": {
      "text/plain": [
       "supplier_name                                                                 object\n",
       "public_water_system_id                                                        object\n",
       "reporting_month                                                       datetime64[ns]\n",
       "county                                                                        object\n",
       "hydrologic_region                                                             object\n",
       "climate_zone                                                                   int64\n",
       "total_population_served                                                      float64\n",
       "reference_2014_population                                                    float64\n",
       "water_shortage_contingency_stage_invoked                                      object\n",
       "water_production_units                                                        object\n",
       "reported_final_total_potable_water_production                                float64\n",
       "final_percent_residential_use                                                float64\n",
       "reported_final_commercial_industrial_and_institutional_water                 float64\n",
       "calculated_total_potable_water_production_gallons_ag_excluded                float64\n",
       "calculated_total_potable_water_production_gallons_2013_ag_excluded           float64\n",
       "calculated_commercial_agricultural_water_gallons                             float64\n",
       "calculated_commercial_agricultural_water_gallons_2013                        float64\n",
       "calculated_r_gpcd                                                            float64\n",
       "system_id                                                                      int64\n",
       "county_enc                                                                     int64\n",
       "hydro_region_enc                                                               int64\n",
       "dtype: object"
      ]
     },
     "execution_count": 821,
     "metadata": {},
     "output_type": "execute_result"
    }
   ],
   "source": [
    "water.dtypes"
   ]
  },
  {
   "cell_type": "code",
   "execution_count": 822,
   "metadata": {},
   "outputs": [
    {
     "data": {
      "text/plain": [
       "(32425, 21)"
      ]
     },
     "execution_count": 822,
     "metadata": {},
     "output_type": "execute_result"
    }
   ],
   "source": [
    "water.shape"
   ]
  },
  {
   "cell_type": "markdown",
   "metadata": {},
   "source": [
    "---\n",
    "## Dimensional analyisis \n",
    "---\n",
    "Most of the columns are in gallons but some of them use different units"
   ]
  },
  {
   "cell_type": "code",
   "execution_count": 823,
   "metadata": {
    "scrolled": false
   },
   "outputs": [
    {
     "data": {
      "text/plain": [
       "AF     19253\n",
       "MG      7200\n",
       "G       3750\n",
       "CCF     2222\n",
       "Name: water_production_units, dtype: int64"
      ]
     },
     "execution_count": 823,
     "metadata": {},
     "output_type": "execute_result"
    }
   ],
   "source": [
    "water.water_production_units.value_counts()\n",
    "# Interpreting the following using "
   ]
  },
  {
   "cell_type": "markdown",
   "metadata": {},
   "source": [
    "[Water Measurement Units and Conversion Factors](https://extension.okstate.edu/fact-sheets/water-measurement-units-and-conversion-factors.html)\n",
    "\n",
    "The Data Dictionary only states these are units for reported production quantities \n",
    "\n",
    "The four units of measurement are:\n",
    "- CCF - one hundred cubic feet of water (748.052 gallons)\n",
    "- AF -  The volume of water that would cover one acre one foot deep (325,851 gallons)\n",
    "    - Also this could just maybe mean 'Water AF'\n",
    "- G - Gallons (... 1 gallon?)\n",
    "- MG - Mega-Gallons (1,000,000 gallons)"
   ]
  },
  {
   "cell_type": "code",
   "execution_count": 824,
   "metadata": {},
   "outputs": [],
   "source": [
    "# test_category = 'reported_final_commercial_industrial_and_institutional_water'\n",
    "test_category = 'reported_final_total_potable_water_production'\n",
    "\n",
    "g_mean = water[water['water_production_units'] == 'G'][test_category].mean()\n",
    "mg_mean = water[water['water_production_units'] == 'MG'][test_category].mean()\n",
    "af_mean = water[water['water_production_units'] == 'AF'][test_category].mean()\n",
    "ccf_mean = water[water['water_production_units'] == 'CCF'][test_category].mean()"
   ]
  },
  {
   "cell_type": "code",
   "execution_count": 825,
   "metadata": {},
   "outputs": [],
   "source": [
    "# test_category = 'reported_final_commercial_industrial_and_institutional_water'\n",
    "test_category = 'reported_final_total_potable_water_production'\n",
    "\n",
    "g_median = water[water['water_production_units'] == 'G'][test_category].median()\n",
    "mg_median = water[water['water_production_units'] == 'MG'][test_category].median()\n",
    "af_median = water[water['water_production_units'] == 'AF'][test_category].median()\n",
    "ccf_median = water[water['water_production_units'] == 'CCF'][test_category].median()"
   ]
  },
  {
   "cell_type": "markdown",
   "metadata": {},
   "source": [
    "Looking at mean and median values to verify that conversion units are within the expected range"
   ]
  },
  {
   "cell_type": "code",
   "execution_count": 826,
   "metadata": {},
   "outputs": [
    {
     "name": "stdout",
     "output_type": "stream",
     "text": [
      "Mean Values:\n",
      "------------\n",
      "G 245640644.60923892\n",
      "MG 288062.14418535976\n",
      "AF 400291.0260551646\n",
      "CCF 893470.0089239818\n"
     ]
    }
   ],
   "source": [
    "print('Mean Values:')\n",
    "print('------------')\n",
    "print('G', g_mean)\n",
    "print('MG', mg_mean)\n",
    "print('AF', af_mean)\n",
    "print('CCF', ccf_mean)"
   ]
  },
  {
   "cell_type": "code",
   "execution_count": 827,
   "metadata": {},
   "outputs": [
    {
     "name": "stdout",
     "output_type": "stream",
     "text": [
      "Median Values:\n",
      "------------\n",
      "G 94143536.5\n",
      "MG 155.936\n",
      "AF 731.0\n",
      "CCF 194559.0\n"
     ]
    }
   ],
   "source": [
    "print('Median Values:')\n",
    "print('------------')\n",
    "print('G', g_median)\n",
    "print('MG', mg_median)\n",
    "print('AF', af_median)\n",
    "print('CCF', ccf_median)"
   ]
  },
  {
   "cell_type": "code",
   "execution_count": 828,
   "metadata": {},
   "outputs": [
    {
     "data": {
      "text/plain": [
       "603731.8932126"
      ]
     },
     "execution_count": 828,
     "metadata": {},
     "output_type": "execute_result"
    }
   ],
   "source": [
    "g_median / mg_median"
   ]
  },
  {
   "cell_type": "markdown",
   "metadata": {},
   "source": [
    "If MG is mega/million-gallons this seems like it's close to on the mark "
   ]
  },
  {
   "cell_type": "code",
   "execution_count": 829,
   "metadata": {},
   "outputs": [
    {
     "data": {
      "text/plain": [
       "128787.32763337894"
      ]
     },
     "execution_count": 829,
     "metadata": {},
     "output_type": "execute_result"
    }
   ],
   "source": [
    "g_median / af_median"
   ]
  },
  {
   "cell_type": "markdown",
   "metadata": {},
   "source": [
    "As one acre-foot is 325,851 gallons this seems somewhat reasonable "
   ]
  },
  {
   "cell_type": "code",
   "execution_count": 830,
   "metadata": {},
   "outputs": [
    {
     "data": {
      "text/plain": [
       "483.8816837052"
      ]
     },
     "execution_count": 830,
     "metadata": {},
     "output_type": "execute_result"
    }
   ],
   "source": [
    "g_median / ccf_median"
   ]
  },
  {
   "cell_type": "markdown",
   "metadata": {},
   "source": [
    "One CCF/HCF is 748.052 gallons, so this one seems like it's likely correct"
   ]
  },
  {
   "cell_type": "code",
   "execution_count": null,
   "metadata": {},
   "outputs": [],
   "source": []
  },
  {
   "cell_type": "code",
   "execution_count": 831,
   "metadata": {
    "scrolled": true
   },
   "outputs": [
    {
     "name": "stdout",
     "output_type": "stream",
     "text": [
      "MG\n",
      "['San Francisco Bay' 'San Joaquin River' 'Tulare Lake' 'Sacramento River'\n",
      " 'South Coast' 'Colorado River' 'North Lahontan' 'North Coast'\n",
      " 'Central Coast' 'South Lahontan']\n",
      "\n",
      "G\n",
      "['Central Coast' 'San Joaquin River' 'San Francisco Bay' 'Colorado River'\n",
      " 'North Coast' 'South Lahontan' 'Sacramento River' 'North Lahontan'\n",
      " 'Tulare Lake' 'South Coast']\n",
      "\n",
      "AF\n",
      "['South Coast' 'Sacramento River' 'Colorado River' 'San Francisco Bay'\n",
      " 'South Lahontan' 'North Coast' 'Central Coast' 'Tulare Lake'\n",
      " 'San Joaquin River']\n",
      "\n",
      "CCF\n",
      "['San Francisco Bay' 'Tulare Lake' 'South Coast' 'North Coast'\n",
      " 'South Lahontan' 'Colorado River' 'Sacramento River' 'San Joaquin River']\n",
      "\n"
     ]
    }
   ],
   "source": [
    "conversion_cols = ['reported_final_total_potable_water_production']\n",
    "\n",
    "for i in water['water_production_units'].unique():\n",
    "    print(i)\n",
    "    print(water[water['water_production_units'] == i]['hydrologic_region'].unique())\n",
    "    print()"
   ]
  },
  {
   "cell_type": "markdown",
   "metadata": {},
   "source": [
    "Clearly differences in units used aren't on a hydrologic basis "
   ]
  },
  {
   "cell_type": "code",
   "execution_count": 832,
   "metadata": {
    "scrolled": false
   },
   "outputs": [],
   "source": [
    "# for i in water['water_production_units'].unique():\n",
    "#     print(i)\n",
    "#     print(water[water['water_production_units'] == i]['supplier_name'].unique())\n",
    "#     print()"
   ]
  },
  {
   "cell_type": "code",
   "execution_count": 833,
   "metadata": {},
   "outputs": [
    {
     "data": {
      "text/plain": [
       "supplier_name                                                                 object\n",
       "public_water_system_id                                                        object\n",
       "reporting_month                                                       datetime64[ns]\n",
       "county                                                                        object\n",
       "hydrologic_region                                                             object\n",
       "climate_zone                                                                   int64\n",
       "total_population_served                                                      float64\n",
       "reference_2014_population                                                    float64\n",
       "water_shortage_contingency_stage_invoked                                      object\n",
       "water_production_units                                                        object\n",
       "reported_final_total_potable_water_production                                float64\n",
       "final_percent_residential_use                                                float64\n",
       "reported_final_commercial_industrial_and_institutional_water                 float64\n",
       "calculated_total_potable_water_production_gallons_ag_excluded                float64\n",
       "calculated_total_potable_water_production_gallons_2013_ag_excluded           float64\n",
       "calculated_commercial_agricultural_water_gallons                             float64\n",
       "calculated_commercial_agricultural_water_gallons_2013                        float64\n",
       "calculated_r_gpcd                                                            float64\n",
       "system_id                                                                      int64\n",
       "county_enc                                                                     int64\n",
       "hydro_region_enc                                                               int64\n",
       "dtype: object"
      ]
     },
     "execution_count": 833,
     "metadata": {},
     "output_type": "execute_result"
    }
   ],
   "source": [
    "water.dtypes"
   ]
  },
  {
   "cell_type": "code",
   "execution_count": 834,
   "metadata": {},
   "outputs": [
    {
     "data": {
      "text/plain": [
       "['CCF', 'AF', 'MG']"
      ]
     },
     "execution_count": 834,
     "metadata": {},
     "output_type": "execute_result"
    }
   ],
   "source": [
    "conversions = {\n",
    "    'CCF': 748.052,\n",
    "    'AF': 325_851, \n",
    "    'MG': 1_000_000, \n",
    "    }\n",
    "list(conversions)"
   ]
  },
  {
   "cell_type": "code",
   "execution_count": 835,
   "metadata": {
    "scrolled": false
   },
   "outputs": [],
   "source": [
    "cols = ['reported_final_total_potable_water_production', \n",
    "        'reported_final_commercial_industrial_and_institutional_water']\n",
    "conversions = {\n",
    "    'CCF': 748.052,\n",
    "    'AF': 325_851, \n",
    "    'MG': 1_000_000, \n",
    "    }\n",
    "for i in conversions:\n",
    "    wpu = 'water_production_units'\n",
    "#     water[water[wpu] == i][cols[0]] = water[water[wpu] == i][cols[0]].copy().map(lambda x: x*conversions[i])\n",
    "#     water[water[wpu] == i][cols[1]] = water[water[wpu] == i][cols[1]].copy().map(lambda x: x*conversions[i])\n",
    "    water.loc[water[wpu] == i, cols[0]] = water.loc[water[wpu] == i, cols[0]].copy().map(lambda x: x*conversions[i])\n",
    "    water.loc[water[wpu] == i, cols[1]] = water.loc[water[wpu] == i, cols[1]].copy().map(lambda x: x*conversions[i])"
   ]
  },
  {
   "cell_type": "code",
   "execution_count": 836,
   "metadata": {},
   "outputs": [],
   "source": [
    "# test_category = 'reported_final_commercial_industrial_and_institutional_water'\n",
    "test_category = 'reported_final_total_potable_water_production'\n",
    "\n",
    "g_median = water[water['water_production_units'] == 'G'][test_category].median()\n",
    "mg_median = water[water['water_production_units'] == 'MG'][test_category].median()\n",
    "af_median = water[water['water_production_units'] == 'AF'][test_category].median()\n",
    "ccf_median = water[water['water_production_units'] == 'CCF'][test_category].median()"
   ]
  },
  {
   "cell_type": "code",
   "execution_count": 837,
   "metadata": {},
   "outputs": [
    {
     "data": {
      "text/plain": [
       "0.6037318932126"
      ]
     },
     "execution_count": 837,
     "metadata": {},
     "output_type": "execute_result"
    }
   ],
   "source": [
    "g_median / mg_median"
   ]
  },
  {
   "cell_type": "markdown",
   "metadata": {},
   "source": [
    "---\n",
    "## Water Conservation Cleaning\n",
    "---"
   ]
  },
  {
   "cell_type": "code",
   "execution_count": 838,
   "metadata": {
    "scrolled": true
   },
   "outputs": [
    {
     "data": {
      "text/html": [
       "<div>\n",
       "<style scoped>\n",
       "    .dataframe tbody tr th:only-of-type {\n",
       "        vertical-align: middle;\n",
       "    }\n",
       "\n",
       "    .dataframe tbody tr th {\n",
       "        vertical-align: top;\n",
       "    }\n",
       "\n",
       "    .dataframe thead th {\n",
       "        text-align: right;\n",
       "    }\n",
       "</style>\n",
       "<table border=\"1\" class=\"dataframe\">\n",
       "  <thead>\n",
       "    <tr style=\"text-align: right;\">\n",
       "      <th></th>\n",
       "      <th>Supplier Name</th>\n",
       "      <th>Hydrologic Region</th>\n",
       "      <th>State-mandated Conservation Standard - Previous (3/1/2016)</th>\n",
       "      <th>State-mandated Conservation Standard - Current (Effective 6/1/2016)</th>\n",
       "      <th>Did Supplier Self-certify?</th>\n",
       "      <th>Enforceable Cumulative Percent Savings (as compared to 2013) - June 2015-Aug 2016</th>\n",
       "      <th>June 2016 to Aug 2016 Self-certified?</th>\n",
       "      <th>Applicable Cumulative Savings by Supplier (as compared to 2013)</th>\n",
       "      <th>Missed Conservation Standard By</th>\n",
       "      <th>Order Status</th>\n",
       "      <th>Monthly Savings (as compared to 2013) - Aug 2015</th>\n",
       "      <th>Monthly Savings (as compared to 2013) - Aug 2016</th>\n",
       "      <th>Estimated Aug 2016 Monthly R-GPCD</th>\n",
       "      <th>Total Population Served</th>\n",
       "    </tr>\n",
       "  </thead>\n",
       "  <tbody>\n",
       "    <tr>\n",
       "      <th>0</th>\n",
       "      <td>California City  City of</td>\n",
       "      <td>South Lahontan</td>\n",
       "      <td>28%</td>\n",
       "      <td>28%</td>\n",
       "      <td>No</td>\n",
       "      <td>13.1%</td>\n",
       "      <td>18.0%</td>\n",
       "      <td>13.1%</td>\n",
       "      <td>14.9%</td>\n",
       "      <td>C</td>\n",
       "      <td>16.8%</td>\n",
       "      <td>20.5%</td>\n",
       "      <td>148.5</td>\n",
       "      <td>14,120</td>\n",
       "    </tr>\n",
       "    <tr>\n",
       "      <th>1</th>\n",
       "      <td>Yucaipa Valley Water District</td>\n",
       "      <td>South Coast</td>\n",
       "      <td>34%</td>\n",
       "      <td>20%</td>\n",
       "      <td>Yes</td>\n",
       "      <td>18.3%</td>\n",
       "      <td>7.1%</td>\n",
       "      <td>7.1%</td>\n",
       "      <td>12.9%</td>\n",
       "      <td>NaN</td>\n",
       "      <td>26.4%</td>\n",
       "      <td>11.9%</td>\n",
       "      <td>260.0</td>\n",
       "      <td>45,018</td>\n",
       "    </tr>\n",
       "    <tr>\n",
       "      <th>2</th>\n",
       "      <td>Sanger  City of</td>\n",
       "      <td>Tulare Lake</td>\n",
       "      <td>26%</td>\n",
       "      <td>26%</td>\n",
       "      <td>No</td>\n",
       "      <td>17.3%</td>\n",
       "      <td>12.4%</td>\n",
       "      <td>17.3%</td>\n",
       "      <td>8.7%</td>\n",
       "      <td>NaN</td>\n",
       "      <td>38.0%</td>\n",
       "      <td>17.2%</td>\n",
       "      <td>181.1</td>\n",
       "      <td>25,664</td>\n",
       "    </tr>\n",
       "    <tr>\n",
       "      <th>3</th>\n",
       "      <td>Adelanto City of</td>\n",
       "      <td>South Lahontan</td>\n",
       "      <td>16%</td>\n",
       "      <td>16%</td>\n",
       "      <td>No</td>\n",
       "      <td>9.3%</td>\n",
       "      <td>-10.3%</td>\n",
       "      <td>9.3%</td>\n",
       "      <td>6.7%</td>\n",
       "      <td>C</td>\n",
       "      <td>20.5%</td>\n",
       "      <td>-30.6%</td>\n",
       "      <td>125.5</td>\n",
       "      <td>29,023</td>\n",
       "    </tr>\n",
       "    <tr>\n",
       "      <th>4</th>\n",
       "      <td>Red Bluff  City of</td>\n",
       "      <td>Sacramento River</td>\n",
       "      <td>33%</td>\n",
       "      <td>33%</td>\n",
       "      <td>No</td>\n",
       "      <td>27.8%</td>\n",
       "      <td>19.5%</td>\n",
       "      <td>27.8%</td>\n",
       "      <td>5.2%</td>\n",
       "      <td>NaN</td>\n",
       "      <td>42.4%</td>\n",
       "      <td>30.8%</td>\n",
       "      <td>202.9</td>\n",
       "      <td>14,076</td>\n",
       "    </tr>\n",
       "  </tbody>\n",
       "</table>\n",
       "</div>"
      ],
      "text/plain": [
       "                   Supplier Name  Hydrologic Region  \\\n",
       "0       California City  City of     South Lahontan   \n",
       "1  Yucaipa Valley Water District        South Coast   \n",
       "2                Sanger  City of        Tulare Lake   \n",
       "3               Adelanto City of     South Lahontan   \n",
       "4             Red Bluff  City of   Sacramento River   \n",
       "\n",
       "   State-mandated Conservation Standard - Previous (3/1/2016)  \\\n",
       "0                                                28%            \n",
       "1                                                34%            \n",
       "2                                                26%            \n",
       "3                                                16%            \n",
       "4                                                33%            \n",
       "\n",
       "   State-mandated Conservation Standard - Current (Effective 6/1/2016)  \\\n",
       "0                                                28%                     \n",
       "1                                                20%                     \n",
       "2                                                26%                     \n",
       "3                                                16%                     \n",
       "4                                                33%                     \n",
       "\n",
       "   Did Supplier Self-certify?  \\\n",
       "0                          No   \n",
       "1                         Yes   \n",
       "2                          No   \n",
       "3                          No   \n",
       "4                          No   \n",
       "\n",
       "   Enforceable Cumulative Percent Savings (as compared to 2013) - June 2015-Aug 2016  \\\n",
       "0                                              13.1%                                   \n",
       "1                                              18.3%                                   \n",
       "2                                              17.3%                                   \n",
       "3                                               9.3%                                   \n",
       "4                                              27.8%                                   \n",
       "\n",
       "   June 2016 to Aug 2016 Self-certified?  \\\n",
       "0                                  18.0%   \n",
       "1                                   7.1%   \n",
       "2                                  12.4%   \n",
       "3                                 -10.3%   \n",
       "4                                  19.5%   \n",
       "\n",
       "   Applicable Cumulative Savings by Supplier (as compared to 2013)  \\\n",
       "0                                              13.1%                 \n",
       "1                                               7.1%                 \n",
       "2                                              17.3%                 \n",
       "3                                               9.3%                 \n",
       "4                                              27.8%                 \n",
       "\n",
       "   Missed Conservation Standard By  Order Status  \\\n",
       "0                            14.9%             C   \n",
       "1                            12.9%           NaN   \n",
       "2                             8.7%           NaN   \n",
       "3                             6.7%             C   \n",
       "4                             5.2%           NaN   \n",
       "\n",
       "   Monthly Savings (as compared to 2013) - Aug 2015  \\\n",
       "0                                             16.8%   \n",
       "1                                             26.4%   \n",
       "2                                             38.0%   \n",
       "3                                             20.5%   \n",
       "4                                             42.4%   \n",
       "\n",
       "   Monthly Savings (as compared to 2013) - Aug 2016  \\\n",
       "0                                             20.5%   \n",
       "1                                             11.9%   \n",
       "2                                             17.2%   \n",
       "3                                            -30.6%   \n",
       "4                                             30.8%   \n",
       "\n",
       "    Estimated Aug 2016 Monthly R-GPCD  Total Population Served  \n",
       "0                               148.5                   14,120  \n",
       "1                               260.0                   45,018  \n",
       "2                               181.1                   25,664  \n",
       "3                               125.5                   29,023  \n",
       "4                               202.9                   14,076  "
      ]
     },
     "execution_count": 838,
     "metadata": {},
     "output_type": "execute_result"
    }
   ],
   "source": [
    "conserv.head()"
   ]
  },
  {
   "cell_type": "code",
   "execution_count": 839,
   "metadata": {},
   "outputs": [
    {
     "data": {
      "text/plain": [
       "A    4\n",
       "C    3\n",
       "Name:  Order Status, dtype: int64"
      ]
     },
     "execution_count": 839,
     "metadata": {},
     "output_type": "execute_result"
    }
   ],
   "source": [
    "conserv[' Order Status'].value_counts()"
   ]
  },
  {
   "cell_type": "code",
   "execution_count": 840,
   "metadata": {},
   "outputs": [
    {
     "data": {
      "text/plain": [
       "382"
      ]
     },
     "execution_count": 840,
     "metadata": {},
     "output_type": "execute_result"
    }
   ],
   "source": [
    "conserv[' Order Status'].isnull().sum()"
   ]
  },
  {
   "cell_type": "code",
   "execution_count": 841,
   "metadata": {},
   "outputs": [],
   "source": [
    "conserv = conserv.drop(columns=' Order Status')"
   ]
  },
  {
   "cell_type": "code",
   "execution_count": 842,
   "metadata": {},
   "outputs": [],
   "source": [
    "perc_cols = [' State-mandated Conservation Standard - Previous (3/1/2016)',\n",
    "             ' State-mandated Conservation Standard - Current (Effective 6/1/2016)',\n",
    "             ' Enforceable Cumulative Percent Savings (as compared to 2013) - June 2015-Aug 2016',\n",
    "             ' June 2016 to Aug 2016 Self-certified?',\n",
    "             ' Applicable Cumulative Savings by Supplier (as compared to 2013)',\n",
    "             ' Missed Conservation Standard By',\n",
    "             ' Monthly Savings (as compared to 2013) - Aug 2015',\n",
    "             ' Monthly Savings (as compared to 2013) - Aug 2016',] \n",
    "\n",
    "for i in perc_cols:\n",
    "    conserv[i] = conserv[i].str.strip('%').astype(float)\n"
   ]
  },
  {
   "cell_type": "code",
   "execution_count": 843,
   "metadata": {},
   "outputs": [
    {
     "data": {
      "text/plain": [
       "Index(['Supplier Name', ' Hydrologic Region',\n",
       "       ' State-mandated Conservation Standard - Previous (3/1/2016)',\n",
       "       ' State-mandated Conservation Standard - Current (Effective 6/1/2016)',\n",
       "       ' Did Supplier Self-certify?',\n",
       "       ' Enforceable Cumulative Percent Savings (as compared to 2013) - June 2015-Aug 2016',\n",
       "       ' June 2016 to Aug 2016 Self-certified?',\n",
       "       ' Applicable Cumulative Savings by Supplier (as compared to 2013)',\n",
       "       ' Missed Conservation Standard By',\n",
       "       ' Monthly Savings (as compared to 2013) - Aug 2015',\n",
       "       ' Monthly Savings (as compared to 2013) - Aug 2016',\n",
       "       ' Estimated Aug 2016 Monthly R-GPCD', ' Total Population Served'],\n",
       "      dtype='object')"
      ]
     },
     "execution_count": 843,
     "metadata": {},
     "output_type": "execute_result"
    }
   ],
   "source": [
    "conserv.columns"
   ]
  },
  {
   "cell_type": "code",
   "execution_count": 844,
   "metadata": {
    "scrolled": true
   },
   "outputs": [
    {
     "data": {
      "text/plain": [
       "Supplier Name                                                                          object\n",
       " Hydrologic Region                                                                     object\n",
       " State-mandated Conservation Standard - Previous (3/1/2016)                           float64\n",
       " State-mandated Conservation Standard - Current (Effective 6/1/2016)                  float64\n",
       " Did Supplier Self-certify?                                                            object\n",
       " Enforceable Cumulative Percent Savings (as compared to 2013) - June 2015-Aug 2016    float64\n",
       " June 2016 to Aug 2016 Self-certified?                                                float64\n",
       " Applicable Cumulative Savings by Supplier (as compared to 2013)                      float64\n",
       " Missed Conservation Standard By                                                      float64\n",
       " Monthly Savings (as compared to 2013) - Aug 2015                                     float64\n",
       " Monthly Savings (as compared to 2013) - Aug 2016                                     float64\n",
       " Estimated Aug 2016 Monthly R-GPCD                                                    float64\n",
       " Total Population Served                                                               object\n",
       "dtype: object"
      ]
     },
     "execution_count": 844,
     "metadata": {},
     "output_type": "execute_result"
    }
   ],
   "source": [
    "conserv.dtypes"
   ]
  },
  {
   "cell_type": "code",
   "execution_count": 845,
   "metadata": {},
   "outputs": [
    {
     "data": {
      "text/plain": [
       "0"
      ]
     },
     "execution_count": 845,
     "metadata": {},
     "output_type": "execute_result"
    }
   ],
   "source": [
    "conserv[' Total Population Served'].isnull().sum()"
   ]
  },
  {
   "cell_type": "code",
   "execution_count": 846,
   "metadata": {},
   "outputs": [],
   "source": [
    "conserv[' Total Population Served'] = conserv[' Total Population Served'].str.split(',').map(''.join).astype(int)"
   ]
  },
  {
   "cell_type": "code",
   "execution_count": 847,
   "metadata": {
    "scrolled": true
   },
   "outputs": [
    {
     "data": {
      "text/plain": [
       "Yes    361\n",
       "No      28\n",
       "Name:  Did Supplier Self-certify?, dtype: int64"
      ]
     },
     "execution_count": 847,
     "metadata": {},
     "output_type": "execute_result"
    }
   ],
   "source": [
    "conserv[' Did Supplier Self-certify?'].value_counts()"
   ]
  },
  {
   "cell_type": "code",
   "execution_count": 848,
   "metadata": {},
   "outputs": [],
   "source": [
    "conserv[' Did Supplier Self-certify?'] = conserv[' Did Supplier Self-certify?'].map({'Yes': 1, \n",
    "                                                                                    'No': 0})"
   ]
  },
  {
   "cell_type": "code",
   "execution_count": 849,
   "metadata": {},
   "outputs": [],
   "source": [
    "conserv = conserv.rename(columns={' Hydrologic Region': 'hydrologic_region'})"
   ]
  },
  {
   "cell_type": "code",
   "execution_count": 850,
   "metadata": {},
   "outputs": [],
   "source": [
    "conserv['hydrologic_region'] = conserv['hydrologic_region'].map(hydro_regions)"
   ]
  },
  {
   "cell_type": "code",
   "execution_count": 851,
   "metadata": {
    "scrolled": true
   },
   "outputs": [
    {
     "data": {
      "text/plain": [
       "Index(['Supplier Name', 'hydrologic_region',\n",
       "       ' State-mandated Conservation Standard - Previous (3/1/2016)',\n",
       "       ' State-mandated Conservation Standard - Current (Effective 6/1/2016)',\n",
       "       ' Did Supplier Self-certify?',\n",
       "       ' Enforceable Cumulative Percent Savings (as compared to 2013) - June 2015-Aug 2016',\n",
       "       ' June 2016 to Aug 2016 Self-certified?',\n",
       "       ' Applicable Cumulative Savings by Supplier (as compared to 2013)',\n",
       "       ' Missed Conservation Standard By',\n",
       "       ' Monthly Savings (as compared to 2013) - Aug 2015',\n",
       "       ' Monthly Savings (as compared to 2013) - Aug 2016',\n",
       "       ' Estimated Aug 2016 Monthly R-GPCD', ' Total Population Served'],\n",
       "      dtype='object')"
      ]
     },
     "execution_count": 851,
     "metadata": {},
     "output_type": "execute_result"
    }
   ],
   "source": [
    "conserv.columns"
   ]
  },
  {
   "cell_type": "code",
   "execution_count": 852,
   "metadata": {},
   "outputs": [],
   "source": [
    "rename = {'Supplier Name': 'supplier_name',\n",
    "          ' Hydrologic Region': 'hydrologic_region', \n",
    "          ' State-mandated Conservation Standard - Previous (3/1/2016)': 'prev_conserve_standard',\n",
    "          ' State-mandated Conservation Standard - Current (Effective 6/1/2016)': 'current_conserve_standard',\n",
    "          ' Did Supplier Self-certify?': 'self_cert',\n",
    "          ' Enforceable Cumulative Percent Savings (as compared to 2013) - June 2015-Aug 2016': 'pct_enforcable_savings',\n",
    "          ' June 2016 to Aug 2016 Self-certified?': 'self_cert_2016',\n",
    "          ' Applicable Cumulative Savings by Supplier (as compared to 2013)': 'cumulative_savings',\n",
    "          ' Missed Conservation Standard By': 'missed_standard_by',\n",
    "          ' Monthly Savings (as compared to 2013) - Aug 2015': 'monthly_savings_aug_2015',\n",
    "          ' Monthly Savings (as compared to 2013) - Aug 2016': 'monthly_savings_aug_2016',\n",
    "          ' Estimated Aug 2016 Monthly R-GPCD': 'r_gpcd_2016', \n",
    "          ' Total Population Served': 'pop_served'\n",
    "         }\n",
    "conserv = conserv.rename(columns=rename)"
   ]
  },
  {
   "cell_type": "markdown",
   "metadata": {},
   "source": [
    "---\n",
    "## Create Cleaned Data Tables\n",
    "---"
   ]
  },
  {
   "cell_type": "code",
   "execution_count": 853,
   "metadata": {},
   "outputs": [],
   "source": [
    "# keeping counties and hydrologic reasons for inference \n",
    "reverse_counties = {b: a for a, b in counties.items()}\n",
    "reverse_hydro  = {b: a for a, b in hydro_regions.items()}\n",
    "counties_df = pd.DataFrame.from_dict(reverse_counties, orient='index')\n",
    "counties_df = counties_df.rename(columns={0: 'County'})\n",
    "hydro_region_df =  pd.DataFrame.from_dict(reverse_hydro, orient='index')\n",
    "hydro_region_df = hydro_region_df.rename(columns={0: 'hydrologic_region'})"
   ]
  },
  {
   "cell_type": "code",
   "execution_count": 854,
   "metadata": {},
   "outputs": [
    {
     "data": {
      "text/html": [
       "<div>\n",
       "<style scoped>\n",
       "    .dataframe tbody tr th:only-of-type {\n",
       "        vertical-align: middle;\n",
       "    }\n",
       "\n",
       "    .dataframe tbody tr th {\n",
       "        vertical-align: top;\n",
       "    }\n",
       "\n",
       "    .dataframe thead th {\n",
       "        text-align: right;\n",
       "    }\n",
       "</style>\n",
       "<table border=\"1\" class=\"dataframe\">\n",
       "  <thead>\n",
       "    <tr style=\"text-align: right;\">\n",
       "      <th></th>\n",
       "      <th>County</th>\n",
       "    </tr>\n",
       "  </thead>\n",
       "  <tbody>\n",
       "    <tr>\n",
       "      <th>0</th>\n",
       "      <td>Alameda,Contra Costa</td>\n",
       "    </tr>\n",
       "    <tr>\n",
       "      <th>1</th>\n",
       "      <td>San Luis Obispo</td>\n",
       "    </tr>\n",
       "    <tr>\n",
       "      <th>2</th>\n",
       "      <td>Orange</td>\n",
       "    </tr>\n",
       "    <tr>\n",
       "      <th>3</th>\n",
       "      <td>Los Angeles</td>\n",
       "    </tr>\n",
       "    <tr>\n",
       "      <th>4</th>\n",
       "      <td>Merced</td>\n",
       "    </tr>\n",
       "    <tr>\n",
       "      <th>...</th>\n",
       "      <td>...</td>\n",
       "    </tr>\n",
       "    <tr>\n",
       "      <th>57</th>\n",
       "      <td>Siskiyou</td>\n",
       "    </tr>\n",
       "    <tr>\n",
       "      <th>58</th>\n",
       "      <td>Mendocino</td>\n",
       "    </tr>\n",
       "    <tr>\n",
       "      <th>59</th>\n",
       "      <td>Lassen</td>\n",
       "    </tr>\n",
       "    <tr>\n",
       "      <th>60</th>\n",
       "      <td>Tehama</td>\n",
       "    </tr>\n",
       "    <tr>\n",
       "      <th>61</th>\n",
       "      <td>Shasta</td>\n",
       "    </tr>\n",
       "  </tbody>\n",
       "</table>\n",
       "<p>62 rows × 1 columns</p>\n",
       "</div>"
      ],
      "text/plain": [
       "                  County\n",
       "0   Alameda,Contra Costa\n",
       "1        San Luis Obispo\n",
       "2                 Orange\n",
       "3            Los Angeles\n",
       "4                 Merced\n",
       "..                   ...\n",
       "57              Siskiyou\n",
       "58             Mendocino\n",
       "59                Lassen\n",
       "60                Tehama\n",
       "61                Shasta\n",
       "\n",
       "[62 rows x 1 columns]"
      ]
     },
     "execution_count": 854,
     "metadata": {},
     "output_type": "execute_result"
    }
   ],
   "source": [
    "counties_df"
   ]
  },
  {
   "cell_type": "code",
   "execution_count": 855,
   "metadata": {},
   "outputs": [
    {
     "data": {
      "text/html": [
       "<div>\n",
       "<style scoped>\n",
       "    .dataframe tbody tr th:only-of-type {\n",
       "        vertical-align: middle;\n",
       "    }\n",
       "\n",
       "    .dataframe tbody tr th {\n",
       "        vertical-align: top;\n",
       "    }\n",
       "\n",
       "    .dataframe thead th {\n",
       "        text-align: right;\n",
       "    }\n",
       "</style>\n",
       "<table border=\"1\" class=\"dataframe\">\n",
       "  <thead>\n",
       "    <tr style=\"text-align: right;\">\n",
       "      <th></th>\n",
       "      <th>supplier_name</th>\n",
       "      <th>system_id</th>\n",
       "    </tr>\n",
       "  </thead>\n",
       "  <tbody>\n",
       "    <tr>\n",
       "      <th>0</th>\n",
       "      <td>East Bay Municipal Utilities District</td>\n",
       "      <td>110005</td>\n",
       "    </tr>\n",
       "    <tr>\n",
       "      <th>1</th>\n",
       "      <td>Morro Bay  City of</td>\n",
       "      <td>4010011</td>\n",
       "    </tr>\n",
       "    <tr>\n",
       "      <th>2</th>\n",
       "      <td>Yorba Linda Water District</td>\n",
       "      <td>3010037</td>\n",
       "    </tr>\n",
       "    <tr>\n",
       "      <th>3</th>\n",
       "      <td>Long Beach  City of</td>\n",
       "      <td>1910065</td>\n",
       "    </tr>\n",
       "    <tr>\n",
       "      <th>4</th>\n",
       "      <td>Los Banos, City of</td>\n",
       "      <td>2410005</td>\n",
       "    </tr>\n",
       "  </tbody>\n",
       "</table>\n",
       "</div>"
      ],
      "text/plain": [
       "                           supplier_name  system_id\n",
       "0  East Bay Municipal Utilities District     110005\n",
       "1                     Morro Bay  City of    4010011\n",
       "2             Yorba Linda Water District    3010037\n",
       "3                    Long Beach  City of    1910065\n",
       "4                     Los Banos, City of    2410005"
      ]
     },
     "execution_count": 855,
     "metadata": {},
     "output_type": "execute_result"
    }
   ],
   "source": [
    "# keeping a list of supplier names for later use \n",
    "supplier_names = water[['supplier_name', 'system_id']]\n",
    "supplier_names = supplier_names.drop_duplicates()\n",
    "supplier_names = supplier_names.reset_index(drop=True)\n",
    "supplier_names.head()"
   ]
  },
  {
   "cell_type": "code",
   "execution_count": 856,
   "metadata": {},
   "outputs": [
    {
     "data": {
      "text/plain": [
       "(32425, 15)"
      ]
     },
     "execution_count": 856,
     "metadata": {},
     "output_type": "execute_result"
    }
   ],
   "source": [
    "cleaned_water = water.select_dtypes(np.number)\n",
    "cleaned_water = cleaned_water.merge(water['reporting_month'], how='inner', \n",
    "                                    left_index=True, right_index=True)\n",
    "cleaned_water = cleaned_water.reset_index(drop=True)\n",
    "cleaned_water = cleaned_water.rename(columns={\"reporting_month\": \"reporting_date\",})\n",
    "cleaned_water.shape"
   ]
  },
  {
   "cell_type": "code",
   "execution_count": 857,
   "metadata": {},
   "outputs": [
    {
     "data": {
      "text/plain": [
       "climate_zone                                                                   int64\n",
       "total_population_served                                                      float64\n",
       "reference_2014_population                                                    float64\n",
       "reported_final_total_potable_water_production                                float64\n",
       "final_percent_residential_use                                                float64\n",
       "reported_final_commercial_industrial_and_institutional_water                 float64\n",
       "calculated_total_potable_water_production_gallons_ag_excluded                float64\n",
       "calculated_total_potable_water_production_gallons_2013_ag_excluded           float64\n",
       "calculated_commercial_agricultural_water_gallons                             float64\n",
       "calculated_commercial_agricultural_water_gallons_2013                        float64\n",
       "calculated_r_gpcd                                                            float64\n",
       "system_id                                                                      int64\n",
       "county_enc                                                                     int64\n",
       "hydro_region_enc                                                               int64\n",
       "reporting_date                                                        datetime64[ns]\n",
       "dtype: object"
      ]
     },
     "execution_count": 857,
     "metadata": {},
     "output_type": "execute_result"
    }
   ],
   "source": [
    "cleaned_water.dtypes"
   ]
  },
  {
   "cell_type": "markdown",
   "metadata": {},
   "source": [
    "---\n",
    "## Exports \n",
    "---"
   ]
  },
  {
   "cell_type": "code",
   "execution_count": 858,
   "metadata": {},
   "outputs": [],
   "source": [
    "hydro_region_df.to_csv('./cleaned_datasets/hydrologic_regions.csv', index=False)\n",
    "counties_df.to_csv('./cleaned_datasets/counties.csv', index=False)\n",
    "supplier_names.to_csv('./cleaned_datasets/supplier_names.csv', index=False)\n",
    "cleaned_water.to_csv('./cleaned_datasets/water_suppliers.csv', index=False)\n",
    "conserv.to_csv('./cleaned_datasets/conservation.csv', index=False)"
   ]
  }
 ],
 "metadata": {
  "kernelspec": {
   "display_name": "Python [conda env:dsi]",
   "language": "python",
   "name": "conda-env-dsi-py"
  },
  "language_info": {
   "codemirror_mode": {
    "name": "ipython",
    "version": 3
   },
   "file_extension": ".py",
   "mimetype": "text/x-python",
   "name": "python",
   "nbconvert_exporter": "python",
   "pygments_lexer": "ipython3",
   "version": "3.8.8"
  }
 },
 "nbformat": 4,
 "nbformat_minor": 4
}
